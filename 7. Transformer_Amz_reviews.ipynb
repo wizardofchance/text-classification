{
  "nbformat": 4,
  "nbformat_minor": 0,
  "metadata": {
    "colab": {
      "provenance": [],
      "machine_shape": "hm"
    },
    "kernelspec": {
      "name": "python3",
      "display_name": "Python 3"
    },
    "language_info": {
      "name": "python"
    },
    "accelerator": "GPU",
    "widgets": {
      "application/vnd.jupyter.widget-state+json": {
        "5a5c0b77794041f99eef0a3291201f31": {
          "model_module": "@jupyter-widgets/controls",
          "model_name": "HBoxModel",
          "state": {
            "_view_name": "HBoxView",
            "_dom_classes": [],
            "_model_name": "HBoxModel",
            "_view_module": "@jupyter-widgets/controls",
            "_model_module_version": "1.5.0",
            "_view_count": null,
            "_view_module_version": "1.5.0",
            "box_style": "",
            "layout": "IPY_MODEL_695d469b52c844f99d5b7cfc486734aa",
            "_model_module": "@jupyter-widgets/controls",
            "children": [
              "IPY_MODEL_461145d4488b4e6ab231c1731d760bfd",
              "IPY_MODEL_5c99656c3a4e47909ab506825db19fec"
            ]
          },
          "model_module_version": "1.5.0"
        },
        "695d469b52c844f99d5b7cfc486734aa": {
          "model_module": "@jupyter-widgets/base",
          "model_name": "LayoutModel",
          "state": {
            "_view_name": "LayoutView",
            "grid_template_rows": null,
            "right": null,
            "justify_content": null,
            "_view_module": "@jupyter-widgets/base",
            "overflow": null,
            "_model_module_version": "1.2.0",
            "_view_count": null,
            "flex_flow": null,
            "width": null,
            "min_width": null,
            "border": null,
            "align_items": null,
            "bottom": null,
            "_model_module": "@jupyter-widgets/base",
            "top": null,
            "grid_column": null,
            "overflow_y": null,
            "overflow_x": null,
            "grid_auto_flow": null,
            "grid_area": null,
            "grid_template_columns": null,
            "flex": null,
            "_model_name": "LayoutModel",
            "justify_items": null,
            "grid_row": null,
            "max_height": null,
            "align_content": null,
            "visibility": null,
            "align_self": null,
            "height": null,
            "min_height": null,
            "padding": null,
            "grid_auto_rows": null,
            "grid_gap": null,
            "max_width": null,
            "order": null,
            "_view_module_version": "1.2.0",
            "grid_template_areas": null,
            "object_position": null,
            "object_fit": null,
            "grid_auto_columns": null,
            "margin": null,
            "display": null,
            "left": null
          },
          "model_module_version": "1.2.0"
        },
        "461145d4488b4e6ab231c1731d760bfd": {
          "model_module": "@jupyter-widgets/controls",
          "model_name": "FloatProgressModel",
          "state": {
            "_view_name": "ProgressView",
            "style": "IPY_MODEL_d3c4390d6aa145bcba78ea4fbfcaa0b2",
            "_dom_classes": [],
            "description": "100%",
            "_model_name": "FloatProgressModel",
            "bar_style": "success",
            "max": 15,
            "_view_module": "@jupyter-widgets/controls",
            "_model_module_version": "1.5.0",
            "value": 15,
            "_view_count": null,
            "_view_module_version": "1.5.0",
            "orientation": "horizontal",
            "min": 0,
            "description_tooltip": null,
            "_model_module": "@jupyter-widgets/controls",
            "layout": "IPY_MODEL_c59bf02b77ea4c8a8bd064defc5e7fd1"
          },
          "model_module_version": "1.5.0"
        },
        "5c99656c3a4e47909ab506825db19fec": {
          "model_module": "@jupyter-widgets/controls",
          "model_name": "HTMLModel",
          "state": {
            "_view_name": "HTMLView",
            "style": "IPY_MODEL_a6419dfd2ca2491c83765ce35fb949ba",
            "_dom_classes": [],
            "description": "",
            "_model_name": "HTMLModel",
            "placeholder": "​",
            "_view_module": "@jupyter-widgets/controls",
            "_model_module_version": "1.5.0",
            "value": " 15/15 [04:24&lt;00:00, 17.62s/epoch, loss=5.62, TP=1.96e+6, TN=3.29e+5, FP=4.55e+4, FN=3.27e+5, val_loss=0.372, val_TP=2.03e+6, val_TN=3.41e+5, val_FP=4.67e+4, val_FN=3.37e+5]",
            "_view_count": null,
            "_view_module_version": "1.5.0",
            "description_tooltip": null,
            "_model_module": "@jupyter-widgets/controls",
            "layout": "IPY_MODEL_ca7c068196a8463d827e817cb1c42a71"
          },
          "model_module_version": "1.5.0"
        },
        "d3c4390d6aa145bcba78ea4fbfcaa0b2": {
          "model_module": "@jupyter-widgets/controls",
          "model_name": "ProgressStyleModel",
          "state": {
            "_view_name": "StyleView",
            "_model_name": "ProgressStyleModel",
            "description_width": "initial",
            "_view_module": "@jupyter-widgets/base",
            "_model_module_version": "1.5.0",
            "_view_count": null,
            "_view_module_version": "1.2.0",
            "bar_color": null,
            "_model_module": "@jupyter-widgets/controls"
          },
          "model_module_version": "1.5.0"
        },
        "c59bf02b77ea4c8a8bd064defc5e7fd1": {
          "model_module": "@jupyter-widgets/base",
          "model_name": "LayoutModel",
          "state": {
            "_view_name": "LayoutView",
            "grid_template_rows": null,
            "right": null,
            "justify_content": null,
            "_view_module": "@jupyter-widgets/base",
            "overflow": null,
            "_model_module_version": "1.2.0",
            "_view_count": null,
            "flex_flow": null,
            "width": null,
            "min_width": null,
            "border": null,
            "align_items": null,
            "bottom": null,
            "_model_module": "@jupyter-widgets/base",
            "top": null,
            "grid_column": null,
            "overflow_y": null,
            "overflow_x": null,
            "grid_auto_flow": null,
            "grid_area": null,
            "grid_template_columns": null,
            "flex": null,
            "_model_name": "LayoutModel",
            "justify_items": null,
            "grid_row": null,
            "max_height": null,
            "align_content": null,
            "visibility": null,
            "align_self": null,
            "height": null,
            "min_height": null,
            "padding": null,
            "grid_auto_rows": null,
            "grid_gap": null,
            "max_width": null,
            "order": null,
            "_view_module_version": "1.2.0",
            "grid_template_areas": null,
            "object_position": null,
            "object_fit": null,
            "grid_auto_columns": null,
            "margin": null,
            "display": null,
            "left": null
          },
          "model_module_version": "1.2.0"
        },
        "a6419dfd2ca2491c83765ce35fb949ba": {
          "model_module": "@jupyter-widgets/controls",
          "model_name": "DescriptionStyleModel",
          "state": {
            "_view_name": "StyleView",
            "_model_name": "DescriptionStyleModel",
            "description_width": "",
            "_view_module": "@jupyter-widgets/base",
            "_model_module_version": "1.5.0",
            "_view_count": null,
            "_view_module_version": "1.2.0",
            "_model_module": "@jupyter-widgets/controls"
          },
          "model_module_version": "1.5.0"
        },
        "ca7c068196a8463d827e817cb1c42a71": {
          "model_module": "@jupyter-widgets/base",
          "model_name": "LayoutModel",
          "state": {
            "_view_name": "LayoutView",
            "grid_template_rows": null,
            "right": null,
            "justify_content": null,
            "_view_module": "@jupyter-widgets/base",
            "overflow": null,
            "_model_module_version": "1.2.0",
            "_view_count": null,
            "flex_flow": null,
            "width": null,
            "min_width": null,
            "border": null,
            "align_items": null,
            "bottom": null,
            "_model_module": "@jupyter-widgets/base",
            "top": null,
            "grid_column": null,
            "overflow_y": null,
            "overflow_x": null,
            "grid_auto_flow": null,
            "grid_area": null,
            "grid_template_columns": null,
            "flex": null,
            "_model_name": "LayoutModel",
            "justify_items": null,
            "grid_row": null,
            "max_height": null,
            "align_content": null,
            "visibility": null,
            "align_self": null,
            "height": null,
            "min_height": null,
            "padding": null,
            "grid_auto_rows": null,
            "grid_gap": null,
            "max_width": null,
            "order": null,
            "_view_module_version": "1.2.0",
            "grid_template_areas": null,
            "object_position": null,
            "object_fit": null,
            "grid_auto_columns": null,
            "margin": null,
            "display": null,
            "left": null
          },
          "model_module_version": "1.2.0"
        }
      }
    }
  },
  "cells": [
    {
      "cell_type": "code",
      "metadata": {
        "id": "TwJIcDYCnPXh",
        "colab": {
          "base_uri": "https://localhost:8080/"
        },
        "outputId": "d29bc902-afe6-4141-f449-b64252400040"
      },
      "source": [
        "from google.colab import drive\n",
        "drive.mount(\"/content/gdrive\", force_remount=True)"
      ],
      "execution_count": null,
      "outputs": [
        {
          "output_type": "stream",
          "text": [
            "Mounted at /content/gdrive\n"
          ],
          "name": "stdout"
        }
      ]
    },
    {
      "cell_type": "code",
      "metadata": {
        "id": "ioHSqfxXYIeE"
      },
      "source": [
        "import numpy as np\n",
        "import pandas as pd\n",
        "import matplotlib.pyplot as plt\n",
        "from matplotlib import style\n",
        "plt.style.use('seaborn-whitegrid')\n",
        "\n",
        "import tensorflow as tf\n",
        "from tensorflow import keras\n",
        "from keras import layers\n",
        "from keras.models import Model\n",
        "\n",
        "from progressbar import ProgressBar"
      ],
      "execution_count": null,
      "outputs": []
    },
    {
      "cell_type": "code",
      "metadata": {
        "id": "VJ7HTgwqYIQj"
      },
      "source": [],
      "execution_count": null,
      "outputs": []
    },
    {
      "cell_type": "code",
      "metadata": {
        "id": "qYq4JLSTdKg1"
      },
      "source": [
        "def fn_divide(a, b): return np.divide(a+1e-6, b+1e-6)\n",
        "\n",
        "\n",
        "def fn_standardize_df(df_tr_, df_ts_):\n",
        "\n",
        "    from sklearn.preprocessing import StandardScaler\n",
        "    df_tr, df_ts = df_tr_, df_ts_\n",
        "    X_train, X_test = df_tr.iloc[:, :-1].values, df_ts.iloc[:, :-1].values\n",
        "\n",
        "    scaler = StandardScaler().fit(X_train)\n",
        "    X_train = scaler.transform(X_train)\n",
        "    X_test  = scaler.transform(X_test)\n",
        "\n",
        "    df_tr = pd.DataFrame(X_train, columns = df_tr.columns[:-1]).assign(labels = df_tr.labels.values)\n",
        "    df_ts = pd.DataFrame(X_test, columns  = df_ts.columns[:-1]).assign(labels = df_ts.labels.values)\n",
        "\n",
        "    return df_tr, df_ts, scaler\n",
        "\n",
        "\n",
        "def fn_acc(con_matrix):\n",
        "\n",
        "    actual_total = con_matrix.sum(axis = 1)\n",
        "    correct_preds = con_matrix.diagonal()\n",
        "    acc = fn_divide(correct_preds.sum(), actual_total.sum())\n",
        "    return np.round(100*acc, 3)\n",
        "\n",
        "\n",
        "\n",
        "def fn_logloss(model_, X_, y_, labels = [0, 1]):\n",
        "\n",
        "    y_pred = model_.predict(X_)\n",
        "    bce = tf.keras.losses.BinaryCrossentropy()\n",
        "    loss = bce(y_.reshape(-1, 1), y_pred.reshape(-1, 1)).numpy()\n",
        "    return loss.item()\n",
        "\n",
        "\n",
        "\n",
        "def fn_con_matrix_binary(model_, X_, y_, threshold_class_1 = 0.5):\n",
        "\n",
        "    from sklearn.metrics import confusion_matrix\n",
        "\n",
        "    proba_cls_1 = model_.predict(X_)\n",
        "\n",
        "    y_pred = np.array([1 if i > threshold_class_1 else 0 for i in proba_cls_1])\n",
        "\n",
        "    con_matrix = confusion_matrix(y_, y_pred)\n",
        "\n",
        "    return con_matrix\n",
        "\n",
        "\n",
        "\n",
        "def fn_prec_vec(con_matrix):\n",
        "\n",
        "    pred_total = con_matrix.sum(axis = 0)\n",
        "    correct_preds = con_matrix.diagonal()\n",
        "    prec_vec = fn_divide(correct_preds, pred_total)\n",
        "\n",
        "    return 100*prec_vec.round(3)\n",
        "\n",
        "\n",
        "\n",
        "def fn_rec_vec(con_matrix):\n",
        "\n",
        "    actual_total = con_matrix.sum(axis = 1)\n",
        "    correct_preds = con_matrix.diagonal()\n",
        "    rec_vec = fn_divide(correct_preds, actual_total)\n",
        "\n",
        "    return 100*rec_vec.round(3)\n",
        "\n",
        "\n",
        "\n",
        "def fn_model_perform_thresholds(model_, X_, y_, listO_thresh_cls_1, NN=False):\n",
        "\n",
        "    from sklearn.metrics import confusion_matrix\n",
        "    if NN == False:\n",
        "        probas_both_cls = model_.predict_proba(X_)\n",
        "        proba_cls_1 = probas_both_cls[:, 1]\n",
        "    else:\n",
        "        proba_cls_1 = model_.predict(X_)\n",
        "\n",
        "    listO_metrics = []\n",
        "\n",
        "    for thresh in listO_thresh_cls_1:\n",
        "        y_pred = np.array([1 if i > thresh else 0 for i in proba_cls_1])\n",
        "        con_matrix = confusion_matrix(y_, y_pred)\n",
        "        prec_vec, rec_vec = fn_prec_vec(con_matrix), fn_rec_vec(con_matrix)\n",
        "        listO_metrics.append([*prec_vec, *rec_vec, thresh])\n",
        "\n",
        "    df_model_perform_thresholds = pd.DataFrame(np.array(listO_metrics))\n",
        "    df_model_perform_thresholds.columns = ['prec_0', 'prec_1', 'rec_0', 'rec_1', 'thresh']\n",
        "\n",
        "    return df_model_perform_thresholds\n",
        "\n",
        "\n",
        "\n",
        "\n",
        "\n",
        "def fn_performance_models_data(listO_models, df_Xy_, legend, NN = False,\n",
        "                               listO_thresh_cls_1 = np.linspace(0, 1, 10),\n",
        "                               figsize=(15, 10)):\n",
        "\n",
        "    X_test, y_test = df_Xy_.iloc[:, :-1].values, df_Xy_.iloc[:, -1].values\n",
        "\n",
        "    plot_1, plot_2 = 'thresh rec_1', 'thresh prec_1'\n",
        "    plot_3, plot_4 = 'thresh rec_0', 'thresh prec_0'\n",
        "\n",
        "    listO_plot_titles = [plot_1, plot_2, plot_3, plot_4]\n",
        "    subplot_grid = [2, 2]\n",
        "\n",
        "    fig, axes = plt.subplots(*subplot_grid, figsize=figsize, sharey = False)\n",
        "    axes = axes.ravel()\n",
        "    for plot_n, title in enumerate(listO_plot_titles):\n",
        "        x_axis, y_axis = title.split()\n",
        "\n",
        "        for idx, model in enumerate(listO_models):\n",
        "\n",
        "            df_model_perform_thresholds = fn_model_perform_thresholds(model, X_test, y_test,\n",
        "                                                                      listO_thresh_cls_1 = listO_thresh_cls_1,\n",
        "                                                                      NN = NN)\n",
        "            df = df_model_perform_thresholds.sort_values(by = x_axis)\n",
        "            axes[plot_n].plot(df[x_axis], df[y_axis], label = f'{legend[idx]}')\n",
        "            title_1 = x_axis + ' - ' + y_axis\n",
        "            axes[plot_n].set_xlabel(x_axis.upper())\n",
        "            axes[plot_n].set_ylabel(y_axis.upper())\n",
        "            axes[plot_n].set_title(title_1.upper())\n",
        "\n",
        "        axes[plot_n].legend(prop={'size':12})\n",
        "\n",
        "    plt.tight_layout()\n",
        "\n",
        "\n",
        "\n",
        "def fn_test_model_binary_clf(df_Xy_, model_, threshold_class_1 = 0.5):\n",
        "\n",
        "    df, model = df_Xy_, model_\n",
        "    X, y = df.iloc[:, :-1].values, df.iloc[:, -1].values.ravel()\n",
        "\n",
        "    con_matrix = fn_con_matrix_binary(model, X, y, threshold_class_1 = threshold_class_1)\n",
        "    loss = fn_logloss(model, X, y)\n",
        "    acc =  fn_acc(con_matrix)\n",
        "    prec_vec = fn_prec_vec(con_matrix)\n",
        "    rec_vec  = fn_rec_vec(con_matrix)\n",
        "\n",
        "    df = pd.DataFrame().assign(prec = prec_vec, rec = rec_vec)\n",
        "    df.index = ['class_' + str(i) for i in range(len(df))]\n",
        "    print('--------------------')\n",
        "    print(f'LOGLOSS : {round(loss, 4)}')\n",
        "    print(f'ACCURACY: {round(acc, 3)}')\n",
        "    print('--------------------')\n",
        "    print()\n",
        "\n",
        "    return df.round(3)"
      ],
      "execution_count": null,
      "outputs": []
    },
    {
      "cell_type": "code",
      "metadata": {
        "id": "DwYFaxZ2dKeR"
      },
      "source": [
        "def fn_NN_binary_clf(model, optimizer, df_tr, df_ts, model_save_path, batch_size=2048,\n",
        "                     epochs=5, class_weight = {0:50, 1:50}):\n",
        "\n",
        "    from tqdm.keras import TqdmCallback\n",
        "\n",
        "    def fn_binary_metrics(df_history):\n",
        "\n",
        "        df = df_history+1e-6\n",
        "        TP, TN = df.TP.values, df.TN.values\n",
        "        FP, FN = df.FP.values, df.FN.values\n",
        "        rec_1,   rec_0 = TP/(TP+FN), TN/(TN+FP)\n",
        "        prec_1, prec_0 = TP/(TP+FP), TN/(TN+FN)\n",
        "\n",
        "        val_TP, val_TN = df.val_TP.values, df.val_TN.values\n",
        "        val_FP, val_FN = df.val_FP.values, df.val_FN.values\n",
        "        val_rec_1,   val_rec_0 = val_TP/(val_TP+val_FN), val_TN/(val_TN+val_FP)\n",
        "        val_prec_1, val_prec_0 = val_TP/(val_TP+val_FP), val_TN/(val_TN+val_FN)\n",
        "\n",
        "        diff_rec_1, diff_prec_1 = abs(rec_1 - val_rec_1), abs(prec_1 - val_prec_1)\n",
        "        diff_rec_0, diff_prec_0 = abs(rec_0 - val_rec_0), abs(prec_0 - val_prec_0)\n",
        "\n",
        "        return dict(tr_loss =  df.loss, ts_loss = df.val_loss,\n",
        "                    tr_rec_1 = rec_1, tr_rec_0 = rec_0,\n",
        "                    tr_prec_1 = prec_1, tr_prec_0 = prec_0,\n",
        "                    diff_rec_1 = diff_rec_1, diff_prec_1 = diff_prec_1,\n",
        "                    diff_rec_0 = diff_rec_0, diff_prec_0 = diff_prec_0)\n",
        "\n",
        "    X_tr = df_tr.iloc[:, :-1].values\n",
        "    X_ts = df_ts.iloc[:, :-1].values\n",
        "    y_tr = df_tr.iloc[:, -1].values\n",
        "    y_ts = df_ts.iloc[:, -1].values\n",
        "\n",
        "    metrics =  [keras.metrics.TruePositives(name='TP'),\n",
        "                keras.metrics.TrueNegatives(name='TN'),\n",
        "                keras.metrics.FalsePositives(name='FP'),\n",
        "                keras.metrics.FalseNegatives(name='FN')]\n",
        "\n",
        "    model.compile(optimizer=optimizer, loss=\"binary_crossentropy\", metrics=metrics)\n",
        "    if model_save_path != None:\n",
        "        call_back_1 = [keras.callbacks.ModelCheckpoint(model_save_path + model.name + '_epoch_{epoch}.h5')]\n",
        "    call_back_2 = [TqdmCallback(verbose=0)]\n",
        "\n",
        "    callbacks = call_back_2 if model_save_path == None else call_back_1 + call_back_2\n",
        "    model_history = model.fit(X_tr, y_tr, validation_data=(X_ts, y_ts),\n",
        "                                batch_size=batch_size,\n",
        "                                    epochs=epochs,\n",
        "                                 callbacks=callbacks,\n",
        "                              class_weight=class_weight,\n",
        "                                   verbose=0)\n",
        "\n",
        "    df_history = pd.DataFrame(model_history.history)\n",
        "    df_perform = pd.DataFrame().assign(**fn_binary_metrics(df_history))\n",
        "    df_perform.index = [model.name + f'_epoch_{i}' for i in range(len(df_perform))]\n",
        "\n",
        "    return df_perform, df_history"
      ],
      "execution_count": null,
      "outputs": []
    },
    {
      "cell_type": "code",
      "metadata": {
        "id": "vdf1L_O2dKT5"
      },
      "source": [],
      "execution_count": null,
      "outputs": []
    },
    {
      "cell_type": "code",
      "metadata": {
        "id": "baTX9s91cRw6"
      },
      "source": [],
      "execution_count": null,
      "outputs": []
    },
    {
      "cell_type": "code",
      "metadata": {
        "id": "-YTjLfkRcRuY"
      },
      "source": [
        "def fn_embed_words_as_nums(corpus):\n",
        "    dictO_word_embeds = {}\n",
        "    pbar = ProgressBar()\n",
        "    for sentence in pbar(corpus):\n",
        "        for word in sentence.split():\n",
        "            if word not in dictO_word_embeds:\n",
        "                # Assign a unique index to each unique word:\n",
        "                dictO_word_embeds[word] = (len(dictO_word_embeds) + 1)\n",
        "                # Note that we don't attribute index 0 to anything.\n",
        "\n",
        "    return dictO_word_embeds"
      ],
      "execution_count": null,
      "outputs": []
    },
    {
      "cell_type": "code",
      "metadata": {
        "id": "TwNlCJkOcRr0"
      },
      "source": [
        "def fn_embed_docs(corpus, dictO_word_embeds, max_lg = 100):\n",
        "    from keras.preprocessing.sequence import pad_sequences\n",
        "\n",
        "    pbar = ProgressBar()\n",
        "    listO_doc_vecs = []\n",
        "    for doc in pbar(corpus):\n",
        "        listO_words = doc.split()\n",
        "\n",
        "        doc_vec = [dictO_word_embeds.get(word, 0) for word in listO_words]\n",
        "        doc_vec = [num for num in doc_vec if num != 0][: max_lg]\n",
        "        listO_doc_vecs.append(doc_vec)\n",
        "\n",
        "    listO_padded_doc_vecs = pad_sequences(listO_doc_vecs)\n",
        "    arryO_doc_vecs = np.array(listO_padded_doc_vecs)\n",
        "    return arryO_doc_vecs"
      ],
      "execution_count": null,
      "outputs": []
    },
    {
      "cell_type": "code",
      "metadata": {
        "id": "It_jI7Zkcbcr"
      },
      "source": [],
      "execution_count": null,
      "outputs": []
    },
    {
      "cell_type": "code",
      "metadata": {
        "id": "cVknQ1Y2ixYz"
      },
      "source": [],
      "execution_count": null,
      "outputs": []
    },
    {
      "cell_type": "code",
      "metadata": {
        "id": "-wd-LOVwixVI"
      },
      "source": [],
      "execution_count": null,
      "outputs": []
    },
    {
      "cell_type": "code",
      "metadata": {
        "id": "1qkIVgAjYILZ",
        "colab": {
          "base_uri": "https://localhost:8080/",
          "height": 197
        },
        "outputId": "b81cbfe6-ac63-4b13-e012-58bc89fbffec"
      },
      "source": [
        "data_path = 'gdrive/My Drive/3A_PGD/CODE_PGD/TRANSFORMERS/'\n",
        "\n",
        "df_nlp_tr = pd.read_csv(data_path + 'df_nlp_tr.csv')\n",
        "df_nlp_ts = pd.read_csv(data_path + 'df_nlp_ts.csv')\n",
        "\n",
        "df_nlp_tr.sample(5)"
      ],
      "execution_count": null,
      "outputs": [
        {
          "output_type": "execute_result",
          "data": {
            "text/html": [
              "<div>\n",
              "<style scoped>\n",
              "    .dataframe tbody tr th:only-of-type {\n",
              "        vertical-align: middle;\n",
              "    }\n",
              "\n",
              "    .dataframe tbody tr th {\n",
              "        vertical-align: top;\n",
              "    }\n",
              "\n",
              "    .dataframe thead th {\n",
              "        text-align: right;\n",
              "    }\n",
              "</style>\n",
              "<table border=\"1\" class=\"dataframe\">\n",
              "  <thead>\n",
              "    <tr style=\"text-align: right;\">\n",
              "      <th></th>\n",
              "      <th>prod_id</th>\n",
              "      <th>reviews</th>\n",
              "      <th>ratings</th>\n",
              "    </tr>\n",
              "  </thead>\n",
              "  <tbody>\n",
              "    <tr>\n",
              "      <th>138805</th>\n",
              "      <td>b007rtr8ts</td>\n",
              "      <td>i ve been using both the shampoo and condition...</td>\n",
              "      <td>1</td>\n",
              "    </tr>\n",
              "    <tr>\n",
              "      <th>108791</th>\n",
              "      <td>b007jfmh8m</td>\n",
              "      <td>good store bought cookie comes individually wr...</td>\n",
              "      <td>1</td>\n",
              "    </tr>\n",
              "    <tr>\n",
              "      <th>45380</th>\n",
              "      <td>b00016lzt8</td>\n",
              "      <td>this stuff is the real deal all right complete...</td>\n",
              "      <td>1</td>\n",
              "    </tr>\n",
              "    <tr>\n",
              "      <th>114982</th>\n",
              "      <td>b004867t24</td>\n",
              "      <td>i have to admit i was a little surprised by th...</td>\n",
              "      <td>1</td>\n",
              "    </tr>\n",
              "    <tr>\n",
              "      <th>52422</th>\n",
              "      <td>b001e5e10a</td>\n",
              "      <td>i have used sportea for years it is the best r...</td>\n",
              "      <td>1</td>\n",
              "    </tr>\n",
              "  </tbody>\n",
              "</table>\n",
              "</div>"
            ],
            "text/plain": [
              "           prod_id                                            reviews  ratings\n",
              "138805  b007rtr8ts  i ve been using both the shampoo and condition...        1\n",
              "108791  b007jfmh8m  good store bought cookie comes individually wr...        1\n",
              "45380   b00016lzt8  this stuff is the real deal all right complete...        1\n",
              "114982  b004867t24  i have to admit i was a little surprised by th...        1\n",
              "52422   b001e5e10a  i have used sportea for years it is the best r...        1"
            ]
          },
          "metadata": {
            "tags": []
          },
          "execution_count": 7
        }
      ]
    },
    {
      "cell_type": "code",
      "metadata": {
        "id": "Pj4rC6mCcRpk"
      },
      "source": [],
      "execution_count": null,
      "outputs": []
    },
    {
      "cell_type": "code",
      "metadata": {
        "colab": {
          "base_uri": "https://localhost:8080/"
        },
        "id": "axbnSGZEcRmo",
        "outputId": "0ee75a68-2101-4c68-dc5f-529f68a3c28a"
      },
      "source": [
        "corpus = df_nlp_tr.reviews.values\n",
        "dictO_word_embeds = fn_embed_words_as_nums(corpus)"
      ],
      "execution_count": null,
      "outputs": [
        {
          "output_type": "stream",
          "text": [
            "100% (147659 of 147659) |################| Elapsed Time: 0:00:02 Time:  0:00:02\n"
          ],
          "name": "stderr"
        }
      ]
    },
    {
      "cell_type": "code",
      "metadata": {
        "colab": {
          "base_uri": "https://localhost:8080/"
        },
        "id": "ZO1AtHiWcRkL",
        "outputId": "bfecff16-550f-408d-edb3-48339e7c8d5c"
      },
      "source": [
        "vocab_size = len(dictO_word_embeds) + 1\n",
        "vocab_size"
      ],
      "execution_count": null,
      "outputs": [
        {
          "output_type": "execute_result",
          "data": {
            "text/plain": [
              "65855"
            ]
          },
          "metadata": {
            "tags": []
          },
          "execution_count": 9
        }
      ]
    },
    {
      "cell_type": "code",
      "metadata": {
        "colab": {
          "base_uri": "https://localhost:8080/"
        },
        "id": "A9PejRWOcRaz",
        "outputId": "d7af46d2-12ee-4987-8528-ff1dca225676"
      },
      "source": [
        "tr_corpus = df_nlp_tr.reviews.values\n",
        "ts_corpus = df_nlp_ts.reviews.values\n",
        "\n",
        "tr_embeddings = fn_embed_docs(tr_corpus, dictO_word_embeds, max_lg = 100)\n",
        "ts_embeddings = fn_embed_docs(ts_corpus, dictO_word_embeds, max_lg = 100)\n",
        "\n",
        "tr_embeddings.shape, ts_embeddings.shape"
      ],
      "execution_count": null,
      "outputs": [
        {
          "output_type": "stream",
          "text": [
            "100% (147659 of 147659) |################| Elapsed Time: 0:00:04 Time:  0:00:04\n",
            "100% (36915 of 36915) |##################| Elapsed Time: 0:00:01 Time:  0:00:01\n"
          ],
          "name": "stderr"
        },
        {
          "output_type": "execute_result",
          "data": {
            "text/plain": [
              "((147659, 100), (36915, 100))"
            ]
          },
          "metadata": {
            "tags": []
          },
          "execution_count": 10
        }
      ]
    },
    {
      "cell_type": "code",
      "metadata": {
        "colab": {
          "base_uri": "https://localhost:8080/"
        },
        "id": "SsW56VTccRXs",
        "outputId": "3586fb36-93b6-4298-9fa2-6cfc81761868"
      },
      "source": [
        "tr_embeddings"
      ],
      "execution_count": null,
      "outputs": [
        {
          "output_type": "execute_result",
          "data": {
            "text/plain": [
              "array([[   1,    2,    3, ...,   69,   70,   71],\n",
              "       [  45,   47,   83, ...,   45,  136,   26],\n",
              "       [ 176,   72,   10, ...,  246,   10,  247],\n",
              "       ...,\n",
              "       [   0,    0,    0, ...,  161,   20, 1060],\n",
              "       [   0,    0,    0, ...,  548,   26,  151],\n",
              "       [  52, 1504,   47, ...,   52, 2945, 2211]], dtype=int32)"
            ]
          },
          "metadata": {
            "tags": []
          },
          "execution_count": 11
        }
      ]
    },
    {
      "cell_type": "code",
      "metadata": {
        "colab": {
          "base_uri": "https://localhost:8080/"
        },
        "id": "nW_BU_JWckzm",
        "outputId": "307a1963-94d5-4c50-ddf0-cbb382e718b2"
      },
      "source": [
        "y_tr = df_nlp_tr.ratings.values\n",
        "y_ts = df_nlp_ts.ratings.values\n",
        "\n",
        "y_tr.shape, y_ts.shape"
      ],
      "execution_count": null,
      "outputs": [
        {
          "output_type": "execute_result",
          "data": {
            "text/plain": [
              "((147659,), (36915,))"
            ]
          },
          "metadata": {
            "tags": []
          },
          "execution_count": 12
        }
      ]
    },
    {
      "cell_type": "code",
      "metadata": {
        "colab": {
          "base_uri": "https://localhost:8080/"
        },
        "id": "7ygVeE0_ckt4",
        "outputId": "643c1884-dceb-4e44-c91e-5451dc31dd61"
      },
      "source": [
        "df_tr = pd.DataFrame(tr_embeddings).assign(labels = y_tr)\n",
        "df_ts = pd.DataFrame(ts_embeddings).assign(labels = y_ts)\n",
        "\n",
        "df_tr.shape, df_ts.shape"
      ],
      "execution_count": null,
      "outputs": [
        {
          "output_type": "execute_result",
          "data": {
            "text/plain": [
              "((147659, 101), (36915, 101))"
            ]
          },
          "metadata": {
            "tags": []
          },
          "execution_count": 13
        }
      ]
    },
    {
      "cell_type": "code",
      "metadata": {
        "id": "5iMJXWdAckqs"
      },
      "source": [],
      "execution_count": null,
      "outputs": []
    },
    {
      "cell_type": "code",
      "metadata": {
        "id": "RuoZoWpuSUEx"
      },
      "source": [],
      "execution_count": null,
      "outputs": []
    },
    {
      "cell_type": "code",
      "metadata": {
        "id": "nM3V7FetqRoI"
      },
      "source": [
        "def fn_TRANSFORMER_BLOCK(vocab_size = vocab_size, max_sentence_lg = 100,\n",
        "                         embed_dim = 32, num_heads = 5, ff_dim = 32):\n",
        "\n",
        "    input = layers.Input(shape = (max_sentence_lg,))\n",
        "    positions = np.array(range(max_sentence_lg))\n",
        "\n",
        "    pos_emb = layers.Embedding(input_dim=max_sentence_lg, output_dim=embed_dim)(positions)\n",
        "    word_emb = layers.Embedding(input_dim=vocab_size, output_dim=embed_dim)(input)\n",
        "    emb = word_emb + pos_emb\n",
        "\n",
        "    attn_output = layers.MultiHeadAttention(num_heads=num_heads, key_dim=embed_dim)(emb, emb)\n",
        "    attn_output = layers.Dropout(0.3)(attn_output)\n",
        "    out = layers.LayerNormalization()(emb + attn_output)\n",
        "    x = layers.Dense(ff_dim, activation=\"relu\")(out)\n",
        "    x = layers.Dense(embed_dim)(x)\n",
        "    x = layers.Dropout(0.1)(x)\n",
        "    output = layers.LayerNormalization()(out + x)\n",
        "\n",
        "    output = layers.GlobalAveragePooling1D()(output)\n",
        "    output = layers.Dropout(0.1)(output)\n",
        "    output = layers.Dense(20, activation=\"relu\")(output)\n",
        "    output = layers.Dropout(0.1)(output)\n",
        "    output = layers.Dense(20, activation=\"relu\")(output)\n",
        "    output = layers.Dropout(0.1)(output)\n",
        "    output = layers.Dense(1, activation=\"sigmoid\")(output)\n",
        "\n",
        "    model = Model(input, output)\n",
        "    return model\n",
        "\n"
      ],
      "execution_count": null,
      "outputs": []
    },
    {
      "cell_type": "code",
      "metadata": {
        "id": "aOzOpEPKjc-W"
      },
      "source": [],
      "execution_count": null,
      "outputs": []
    },
    {
      "cell_type": "code",
      "metadata": {
        "id": "zwxvZzadjc5m"
      },
      "source": [],
      "execution_count": null,
      "outputs": []
    },
    {
      "cell_type": "code",
      "metadata": {
        "colab": {
          "base_uri": "https://localhost:8080/"
        },
        "id": "PZTbiYHGRed_",
        "outputId": "db12102b-eded-49b1-d54f-a706b00eb19a"
      },
      "source": [
        "transformer = fn_TRANSFORMER_BLOCK()\n",
        "transformer.summary()"
      ],
      "execution_count": null,
      "outputs": [
        {
          "output_type": "stream",
          "text": [
            "Model: \"model_2\"\n",
            "__________________________________________________________________________________________________\n",
            "Layer (type)                    Output Shape         Param #     Connected to                     \n",
            "==================================================================================================\n",
            "input_3 (InputLayer)            [(None, 100)]        0                                            \n",
            "__________________________________________________________________________________________________\n",
            "embedding_5 (Embedding)         (None, 100, 32)      2107360     input_3[0][0]                    \n",
            "__________________________________________________________________________________________________\n",
            "tf.__operators__.add_6 (TFOpLam (None, 100, 32)      0           embedding_5[0][0]                \n",
            "__________________________________________________________________________________________________\n",
            "multi_head_attention_2 (MultiHe (None, 100, 32)      20992       tf.__operators__.add_6[0][0]     \n",
            "                                                                 tf.__operators__.add_6[0][0]     \n",
            "__________________________________________________________________________________________________\n",
            "dropout_8 (Dropout)             (None, 100, 32)      0           multi_head_attention_2[0][0]     \n",
            "__________________________________________________________________________________________________\n",
            "tf.__operators__.add_7 (TFOpLam (None, 100, 32)      0           tf.__operators__.add_6[0][0]     \n",
            "                                                                 dropout_8[0][0]                  \n",
            "__________________________________________________________________________________________________\n",
            "layer_normalization_4 (LayerNor (None, 100, 32)      64          tf.__operators__.add_7[0][0]     \n",
            "__________________________________________________________________________________________________\n",
            "dense_8 (Dense)                 (None, 100, 32)      1056        layer_normalization_4[0][0]      \n",
            "__________________________________________________________________________________________________\n",
            "dense_9 (Dense)                 (None, 100, 32)      1056        dense_8[0][0]                    \n",
            "__________________________________________________________________________________________________\n",
            "dropout_9 (Dropout)             (None, 100, 32)      0           dense_9[0][0]                    \n",
            "__________________________________________________________________________________________________\n",
            "tf.__operators__.add_8 (TFOpLam (None, 100, 32)      0           layer_normalization_4[0][0]      \n",
            "                                                                 dropout_9[0][0]                  \n",
            "__________________________________________________________________________________________________\n",
            "layer_normalization_5 (LayerNor (None, 100, 32)      64          tf.__operators__.add_8[0][0]     \n",
            "__________________________________________________________________________________________________\n",
            "global_average_pooling1d_2 (Glo (None, 32)           0           layer_normalization_5[0][0]      \n",
            "__________________________________________________________________________________________________\n",
            "dropout_10 (Dropout)            (None, 32)           0           global_average_pooling1d_2[0][0] \n",
            "__________________________________________________________________________________________________\n",
            "dense_10 (Dense)                (None, 20)           660         dropout_10[0][0]                 \n",
            "__________________________________________________________________________________________________\n",
            "dropout_11 (Dropout)            (None, 20)           0           dense_10[0][0]                   \n",
            "__________________________________________________________________________________________________\n",
            "dense_11 (Dense)                (None, 20)           420         dropout_11[0][0]                 \n",
            "__________________________________________________________________________________________________\n",
            "dropout_12 (Dropout)            (None, 20)           0           dense_11[0][0]                   \n",
            "__________________________________________________________________________________________________\n",
            "dense_12 (Dense)                (None, 1)            21          dropout_12[0][0]                 \n",
            "==================================================================================================\n",
            "Total params: 2,131,693\n",
            "Trainable params: 2,131,693\n",
            "Non-trainable params: 0\n",
            "__________________________________________________________________________________________________\n"
          ],
          "name": "stdout"
        }
      ]
    },
    {
      "cell_type": "code",
      "metadata": {
        "id": "w1cepqBcGCgb"
      },
      "source": [],
      "execution_count": null,
      "outputs": []
    },
    {
      "cell_type": "code",
      "metadata": {
        "id": "xJGrtliRjd8P"
      },
      "source": [],
      "execution_count": null,
      "outputs": []
    },
    {
      "cell_type": "code",
      "metadata": {
        "id": "KcrV2p6_jd4a"
      },
      "source": [],
      "execution_count": null,
      "outputs": []
    },
    {
      "cell_type": "code",
      "metadata": {
        "id": "fGqe005MHmvz",
        "colab": {
          "base_uri": "https://localhost:8080/",
          "height": 167,
          "referenced_widgets": [
            "5a5c0b77794041f99eef0a3291201f31",
            "695d469b52c844f99d5b7cfc486734aa",
            "461145d4488b4e6ab231c1731d760bfd",
            "5c99656c3a4e47909ab506825db19fec",
            "d3c4390d6aa145bcba78ea4fbfcaa0b2",
            "c59bf02b77ea4c8a8bd064defc5e7fd1",
            "a6419dfd2ca2491c83765ce35fb949ba",
            "ca7c068196a8463d827e817cb1c42a71"
          ]
        },
        "outputId": "6f968e60-ec39-4636-9425-3c17a34a6395"
      },
      "source": [
        "model = transformer\n",
        "optimizer=tf.keras.optimizers.Adamax()\n",
        "\n",
        "df_tr_, df_ts_ = df_tr, df_ts\n",
        "model_save_path =  data_path + 'TRANSFORMER_MODELS/model_A/'\n",
        "\n",
        "batch_size, epochs = 250, 15\n",
        "class_bias = {0:85, 1:15}\n",
        "\n",
        "z = fn_NN_binary_clf(model, optimizer, df_tr_, df_ts_, model_save_path,\n",
        "                     batch_size=batch_size, epochs=epochs,\n",
        "                     class_weight = class_bias)\n",
        "\n",
        "df_performance_model_2, df_history_2 = z"
      ],
      "execution_count": null,
      "outputs": [
        {
          "output_type": "display_data",
          "data": {
            "application/vnd.jupyter.widget-view+json": {
              "model_id": "5a5c0b77794041f99eef0a3291201f31",
              "version_minor": 0,
              "version_major": 2
            },
            "text/plain": [
              "HBox(children=(FloatProgress(value=1.0, bar_style='info', max=1.0), HTML(value='')))"
            ]
          },
          "metadata": {
            "tags": []
          }
        },
        {
          "output_type": "stream",
          "text": [
            "WARNING:tensorflow:From /usr/local/lib/python3.7/dist-packages/tensorflow/python/ops/array_ops.py:5049: calling gather (from tensorflow.python.ops.array_ops) with validate_indices is deprecated and will be removed in a future version.\n",
            "Instructions for updating:\n",
            "The `validate_indices` argument has no effect. Indices are always validated on CPU and never validated on GPU.\n",
            "\n"
          ],
          "name": "stdout"
        }
      ]
    },
    {
      "cell_type": "code",
      "metadata": {
        "id": "UmhkDNeeGCdU",
        "colab": {
          "base_uri": "https://localhost:8080/",
          "height": 287
        },
        "outputId": "c44664bd-ff89-4188-d971-019daa4593b9"
      },
      "source": [
        "regd_columns = 'tr_prec_1 tr_rec_1 tr_prec_0 tr_rec_0 diff_rec_1 diff_rec_0'.split()\n",
        "df_performance_model_2.loc[:, regd_columns].describe()"
      ],
      "execution_count": null,
      "outputs": [
        {
          "output_type": "execute_result",
          "data": {
            "text/html": [
              "<div>\n",
              "<style scoped>\n",
              "    .dataframe tbody tr th:only-of-type {\n",
              "        vertical-align: middle;\n",
              "    }\n",
              "\n",
              "    .dataframe tbody tr th {\n",
              "        vertical-align: top;\n",
              "    }\n",
              "\n",
              "    .dataframe thead th {\n",
              "        text-align: right;\n",
              "    }\n",
              "</style>\n",
              "<table border=\"1\" class=\"dataframe\">\n",
              "  <thead>\n",
              "    <tr style=\"text-align: right;\">\n",
              "      <th></th>\n",
              "      <th>tr_prec_1</th>\n",
              "      <th>tr_rec_1</th>\n",
              "      <th>tr_prec_0</th>\n",
              "      <th>tr_rec_0</th>\n",
              "      <th>diff_rec_1</th>\n",
              "      <th>diff_rec_0</th>\n",
              "    </tr>\n",
              "  </thead>\n",
              "  <tbody>\n",
              "    <tr>\n",
              "      <th>count</th>\n",
              "      <td>15.000000</td>\n",
              "      <td>15.000000</td>\n",
              "      <td>15.000000</td>\n",
              "      <td>15.000000</td>\n",
              "      <td>15.000000</td>\n",
              "      <td>15.000000</td>\n",
              "    </tr>\n",
              "    <tr>\n",
              "      <th>mean</th>\n",
              "      <td>0.969475</td>\n",
              "      <td>0.833751</td>\n",
              "      <td>0.455348</td>\n",
              "      <td>0.840762</td>\n",
              "      <td>0.003285</td>\n",
              "      <td>0.009922</td>\n",
              "    </tr>\n",
              "    <tr>\n",
              "      <th>std</th>\n",
              "      <td>0.012229</td>\n",
              "      <td>0.023705</td>\n",
              "      <td>0.049354</td>\n",
              "      <td>0.059821</td>\n",
              "      <td>0.005427</td>\n",
              "      <td>0.024081</td>\n",
              "    </tr>\n",
              "    <tr>\n",
              "      <th>min</th>\n",
              "      <td>0.929934</td>\n",
              "      <td>0.765665</td>\n",
              "      <td>0.311234</td>\n",
              "      <td>0.647328</td>\n",
              "      <td>0.000668</td>\n",
              "      <td>0.000298</td>\n",
              "    </tr>\n",
              "    <tr>\n",
              "      <th>25%</th>\n",
              "      <td>0.969358</td>\n",
              "      <td>0.827495</td>\n",
              "      <td>0.443905</td>\n",
              "      <td>0.840364</td>\n",
              "      <td>0.001124</td>\n",
              "      <td>0.001068</td>\n",
              "    </tr>\n",
              "    <tr>\n",
              "      <th>50%</th>\n",
              "      <td>0.973872</td>\n",
              "      <td>0.840561</td>\n",
              "      <td>0.469918</td>\n",
              "      <td>0.862403</td>\n",
              "      <td>0.001261</td>\n",
              "      <td>0.001886</td>\n",
              "    </tr>\n",
              "    <tr>\n",
              "      <th>75%</th>\n",
              "      <td>0.976075</td>\n",
              "      <td>0.848984</td>\n",
              "      <td>0.486567</td>\n",
              "      <td>0.873050</td>\n",
              "      <td>0.002323</td>\n",
              "      <td>0.004851</td>\n",
              "    </tr>\n",
              "    <tr>\n",
              "      <th>max</th>\n",
              "      <td>0.977284</td>\n",
              "      <td>0.856712</td>\n",
              "      <td>0.501311</td>\n",
              "      <td>0.878544</td>\n",
              "      <td>0.021829</td>\n",
              "      <td>0.094638</td>\n",
              "    </tr>\n",
              "  </tbody>\n",
              "</table>\n",
              "</div>"
            ],
            "text/plain": [
              "       tr_prec_1   tr_rec_1  tr_prec_0   tr_rec_0  diff_rec_1  diff_rec_0\n",
              "count  15.000000  15.000000  15.000000  15.000000   15.000000   15.000000\n",
              "mean    0.969475   0.833751   0.455348   0.840762    0.003285    0.009922\n",
              "std     0.012229   0.023705   0.049354   0.059821    0.005427    0.024081\n",
              "min     0.929934   0.765665   0.311234   0.647328    0.000668    0.000298\n",
              "25%     0.969358   0.827495   0.443905   0.840364    0.001124    0.001068\n",
              "50%     0.973872   0.840561   0.469918   0.862403    0.001261    0.001886\n",
              "75%     0.976075   0.848984   0.486567   0.873050    0.002323    0.004851\n",
              "max     0.977284   0.856712   0.501311   0.878544    0.021829    0.094638"
            ]
          },
          "metadata": {
            "tags": []
          },
          "execution_count": 23
        }
      ]
    },
    {
      "cell_type": "code",
      "metadata": {
        "colab": {
          "base_uri": "https://localhost:8080/",
          "height": 137
        },
        "id": "SiQ4Kt0FfrR5",
        "outputId": "36277306-7308-41a3-eb11-dfd9d432fb25"
      },
      "source": [
        "dff = df_performance_model_2\n",
        "df1 = dff[dff.diff_rec_0 < 0.03]\n",
        "df2 = df1[df1.diff_rec_1 < 0.03]\n",
        "df3 = df2[df2.tr_rec_0 > 0.85]\n",
        "df_filtered_2 = df3[df3.tr_rec_1 > 0.85]\n",
        "df_filtered_2.loc[:, regd_columns]"
      ],
      "execution_count": null,
      "outputs": [
        {
          "output_type": "execute_result",
          "data": {
            "text/html": [
              "<div>\n",
              "<style scoped>\n",
              "    .dataframe tbody tr th:only-of-type {\n",
              "        vertical-align: middle;\n",
              "    }\n",
              "\n",
              "    .dataframe tbody tr th {\n",
              "        vertical-align: top;\n",
              "    }\n",
              "\n",
              "    .dataframe thead th {\n",
              "        text-align: right;\n",
              "    }\n",
              "</style>\n",
              "<table border=\"1\" class=\"dataframe\">\n",
              "  <thead>\n",
              "    <tr style=\"text-align: right;\">\n",
              "      <th></th>\n",
              "      <th>tr_prec_1</th>\n",
              "      <th>tr_rec_1</th>\n",
              "      <th>tr_prec_0</th>\n",
              "      <th>tr_rec_0</th>\n",
              "      <th>diff_rec_1</th>\n",
              "      <th>diff_rec_0</th>\n",
              "    </tr>\n",
              "  </thead>\n",
              "  <tbody>\n",
              "    <tr>\n",
              "      <th>model_2_epoch_12</th>\n",
              "      <td>0.976712</td>\n",
              "      <td>0.852202</td>\n",
              "      <td>0.492882</td>\n",
              "      <td>0.876075</td>\n",
              "      <td>0.001005</td>\n",
              "      <td>0.000754</td>\n",
              "    </tr>\n",
              "    <tr>\n",
              "      <th>model_2_epoch_13</th>\n",
              "      <td>0.977072</td>\n",
              "      <td>0.854299</td>\n",
              "      <td>0.496864</td>\n",
              "      <td>0.877712</td>\n",
              "      <td>0.001163</td>\n",
              "      <td>0.000298</td>\n",
              "    </tr>\n",
              "    <tr>\n",
              "      <th>model_2_epoch_14</th>\n",
              "      <td>0.977284</td>\n",
              "      <td>0.856712</td>\n",
              "      <td>0.501311</td>\n",
              "      <td>0.878544</td>\n",
              "      <td>0.000668</td>\n",
              "      <td>0.000843</td>\n",
              "    </tr>\n",
              "  </tbody>\n",
              "</table>\n",
              "</div>"
            ],
            "text/plain": [
              "                  tr_prec_1  tr_rec_1  ...  diff_rec_1  diff_rec_0\n",
              "model_2_epoch_12   0.976712  0.852202  ...    0.001005    0.000754\n",
              "model_2_epoch_13   0.977072  0.854299  ...    0.001163    0.000298\n",
              "model_2_epoch_14   0.977284  0.856712  ...    0.000668    0.000843\n",
              "\n",
              "[3 rows x 6 columns]"
            ]
          },
          "metadata": {
            "tags": []
          },
          "execution_count": 25
        }
      ]
    },
    {
      "cell_type": "code",
      "metadata": {
        "id": "DaM2TebLfzH2"
      },
      "source": [],
      "execution_count": null,
      "outputs": []
    },
    {
      "cell_type": "code",
      "metadata": {
        "id": "0-2Y8Wg6gRJJ"
      },
      "source": [
        "def fn_load(model_name, model_save_path = model_save_path):\n",
        "    model_name = model_save_path + model_name + '.h5'\n",
        "    return keras.models.load_model(model_name)"
      ],
      "execution_count": null,
      "outputs": []
    },
    {
      "cell_type": "code",
      "metadata": {
        "colab": {
          "base_uri": "https://localhost:8080/",
          "height": 600
        },
        "id": "h2LHxf0NgSbi",
        "outputId": "47762053-a711-42cc-d063-bcaf9ca4b4ab"
      },
      "source": [
        "kwargs = dict(model_save_path = data_path + 'TRANSFORMER_MODELS/model_A/')\n",
        "listO_filtered_models_2 = [fn_load(i, **kwargs) for i in list(df_filtered_2.index)]\n",
        "df_Xy_ = df_tr\n",
        "legend = list(df_filtered_2.index)\n",
        "\n",
        "fn_performance_models_data(listO_filtered_models_2, df_Xy_, legend, NN=True)"
      ],
      "execution_count": null,
      "outputs": [
        {
          "output_type": "display_data",
          "data": {
            "image/png": "[encoded data removed]",
            "text/plain": [
              "<Figure size 1080x720 with 4 Axes>"
            ]
          },
          "metadata": {
            "tags": []
          }
        }
      ]
    },
    {
      "cell_type": "code",
      "metadata": {
        "id": "nf9malZXgeDA"
      },
      "source": [],
      "execution_count": null,
      "outputs": []
    },
    {
      "cell_type": "code",
      "metadata": {
        "id": "5GF8vjH1h1VH"
      },
      "source": [],
      "execution_count": null,
      "outputs": []
    },
    {
      "cell_type": "code",
      "metadata": {
        "colab": {
          "base_uri": "https://localhost:8080/",
          "height": 196
        },
        "id": "TAoIYmuiKbnN",
        "outputId": "b36cebc3-698b-4b6b-8420-5e332ce0e081"
      },
      "source": [
        "df_Xy_ = df_tr_\n",
        "\n",
        "model_ =  listO_filtered_models_2[-1]\n",
        "thresh = 0.65\n",
        "\n",
        "fn_test_model_binary_clf(df_Xy_, model_, threshold_class_1 = thresh)"
      ],
      "execution_count": null,
      "outputs": [
        {
          "output_type": "stream",
          "text": [
            "--------------------\n",
            "LOGLOSS : 0.1903\n",
            "ACCURACY: 87.68\n",
            "--------------------\n",
            "\n"
          ],
          "name": "stdout"
        },
        {
          "output_type": "execute_result",
          "data": {
            "text/html": [
              "<div>\n",
              "<style scoped>\n",
              "    .dataframe tbody tr th:only-of-type {\n",
              "        vertical-align: middle;\n",
              "    }\n",
              "\n",
              "    .dataframe tbody tr th {\n",
              "        vertical-align: top;\n",
              "    }\n",
              "\n",
              "    .dataframe thead th {\n",
              "        text-align: right;\n",
              "    }\n",
              "</style>\n",
              "<table border=\"1\" class=\"dataframe\">\n",
              "  <thead>\n",
              "    <tr style=\"text-align: right;\">\n",
              "      <th></th>\n",
              "      <th>prec</th>\n",
              "      <th>rec</th>\n",
              "    </tr>\n",
              "  </thead>\n",
              "  <tbody>\n",
              "    <tr>\n",
              "      <th>class_0</th>\n",
              "      <td>53.5</td>\n",
              "      <td>96.2</td>\n",
              "    </tr>\n",
              "    <tr>\n",
              "      <th>class_1</th>\n",
              "      <td>99.3</td>\n",
              "      <td>86.3</td>\n",
              "    </tr>\n",
              "  </tbody>\n",
              "</table>\n",
              "</div>"
            ],
            "text/plain": [
              "         prec   rec\n",
              "class_0  53.5  96.2\n",
              "class_1  99.3  86.3"
            ]
          },
          "metadata": {
            "tags": []
          },
          "execution_count": 34
        }
      ]
    },
    {
      "cell_type": "code",
      "metadata": {
        "colab": {
          "base_uri": "https://localhost:8080/",
          "height": 196
        },
        "id": "MZ8f7KTSKbki",
        "outputId": "7db12d51-9cf2-40d6-97ff-a3384497132e"
      },
      "source": [
        "df_Xy_ = df_ts_\n",
        "\n",
        "fn_test_model_binary_clf(df_Xy_, model_, threshold_class_1 = thresh)"
      ],
      "execution_count": null,
      "outputs": [
        {
          "output_type": "stream",
          "text": [
            "--------------------\n",
            "LOGLOSS : 0.2946\n",
            "ACCURACY: 84.053\n",
            "--------------------\n",
            "\n"
          ],
          "name": "stdout"
        },
        {
          "output_type": "execute_result",
          "data": {
            "text/html": [
              "<div>\n",
              "<style scoped>\n",
              "    .dataframe tbody tr th:only-of-type {\n",
              "        vertical-align: middle;\n",
              "    }\n",
              "\n",
              "    .dataframe tbody tr th {\n",
              "        vertical-align: top;\n",
              "    }\n",
              "\n",
              "    .dataframe thead th {\n",
              "        text-align: right;\n",
              "    }\n",
              "</style>\n",
              "<table border=\"1\" class=\"dataframe\">\n",
              "  <thead>\n",
              "    <tr style=\"text-align: right;\">\n",
              "      <th></th>\n",
              "      <th>prec</th>\n",
              "      <th>rec</th>\n",
              "    </tr>\n",
              "  </thead>\n",
              "  <tbody>\n",
              "    <tr>\n",
              "      <th>class_0</th>\n",
              "      <td>46.3</td>\n",
              "      <td>82.9</td>\n",
              "    </tr>\n",
              "    <tr>\n",
              "      <th>class_1</th>\n",
              "      <td>96.8</td>\n",
              "      <td>84.2</td>\n",
              "    </tr>\n",
              "  </tbody>\n",
              "</table>\n",
              "</div>"
            ],
            "text/plain": [
              "         prec   rec\n",
              "class_0  46.3  82.9\n",
              "class_1  96.8  84.2"
            ]
          },
          "metadata": {
            "tags": []
          },
          "execution_count": 35
        }
      ]
    },
    {
      "cell_type": "code",
      "metadata": {
        "id": "_kpJwh2XKbht"
      },
      "source": [],
      "execution_count": null,
      "outputs": []
    },
    {
      "cell_type": "code",
      "metadata": {
        "id": "2wnWPkbCNF5K"
      },
      "source": [],
      "execution_count": null,
      "outputs": []
    },
    {
      "cell_type": "code",
      "metadata": {
        "id": "FXWlAOCZNF2H"
      },
      "source": [],
      "execution_count": null,
      "outputs": []
    },
    {
      "cell_type": "code",
      "metadata": {
        "id": "g3tGzcaCNFzu"
      },
      "source": [],
      "execution_count": null,
      "outputs": []
    },
    {
      "cell_type": "code",
      "metadata": {
        "id": "tXGUlSHKNFwz"
      },
      "source": [],
      "execution_count": null,
      "outputs": []
    },
    {
      "cell_type": "code",
      "metadata": {
        "id": "4vGJNjKTNFuE"
      },
      "source": [],
      "execution_count": null,
      "outputs": []
    },
    {
      "cell_type": "code",
      "metadata": {
        "id": "IWWirT-lO_cH"
      },
      "source": [],
      "execution_count": null,
      "outputs": []
    },
    {
      "cell_type": "code",
      "metadata": {
        "id": "9ChyI9quO_Zh"
      },
      "source": [],
      "execution_count": null,
      "outputs": []
    },
    {
      "cell_type": "code",
      "metadata": {
        "id": "ApyrDYLKO_W6"
      },
      "source": [],
      "execution_count": null,
      "outputs": []
    },
    {
      "cell_type": "code",
      "metadata": {
        "id": "RmXqLYRwO_Vn"
      },
      "source": [],
      "execution_count": null,
      "outputs": []
    },
    {
      "cell_type": "code",
      "metadata": {
        "id": "kQFOYCdXO_SX"
      },
      "source": [],
      "execution_count": null,
      "outputs": []
    },
    {
      "cell_type": "code",
      "metadata": {
        "id": "GOTOR47BO_P6"
      },
      "source": [],
      "execution_count": null,
      "outputs": []
    },
    {
      "cell_type": "code",
      "metadata": {
        "id": "Eteq_aAoKbe3"
      },
      "source": [
        "tf.keras.layers.MultiHeadAttention(\n",
        "    num_heads,\n",
        "    key_dim,\n",
        "    value_dim=None,\n",
        "    kernel_initializer=\"glorot_uniform\")"
      ],
      "execution_count": null,
      "outputs": []
    }
  ]
}