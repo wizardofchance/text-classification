{
  "nbformat": 4,
  "nbformat_minor": 0,
  "metadata": {
    "colab": {
      "provenance": []
    },
    "kernelspec": {
      "display_name": "Python 3",
      "language": "python",
      "name": "python3"
    },
    "accelerator": "GPU"
  },
  "cells": [
    {
      "cell_type": "code",
      "metadata": {
        "colab": {
          "base_uri": "https://localhost:8080/"
        },
        "id": "0GbMky2iVMrY",
        "outputId": "f1d4d061-976a-4453-ceef-d92184d699cd"
      },
      "source": [
        "from google.colab import drive\n",
        "drive.mount('/content/gdrive', force_remount=False)"
      ],
      "execution_count": null,
      "outputs": [
        {
          "output_type": "stream",
          "text": [
            "Mounted at /content/gdrive\n"
          ],
          "name": "stdout"
        }
      ]
    },
    {
      "cell_type": "markdown",
      "metadata": {
        "id": "iibmfCgYjUKQ"
      },
      "source": [
        "## LIBRARIES:"
      ]
    },
    {
      "cell_type": "code",
      "metadata": {
        "id": "iTpfDyXdxHks"
      },
      "source": [
        "import numpy as np\n",
        "import pandas as pd\n",
        "import sqlite3\n",
        "import re\n",
        "from progressbar import ProgressBar\n",
        "\n",
        "import os\n",
        "import matplotlib.pyplot as plt\n",
        "from matplotlib import style\n",
        "plt.style.use('seaborn-whitegrid')"
      ],
      "execution_count": null,
      "outputs": []
    },
    {
      "cell_type": "code",
      "metadata": {
        "id": "i_IR0ybn3pZ-"
      },
      "source": [
        "from sklearn.feature_extraction.text import CountVectorizer, TfidfVectorizer\n",
        "from sklearn.decomposition import TruncatedSVD\n",
        "\n",
        "from gensim.models import Word2Vec\n",
        "from gensim.models import KeyedVectors\n",
        "import pickle"
      ],
      "execution_count": null,
      "outputs": []
    },
    {
      "cell_type": "code",
      "metadata": {
        "id": "QlyH_x0iqimY"
      },
      "source": [
        "def fn_append_path(data_path):\n",
        "\n",
        "    import sys\n",
        "    import os\n",
        "\n",
        "    py_file_location = \"/content/\" + data_path\n",
        "    sys.path.append(os.path.abspath(py_file_location))"
      ],
      "execution_count": null,
      "outputs": []
    },
    {
      "cell_type": "code",
      "metadata": {
        "id": "4hvohkiwqipE"
      },
      "source": [
        "data_path = 'gdrive/My Drive/1A_WOC/2A_PROJECTS/1_AMAZON_FOOD_REVIEWS/DATA/'\n",
        "fn_append_path(data_path)"
      ],
      "execution_count": null,
      "outputs": []
    },
    {
      "cell_type": "code",
      "metadata": {
        "id": "GQcy_Dk0qisB"
      },
      "source": [
        "import aaic_mlfuncs as ai"
      ],
      "execution_count": null,
      "outputs": []
    },
    {
      "cell_type": "code",
      "metadata": {
        "id": "SD9q5679qivF"
      },
      "source": [],
      "execution_count": null,
      "outputs": []
    },
    {
      "cell_type": "markdown",
      "metadata": {
        "id": "VAmN6cX2WX8s"
      },
      "source": [
        "# A.DATA:"
      ]
    },
    {
      "cell_type": "code",
      "metadata": {
        "colab": {
          "base_uri": "https://localhost:8080/"
        },
        "id": "j2LTnO_MSAs6",
        "outputId": "142b76e5-4845-4dd6-9b54-c687f69eb534"
      },
      "source": [
        "# LOADING SQLITE DATA INTO PANDAS DATAFRAMEText\n",
        "con = sqlite3.connect(data_path + 'amazon_fine_food_reviews_database.sqlite')\n",
        "\n",
        "%time df = pd.read_sql_query(\"\"\"SELECT * FROM Reviews\"\"\", con)\n",
        "df.info()"
      ],
      "execution_count": null,
      "outputs": [
        {
          "output_type": "stream",
          "text": [
            "CPU times: user 2.75 s, sys: 589 ms, total: 3.34 s\n",
            "Wall time: 5.84 s\n",
            "<class 'pandas.core.frame.DataFrame'>\n",
            "RangeIndex: 568454 entries, 0 to 568453\n",
            "Data columns (total 10 columns):\n",
            " #   Column                  Non-Null Count   Dtype \n",
            "---  ------                  --------------   ----- \n",
            " 0   Id                      568454 non-null  int64 \n",
            " 1   ProductId               568454 non-null  object\n",
            " 2   UserId                  568454 non-null  object\n",
            " 3   ProfileName             568454 non-null  object\n",
            " 4   HelpfulnessNumerator    568454 non-null  int64 \n",
            " 5   HelpfulnessDenominator  568454 non-null  int64 \n",
            " 6   Score                   568454 non-null  int64 \n",
            " 7   Time                    568454 non-null  int64 \n",
            " 8   Summary                 568454 non-null  object\n",
            " 9   Text                    568454 non-null  object\n",
            "dtypes: int64(5), object(5)\n",
            "memory usage: 43.4+ MB\n"
          ],
          "name": "stdout"
        }
      ]
    },
    {
      "cell_type": "code",
      "metadata": {
        "id": "zsHjdxtgRHxX",
        "colab": {
          "base_uri": "https://localhost:8080/",
          "height": 634
        },
        "outputId": "4aa57361-342c-4f80-f144-b6a1f13a9458"
      },
      "source": [
        "df.head()"
      ],
      "execution_count": null,
      "outputs": [
        {
          "output_type": "execute_result",
          "data": {
            "text/html": [
              "<div>\n",
              "<style scoped>\n",
              "    .dataframe tbody tr th:only-of-type {\n",
              "        vertical-align: middle;\n",
              "    }\n",
              "\n",
              "    .dataframe tbody tr th {\n",
              "        vertical-align: top;\n",
              "    }\n",
              "\n",
              "    .dataframe thead th {\n",
              "        text-align: right;\n",
              "    }\n",
              "</style>\n",
              "<table border=\"1\" class=\"dataframe\">\n",
              "  <thead>\n",
              "    <tr style=\"text-align: right;\">\n",
              "      <th></th>\n",
              "      <th>Id</th>\n",
              "      <th>ProductId</th>\n",
              "      <th>UserId</th>\n",
              "      <th>ProfileName</th>\n",
              "      <th>HelpfulnessNumerator</th>\n",
              "      <th>HelpfulnessDenominator</th>\n",
              "      <th>Score</th>\n",
              "      <th>Time</th>\n",
              "      <th>Summary</th>\n",
              "      <th>Text</th>\n",
              "    </tr>\n",
              "  </thead>\n",
              "  <tbody>\n",
              "    <tr>\n",
              "      <th>0</th>\n",
              "      <td>1</td>\n",
              "      <td>B001E4KFG0</td>\n",
              "      <td>A3SGXH7AUHU8GW</td>\n",
              "      <td>delmartian</td>\n",
              "      <td>1</td>\n",
              "      <td>1</td>\n",
              "      <td>5</td>\n",
              "      <td>1303862400</td>\n",
              "      <td>Good Quality Dog Food</td>\n",
              "      <td>I have bought several of the Vitality canned d...</td>\n",
              "    </tr>\n",
              "    <tr>\n",
              "      <th>1</th>\n",
              "      <td>2</td>\n",
              "      <td>B00813GRG4</td>\n",
              "      <td>A1D87F6ZCVE5NK</td>\n",
              "      <td>dll pa</td>\n",
              "      <td>0</td>\n",
              "      <td>0</td>\n",
              "      <td>1</td>\n",
              "      <td>1346976000</td>\n",
              "      <td>Not as Advertised</td>\n",
              "      <td>Product arrived labeled as Jumbo Salted Peanut...</td>\n",
              "    </tr>\n",
              "    <tr>\n",
              "      <th>2</th>\n",
              "      <td>3</td>\n",
              "      <td>B000LQOCH0</td>\n",
              "      <td>ABXLMWJIXXAIN</td>\n",
              "      <td>Natalia Corres \"Natalia Corres\"</td>\n",
              "      <td>1</td>\n",
              "      <td>1</td>\n",
              "      <td>4</td>\n",
              "      <td>1219017600</td>\n",
              "      <td>\"Delight\" says it all</td>\n",
              "      <td>This is a confection that has been around a fe...</td>\n",
              "    </tr>\n",
              "    <tr>\n",
              "      <th>3</th>\n",
              "      <td>4</td>\n",
              "      <td>B000UA0QIQ</td>\n",
              "      <td>A395BORC6FGVXV</td>\n",
              "      <td>Karl</td>\n",
              "      <td>3</td>\n",
              "      <td>3</td>\n",
              "      <td>2</td>\n",
              "      <td>1307923200</td>\n",
              "      <td>Cough Medicine</td>\n",
              "      <td>If you are looking for the secret ingredient i...</td>\n",
              "    </tr>\n",
              "    <tr>\n",
              "      <th>4</th>\n",
              "      <td>5</td>\n",
              "      <td>B006K2ZZ7K</td>\n",
              "      <td>A1UQRSCLF8GW1T</td>\n",
              "      <td>Michael D. Bigham \"M. Wassir\"</td>\n",
              "      <td>0</td>\n",
              "      <td>0</td>\n",
              "      <td>5</td>\n",
              "      <td>1350777600</td>\n",
              "      <td>Great taffy</td>\n",
              "      <td>Great taffy at a great price.  There was a wid...</td>\n",
              "    </tr>\n",
              "  </tbody>\n",
              "</table>\n",
              "</div>"
            ],
            "text/plain": [
              "   Id  ...                                               Text\n",
              "0   1  ...  I have bought several of the Vitality canned d...\n",
              "1   2  ...  Product arrived labeled as Jumbo Salted Peanut...\n",
              "2   3  ...  This is a confection that has been around a fe...\n",
              "3   4  ...  If you are looking for the secret ingredient i...\n",
              "4   5  ...  Great taffy at a great price.  There was a wid...\n",
              "\n",
              "[5 rows x 10 columns]"
            ]
          },
          "metadata": {
            "tags": []
          },
          "execution_count": 54
        }
      ]
    },
    {
      "cell_type": "code",
      "metadata": {
        "id": "3LgidRfytfHR"
      },
      "source": [],
      "execution_count": null,
      "outputs": []
    },
    {
      "cell_type": "code",
      "metadata": {
        "id": "spFMsY2vtfDB"
      },
      "source": [],
      "execution_count": null,
      "outputs": []
    },
    {
      "cell_type": "code",
      "metadata": {
        "id": "oGBcmFCqcGTF"
      },
      "source": [],
      "execution_count": null,
      "outputs": []
    },
    {
      "cell_type": "code",
      "metadata": {
        "colab": {
          "base_uri": "https://localhost:8080/",
          "height": 197
        },
        "id": "laTmR64yuDqT",
        "outputId": "7181de5e-562d-4074-96d5-5ee9281cd101"
      },
      "source": [
        "time = pd.to_datetime([int(i) for i in df.Time.values], unit = 's')\n",
        "prod = df.ProductId\n",
        "reviews = df.Text\n",
        "ratings = df.Score\n",
        "\n",
        "df_nlp = pd.DataFrame().assign(time = time, prod_id = prod,\n",
        "                               reviews = reviews, ratings = ratings)\n",
        "\n",
        "df_nlp.head()"
      ],
      "execution_count": null,
      "outputs": [
        {
          "output_type": "execute_result",
          "data": {
            "text/html": [
              "<div>\n",
              "<style scoped>\n",
              "    .dataframe tbody tr th:only-of-type {\n",
              "        vertical-align: middle;\n",
              "    }\n",
              "\n",
              "    .dataframe tbody tr th {\n",
              "        vertical-align: top;\n",
              "    }\n",
              "\n",
              "    .dataframe thead th {\n",
              "        text-align: right;\n",
              "    }\n",
              "</style>\n",
              "<table border=\"1\" class=\"dataframe\">\n",
              "  <thead>\n",
              "    <tr style=\"text-align: right;\">\n",
              "      <th></th>\n",
              "      <th>time</th>\n",
              "      <th>prod_id</th>\n",
              "      <th>reviews</th>\n",
              "      <th>ratings</th>\n",
              "    </tr>\n",
              "  </thead>\n",
              "  <tbody>\n",
              "    <tr>\n",
              "      <th>0</th>\n",
              "      <td>2011-04-27</td>\n",
              "      <td>B001E4KFG0</td>\n",
              "      <td>I have bought several of the Vitality canned d...</td>\n",
              "      <td>5</td>\n",
              "    </tr>\n",
              "    <tr>\n",
              "      <th>1</th>\n",
              "      <td>2012-09-07</td>\n",
              "      <td>B00813GRG4</td>\n",
              "      <td>Product arrived labeled as Jumbo Salted Peanut...</td>\n",
              "      <td>1</td>\n",
              "    </tr>\n",
              "    <tr>\n",
              "      <th>2</th>\n",
              "      <td>2008-08-18</td>\n",
              "      <td>B000LQOCH0</td>\n",
              "      <td>This is a confection that has been around a fe...</td>\n",
              "      <td>4</td>\n",
              "    </tr>\n",
              "    <tr>\n",
              "      <th>3</th>\n",
              "      <td>2011-06-13</td>\n",
              "      <td>B000UA0QIQ</td>\n",
              "      <td>If you are looking for the secret ingredient i...</td>\n",
              "      <td>2</td>\n",
              "    </tr>\n",
              "    <tr>\n",
              "      <th>4</th>\n",
              "      <td>2012-10-21</td>\n",
              "      <td>B006K2ZZ7K</td>\n",
              "      <td>Great taffy at a great price.  There was a wid...</td>\n",
              "      <td>5</td>\n",
              "    </tr>\n",
              "  </tbody>\n",
              "</table>\n",
              "</div>"
            ],
            "text/plain": [
              "        time  ... ratings\n",
              "0 2011-04-27  ...       5\n",
              "1 2012-09-07  ...       1\n",
              "2 2008-08-18  ...       4\n",
              "3 2011-06-13  ...       2\n",
              "4 2012-10-21  ...       5\n",
              "\n",
              "[5 rows x 4 columns]"
            ]
          },
          "metadata": {
            "tags": []
          },
          "execution_count": 55
        }
      ]
    },
    {
      "cell_type": "code",
      "metadata": {
        "id": "XRnE-3zJtgNo"
      },
      "source": [],
      "execution_count": null,
      "outputs": []
    },
    {
      "cell_type": "code",
      "metadata": {
        "id": "4FjgVF_7tgId"
      },
      "source": [],
      "execution_count": null,
      "outputs": []
    },
    {
      "cell_type": "code",
      "metadata": {
        "id": "Xfen02cxcERN"
      },
      "source": [],
      "execution_count": null,
      "outputs": []
    },
    {
      "cell_type": "markdown",
      "metadata": {
        "id": "DM0mMvsKu7CS"
      },
      "source": [
        "### 1.DATA CLEANING & PREPROCESSING:"
      ]
    },
    {
      "cell_type": "code",
      "metadata": {
        "id": "5dCtPbdQN5Ta",
        "colab": {
          "base_uri": "https://localhost:8080/",
          "height": 233
        },
        "outputId": "741cbfb8-d534-4580-a602-9abe3f0539a0"
      },
      "source": [
        "df_nlp.reviews = df_nlp.reviews.str.lower()\n",
        "df_nlp.prod_id = df_nlp.prod_id.str.lower()\n",
        "\n",
        "df_nlp.fillna(' ', inplace = True)\n",
        "df_nlp.drop_duplicates(['reviews'], inplace = True)\n",
        "\n",
        "regex_pat_1 = re.compile(r'[^a-zA\\n]') #---Matches all chars that are not alpha numeric\n",
        "regex_pat_2 = re.compile(r'\\s+') #---------Matches all excess spaces eg: '  '\n",
        "\n",
        "\n",
        "%time df_nlp.reviews = df_nlp.reviews.str.replace(regex_pat_1, ' ').str.replace(regex_pat_2, ' ')\n",
        "\n",
        "df_nlp.index = range(len(df_nlp))\n",
        "df_nlp.sample(5)"
      ],
      "execution_count": null,
      "outputs": [
        {
          "output_type": "stream",
          "text": [
            "CPU times: user 14 s, sys: 201 ms, total: 14.2 s\n",
            "Wall time: 14.2 s\n"
          ],
          "name": "stdout"
        },
        {
          "output_type": "execute_result",
          "data": {
            "text/html": [
              "<div>\n",
              "<style scoped>\n",
              "    .dataframe tbody tr th:only-of-type {\n",
              "        vertical-align: middle;\n",
              "    }\n",
              "\n",
              "    .dataframe tbody tr th {\n",
              "        vertical-align: top;\n",
              "    }\n",
              "\n",
              "    .dataframe thead th {\n",
              "        text-align: right;\n",
              "    }\n",
              "</style>\n",
              "<table border=\"1\" class=\"dataframe\">\n",
              "  <thead>\n",
              "    <tr style=\"text-align: right;\">\n",
              "      <th></th>\n",
              "      <th>time</th>\n",
              "      <th>prod_id</th>\n",
              "      <th>reviews</th>\n",
              "      <th>ratings</th>\n",
              "    </tr>\n",
              "  </thead>\n",
              "  <tbody>\n",
              "    <tr>\n",
              "      <th>98730</th>\n",
              "      <td>2010-11-08</td>\n",
              "      <td>b0030f70lo</td>\n",
              "      <td>healthy treats for our standard american eskim...</td>\n",
              "      <td>5</td>\n",
              "    </tr>\n",
              "    <tr>\n",
              "      <th>255377</th>\n",
              "      <td>2012-07-27</td>\n",
              "      <td>b005bgrbm8</td>\n",
              "      <td>for those saying it doesn t pass the taste tes...</td>\n",
              "      <td>5</td>\n",
              "    </tr>\n",
              "    <tr>\n",
              "      <th>4095</th>\n",
              "      <td>2012-10-11</td>\n",
              "      <td>b001ew5yqs</td>\n",
              "      <td>this icicle performs flawlessly with very good...</td>\n",
              "      <td>5</td>\n",
              "    </tr>\n",
              "    <tr>\n",
              "      <th>124853</th>\n",
              "      <td>2012-07-09</td>\n",
              "      <td>b005grcwdu</td>\n",
              "      <td>lavazza coffee is the best coffee ever we love...</td>\n",
              "      <td>5</td>\n",
              "    </tr>\n",
              "    <tr>\n",
              "      <th>188737</th>\n",
              "      <td>2012-08-31</td>\n",
              "      <td>b0032jwe4q</td>\n",
              "      <td>i like my tea strong i normally drink pg tips ...</td>\n",
              "      <td>3</td>\n",
              "    </tr>\n",
              "  </tbody>\n",
              "</table>\n",
              "</div>"
            ],
            "text/plain": [
              "             time  ... ratings\n",
              "98730  2010-11-08  ...       5\n",
              "255377 2012-07-27  ...       5\n",
              "4095   2012-10-11  ...       5\n",
              "124853 2012-07-09  ...       5\n",
              "188737 2012-08-31  ...       3\n",
              "\n",
              "[5 rows x 4 columns]"
            ]
          },
          "metadata": {
            "tags": []
          },
          "execution_count": 20
        }
      ]
    },
    {
      "cell_type": "code",
      "metadata": {
        "colab": {
          "base_uri": "https://localhost:8080/"
        },
        "id": "HqhDRzgxB_Tp",
        "outputId": "12fc5a66-d1ab-4992-fca0-98c44f31f2a8"
      },
      "source": [
        "df_nlp.shape"
      ],
      "execution_count": null,
      "outputs": [
        {
          "output_type": "execute_result",
          "data": {
            "text/plain": [
              "(393568, 4)"
            ]
          },
          "metadata": {
            "tags": []
          },
          "execution_count": 21
        }
      ]
    },
    {
      "cell_type": "code",
      "metadata": {
        "id": "42cFHHIgoCMJ"
      },
      "source": [
        "df_nlp.to_csv(data_path + 'df_nlp.csv', index = False)"
      ],
      "execution_count": null,
      "outputs": []
    },
    {
      "cell_type": "code",
      "metadata": {
        "colab": {
          "base_uri": "https://localhost:8080/"
        },
        "id": "1-2T0JneWcvG",
        "outputId": "dab28cba-5e43-4501-ff31-7983966c766e"
      },
      "source": [
        "df_nlp.reviews.isna().sum(axis = 0)"
      ],
      "execution_count": null,
      "outputs": [
        {
          "output_type": "execute_result",
          "data": {
            "text/plain": [
              "0"
            ]
          },
          "metadata": {
            "tags": []
          },
          "execution_count": 23
        }
      ]
    },
    {
      "cell_type": "code",
      "metadata": {
        "id": "oNNW7ZIucxmr"
      },
      "source": [],
      "execution_count": null,
      "outputs": []
    },
    {
      "cell_type": "code",
      "metadata": {
        "id": "0WlN18NecxjB"
      },
      "source": [],
      "execution_count": null,
      "outputs": []
    },
    {
      "cell_type": "code",
      "metadata": {
        "id": "erUs9fxucxf_"
      },
      "source": [],
      "execution_count": null,
      "outputs": []
    },
    {
      "cell_type": "markdown",
      "metadata": {
        "id": "mQ6o2FBfWdav"
      },
      "source": [
        "## QUICK START -1"
      ]
    },
    {
      "cell_type": "code",
      "metadata": {
        "id": "JfFncqXaaenG"
      },
      "source": [
        "df_nlp = pd.read_csv(data_path + 'df_nlp.csv')\n",
        "df_nlp.head(3)"
      ],
      "execution_count": null,
      "outputs": []
    },
    {
      "cell_type": "markdown",
      "metadata": {
        "id": "f3jJNNAb2yNV"
      },
      "source": [
        "## REMOVING LESS IMPORTANT PRODUCTS:"
      ]
    },
    {
      "cell_type": "code",
      "metadata": {
        "id": "GviXtfRYEvqm"
      },
      "source": [
        "def fn_df_nlp_top_prods(df_nlp, freq_thresh = 20):\n",
        "\n",
        "    condition = df_nlp.prod_id.value_counts() >= freq_thresh\n",
        "    df_freqs = df_nlp.prod_id.value_counts()[condition]\n",
        "    listO_top_prod_ids = list(df_freqs.index )\n",
        "\n",
        "    listO_filtered_idxs = []\n",
        "    pbar = ProgressBar()\n",
        "\n",
        "    for prod_id in pbar(listO_top_prod_ids):\n",
        "\n",
        "        filtered_idxs = df_nlp[df_nlp.prod_id == prod_id].index\n",
        "        listO_filtered_idxs += list(filtered_idxs)\n",
        "\n",
        "    listO_filtered_idxs = list(set(listO_filtered_idxs))\n",
        "\n",
        "    return df_nlp.iloc[listO_filtered_idxs]"
      ],
      "execution_count": null,
      "outputs": []
    },
    {
      "cell_type": "code",
      "metadata": {
        "colab": {
          "base_uri": "https://localhost:8080/",
          "height": 365
        },
        "id": "g5nXdm8oBXP3",
        "outputId": "a276f7d6-4332-4c7c-abbf-f4307119b118"
      },
      "source": [
        "df_nlp_top_prods = fn_df_nlp_top_prods(df_nlp)\n",
        "\n",
        "df_nlp_top_prods.sample(10)"
      ],
      "execution_count": null,
      "outputs": [
        {
          "output_type": "stream",
          "text": [
            "100% (3467 of 3467) |####################| Elapsed Time: 0:01:13 Time:  0:01:13\n"
          ],
          "name": "stderr"
        },
        {
          "output_type": "execute_result",
          "data": {
            "text/html": [
              "<div>\n",
              "<style scoped>\n",
              "    .dataframe tbody tr th:only-of-type {\n",
              "        vertical-align: middle;\n",
              "    }\n",
              "\n",
              "    .dataframe tbody tr th {\n",
              "        vertical-align: top;\n",
              "    }\n",
              "\n",
              "    .dataframe thead th {\n",
              "        text-align: right;\n",
              "    }\n",
              "</style>\n",
              "<table border=\"1\" class=\"dataframe\">\n",
              "  <thead>\n",
              "    <tr style=\"text-align: right;\">\n",
              "      <th></th>\n",
              "      <th>time</th>\n",
              "      <th>prod_id</th>\n",
              "      <th>reviews</th>\n",
              "      <th>ratings</th>\n",
              "    </tr>\n",
              "  </thead>\n",
              "  <tbody>\n",
              "    <tr>\n",
              "      <th>228233</th>\n",
              "      <td>2011-03-26</td>\n",
              "      <td>b001eo772a</td>\n",
              "      <td>a great coffee in pre ground i don t have a co...</td>\n",
              "      <td>5</td>\n",
              "    </tr>\n",
              "    <tr>\n",
              "      <th>221818</th>\n",
              "      <td>2012-02-24</td>\n",
              "      <td>b0051coph6</td>\n",
              "      <td>span class tiny length mins br br span here a...</td>\n",
              "      <td>4</td>\n",
              "    </tr>\n",
              "    <tr>\n",
              "      <th>209569</th>\n",
              "      <td>2011-02-20</td>\n",
              "      <td>b004bklhos</td>\n",
              "      <td>amazon offered apple cinnamon and golden honey...</td>\n",
              "      <td>5</td>\n",
              "    </tr>\n",
              "    <tr>\n",
              "      <th>305287</th>\n",
              "      <td>2011-09-22</td>\n",
              "      <td>b002gq3idc</td>\n",
              "      <td>i grew up within an indian community and have ...</td>\n",
              "      <td>5</td>\n",
              "    </tr>\n",
              "    <tr>\n",
              "      <th>21336</th>\n",
              "      <td>2009-12-05</td>\n",
              "      <td>b000kv61fc</td>\n",
              "      <td>i wanted to use this as an alternative to a ko...</td>\n",
              "      <td>2</td>\n",
              "    </tr>\n",
              "    <tr>\n",
              "      <th>143608</th>\n",
              "      <td>2011-06-15</td>\n",
              "      <td>b001b3jal0</td>\n",
              "      <td>i really really love pop chips they are much l...</td>\n",
              "      <td>4</td>\n",
              "    </tr>\n",
              "    <tr>\n",
              "      <th>37456</th>\n",
              "      <td>2011-03-07</td>\n",
              "      <td>b00017ley8</td>\n",
              "      <td>i cannot believe the vendor had the nerve to s...</td>\n",
              "      <td>1</td>\n",
              "    </tr>\n",
              "    <tr>\n",
              "      <th>175234</th>\n",
              "      <td>2008-01-07</td>\n",
              "      <td>b0009xuax0</td>\n",
              "      <td>great products easy to deal with i order from ...</td>\n",
              "      <td>5</td>\n",
              "    </tr>\n",
              "    <tr>\n",
              "      <th>355251</th>\n",
              "      <td>2011-02-24</td>\n",
              "      <td>b000n33nsu</td>\n",
              "      <td>i first purchased erin baker s breakfast cooki...</td>\n",
              "      <td>5</td>\n",
              "    </tr>\n",
              "    <tr>\n",
              "      <th>245210</th>\n",
              "      <td>2012-06-25</td>\n",
              "      <td>b001j8h1e0</td>\n",
              "      <td>my dogs love these and its great to finally fi...</td>\n",
              "      <td>5</td>\n",
              "    </tr>\n",
              "  </tbody>\n",
              "</table>\n",
              "</div>"
            ],
            "text/plain": [
              "             time  ... ratings\n",
              "228233 2011-03-26  ...       5\n",
              "221818 2012-02-24  ...       4\n",
              "209569 2011-02-20  ...       5\n",
              "305287 2011-09-22  ...       5\n",
              "21336  2009-12-05  ...       2\n",
              "143608 2011-06-15  ...       4\n",
              "37456  2011-03-07  ...       1\n",
              "175234 2008-01-07  ...       5\n",
              "355251 2011-02-24  ...       5\n",
              "245210 2012-06-25  ...       5\n",
              "\n",
              "[10 rows x 4 columns]"
            ]
          },
          "metadata": {
            "tags": []
          },
          "execution_count": 25
        }
      ]
    },
    {
      "cell_type": "code",
      "metadata": {
        "colab": {
          "base_uri": "https://localhost:8080/"
        },
        "id": "sF-ztFv-eBOz",
        "outputId": "7b82d725-6ec2-4026-ae7a-62f8b0e5caa1"
      },
      "source": [
        "df_nlp_top_prods.shape"
      ],
      "execution_count": null,
      "outputs": [
        {
          "output_type": "execute_result",
          "data": {
            "text/plain": [
              "(184574, 4)"
            ]
          },
          "metadata": {
            "tags": []
          },
          "execution_count": 26
        }
      ]
    },
    {
      "cell_type": "code",
      "metadata": {
        "id": "N-FPyQZX2onS"
      },
      "source": [],
      "execution_count": null,
      "outputs": []
    },
    {
      "cell_type": "code",
      "metadata": {
        "id": "2UmtQxgy2ofE"
      },
      "source": [],
      "execution_count": null,
      "outputs": []
    },
    {
      "cell_type": "markdown",
      "metadata": {
        "id": "ARVJSvT1rPE5"
      },
      "source": [
        "## TRAIN - TEST SPLIT:"
      ]
    },
    {
      "cell_type": "code",
      "metadata": {
        "colab": {
          "base_uri": "https://localhost:8080/"
        },
        "id": "HkYahiuxeBL-",
        "outputId": "93dc6f8a-6730-400d-a78e-e44a952e20fb"
      },
      "source": [
        "import aaic_mlfuncs as ai\n",
        "\n",
        "df_Xy = df_nlp_top_prods\n",
        "idxs_tr, idxs_ts = ai.fn_tr_ts_split_clf(df_Xy, ts_size = 0.2)\n",
        "\n",
        "df_tr = df_Xy.iloc[idxs_tr]\n",
        "df_ts = df_Xy.iloc[idxs_ts]\n",
        "\n",
        "df_tr.index = range(len(df_tr))\n",
        "df_ts.index = range(len(df_ts))\n",
        "\n",
        "df_tr.shape, df_ts.shape"
      ],
      "execution_count": null,
      "outputs": [
        {
          "output_type": "execute_result",
          "data": {
            "text/plain": [
              "((147659, 4), (36915, 4))"
            ]
          },
          "metadata": {
            "tags": []
          },
          "execution_count": 27
        }
      ]
    },
    {
      "cell_type": "code",
      "metadata": {
        "colab": {
          "base_uri": "https://localhost:8080/",
          "height": 197
        },
        "id": "2jn-GRXOrTI7",
        "outputId": "5dd23d31-d3dc-4b83-8b58-cbbe5b233bf7"
      },
      "source": [
        "df_ts.head()"
      ],
      "execution_count": null,
      "outputs": [
        {
          "output_type": "execute_result",
          "data": {
            "text/html": [
              "<div>\n",
              "<style scoped>\n",
              "    .dataframe tbody tr th:only-of-type {\n",
              "        vertical-align: middle;\n",
              "    }\n",
              "\n",
              "    .dataframe tbody tr th {\n",
              "        vertical-align: top;\n",
              "    }\n",
              "\n",
              "    .dataframe thead th {\n",
              "        text-align: right;\n",
              "    }\n",
              "</style>\n",
              "<table border=\"1\" class=\"dataframe\">\n",
              "  <thead>\n",
              "    <tr style=\"text-align: right;\">\n",
              "      <th></th>\n",
              "      <th>time</th>\n",
              "      <th>prod_id</th>\n",
              "      <th>reviews</th>\n",
              "      <th>ratings</th>\n",
              "    </tr>\n",
              "  </thead>\n",
              "  <tbody>\n",
              "    <tr>\n",
              "      <th>55636</th>\n",
              "      <td>2008-04-13</td>\n",
              "      <td>b001e5e05g</td>\n",
              "      <td>this is one of the better dry cold cereals on ...</td>\n",
              "      <td>5</td>\n",
              "    </tr>\n",
              "    <tr>\n",
              "      <th>21467</th>\n",
              "      <td>2010-08-13</td>\n",
              "      <td>b000kv61fc</td>\n",
              "      <td>i thought this would be fantastic to keep my p...</td>\n",
              "      <td>1</td>\n",
              "    </tr>\n",
              "    <tr>\n",
              "      <th>156135</th>\n",
              "      <td>2012-10-20</td>\n",
              "      <td>b001eo5q64</td>\n",
              "      <td>this stuff nutiva organic extra virgin coconut...</td>\n",
              "      <td>5</td>\n",
              "    </tr>\n",
              "    <tr>\n",
              "      <th>127260</th>\n",
              "      <td>2012-06-11</td>\n",
              "      <td>b000e8wias</td>\n",
              "      <td>it took about drops for coffe and for green te...</td>\n",
              "      <td>3</td>\n",
              "    </tr>\n",
              "    <tr>\n",
              "      <th>86970</th>\n",
              "      <td>2011-05-06</td>\n",
              "      <td>b003v5v5j6</td>\n",
              "      <td>was very surprised on how strong the flavors a...</td>\n",
              "      <td>5</td>\n",
              "    </tr>\n",
              "  </tbody>\n",
              "</table>\n",
              "</div>"
            ],
            "text/plain": [
              "             time  ... ratings\n",
              "55636  2008-04-13  ...       5\n",
              "21467  2010-08-13  ...       1\n",
              "156135 2012-10-20  ...       5\n",
              "127260 2012-06-11  ...       3\n",
              "86970  2011-05-06  ...       5\n",
              "\n",
              "[5 rows x 4 columns]"
            ]
          },
          "metadata": {
            "tags": []
          },
          "execution_count": 28
        }
      ]
    },
    {
      "cell_type": "code",
      "metadata": {
        "id": "LYywLJOZtB0G"
      },
      "source": [
        "df_tr.index = range(len(df_tr))\n",
        "df_ts.index = range(len(df_ts))"
      ],
      "execution_count": null,
      "outputs": []
    },
    {
      "cell_type": "code",
      "metadata": {
        "id": "Oh9dkGXaTLhj"
      },
      "source": [],
      "execution_count": null,
      "outputs": []
    },
    {
      "cell_type": "code",
      "metadata": {
        "id": "TqFOmvPKTLbo"
      },
      "source": [],
      "execution_count": null,
      "outputs": []
    },
    {
      "cell_type": "code",
      "metadata": {
        "colab": {
          "base_uri": "https://localhost:8080/",
          "height": 352
        },
        "id": "RuzkpkoO2hhY",
        "outputId": "7f6cfbba-04da-441b-b187-5564cba510df"
      },
      "source": [
        "y = df_tr.ratings.values\n",
        "\n",
        "ai.fn_distr_labels_clf(y)"
      ],
      "execution_count": null,
      "outputs": [
        {
          "output_type": "display_data",
          "data": {
            "image/png": "[encoded data removed]",
            "text/plain": [
              "<Figure size 432x288 with 1 Axes>"
            ]
          },
          "metadata": {
            "tags": []
          }
        }
      ]
    },
    {
      "cell_type": "code",
      "metadata": {
        "id": "u6scdmzvTJ2A"
      },
      "source": [],
      "execution_count": null,
      "outputs": []
    },
    {
      "cell_type": "code",
      "metadata": {
        "id": "cZt80LTPTJvS"
      },
      "source": [],
      "execution_count": null,
      "outputs": []
    },
    {
      "cell_type": "code",
      "metadata": {
        "colab": {
          "base_uri": "https://localhost:8080/",
          "height": 438
        },
        "id": "6dQbTNJ4_Lx9",
        "outputId": "adba5453-6024-472e-c224-fb20c4cc0b8b"
      },
      "source": [
        "df_prod_ratings = df_tr.groupby('prod_id').mean().sort_values(by = 'ratings', ascending = False)\n",
        "df_prod_freq = df_tr.prod_id.value_counts()\n",
        "df_prod_rating_freq = pd.concat([df_prod_ratings, df_prod_freq], axis = 1)\n",
        "df_prod_rating_freq.columns = ['ratings', 'freq']\n",
        "\n",
        "plt.figure(figsize = (10, 7))\n",
        "plt.scatter(df_prod_rating_freq.ratings, df_prod_rating_freq.freq, alpha = 0.4)\n",
        "plt.xlabel('REVIEWS')\n",
        "plt.ylabel('FREQ')\n",
        "plt.show()"
      ],
      "execution_count": null,
      "outputs": [
        {
          "output_type": "display_data",
          "data": {
            "image/png": "[encoded data removed]",
            "text/plain": [
              "<Figure size 720x504 with 1 Axes>"
            ]
          },
          "metadata": {
            "tags": []
          }
        }
      ]
    },
    {
      "cell_type": "code",
      "metadata": {
        "id": "1_H2uzucTI8E"
      },
      "source": [],
      "execution_count": null,
      "outputs": []
    },
    {
      "cell_type": "code",
      "metadata": {
        "id": "Vo0ZJ9CfTIxh"
      },
      "source": [],
      "execution_count": null,
      "outputs": []
    },
    {
      "cell_type": "code",
      "metadata": {
        "colab": {
          "base_uri": "https://localhost:8080/",
          "height": 317
        },
        "id": "JpYDz3MWMtuX",
        "outputId": "74c98b50-50d6-41a7-d70e-bf2cf9f09d32"
      },
      "source": [
        "cond_1 = df_prod_rating_freq.ratings >= 3.5\n",
        "cond_2 = df_prod_rating_freq.freq >= 400\n",
        "\n",
        "df_top_prods = df_prod_rating_freq[cond_1 & cond_2]\n",
        "df_top_prods"
      ],
      "execution_count": null,
      "outputs": [
        {
          "output_type": "execute_result",
          "data": {
            "text/html": [
              "<div>\n",
              "<style scoped>\n",
              "    .dataframe tbody tr th:only-of-type {\n",
              "        vertical-align: middle;\n",
              "    }\n",
              "\n",
              "    .dataframe tbody tr th {\n",
              "        vertical-align: top;\n",
              "    }\n",
              "\n",
              "    .dataframe thead th {\n",
              "        text-align: right;\n",
              "    }\n",
              "</style>\n",
              "<table border=\"1\" class=\"dataframe\">\n",
              "  <thead>\n",
              "    <tr style=\"text-align: right;\">\n",
              "      <th></th>\n",
              "      <th>ratings</th>\n",
              "      <th>freq</th>\n",
              "    </tr>\n",
              "  </thead>\n",
              "  <tbody>\n",
              "    <tr>\n",
              "      <th>b000nmjwzo</th>\n",
              "      <td>4.867749</td>\n",
              "      <td>431</td>\n",
              "    </tr>\n",
              "    <tr>\n",
              "      <th>b003b3oopa</th>\n",
              "      <td>4.737475</td>\n",
              "      <td>499</td>\n",
              "    </tr>\n",
              "    <tr>\n",
              "      <th>b001eo5q64</th>\n",
              "      <td>4.736264</td>\n",
              "      <td>455</td>\n",
              "    </tr>\n",
              "    <tr>\n",
              "      <th>b002qwp89s</th>\n",
              "      <td>4.609195</td>\n",
              "      <td>522</td>\n",
              "    </tr>\n",
              "    <tr>\n",
              "      <th>b007jfmh8m</th>\n",
              "      <td>4.590096</td>\n",
              "      <td>727</td>\n",
              "    </tr>\n",
              "    <tr>\n",
              "      <th>b000ubd88a</th>\n",
              "      <td>4.376147</td>\n",
              "      <td>436</td>\n",
              "    </tr>\n",
              "    <tr>\n",
              "      <th>b0013nugde</th>\n",
              "      <td>4.331169</td>\n",
              "      <td>462</td>\n",
              "    </tr>\n",
              "    <tr>\n",
              "      <th>b0090x8ipm</th>\n",
              "      <td>3.825175</td>\n",
              "      <td>429</td>\n",
              "    </tr>\n",
              "    <tr>\n",
              "      <th>b005k4q37a</th>\n",
              "      <td>3.820225</td>\n",
              "      <td>445</td>\n",
              "    </tr>\n",
              "  </tbody>\n",
              "</table>\n",
              "</div>"
            ],
            "text/plain": [
              "             ratings  freq\n",
              "b000nmjwzo  4.867749   431\n",
              "b003b3oopa  4.737475   499\n",
              "b001eo5q64  4.736264   455\n",
              "b002qwp89s  4.609195   522\n",
              "b007jfmh8m  4.590096   727\n",
              "b000ubd88a  4.376147   436\n",
              "b0013nugde  4.331169   462\n",
              "b0090x8ipm  3.825175   429\n",
              "b005k4q37a  3.820225   445"
            ]
          },
          "metadata": {
            "tags": []
          },
          "execution_count": 34
        }
      ]
    },
    {
      "cell_type": "code",
      "metadata": {
        "id": "dDRj94biPMqu"
      },
      "source": [],
      "execution_count": null,
      "outputs": []
    },
    {
      "cell_type": "code",
      "metadata": {
        "id": "aJSVQ2g_PMnh"
      },
      "source": [],
      "execution_count": null,
      "outputs": []
    },
    {
      "cell_type": "code",
      "metadata": {
        "id": "gkepGlEPPMkV"
      },
      "source": [],
      "execution_count": null,
      "outputs": []
    },
    {
      "cell_type": "code",
      "metadata": {
        "colab": {
          "base_uri": "https://localhost:8080/"
        },
        "id": "0x7jl0zWMtqy",
        "outputId": "0293aef7-03ae-47f4-8ebb-e05d1daf701b"
      },
      "source": [
        "df_tr[df_tr.prod_id == df_top_prods.index[0]].reviews.sample(5).values"
      ],
      "execution_count": null,
      "outputs": [
        {
          "output_type": "execute_result",
          "data": {
            "text/plain": [
              "array(['when we first started using this stuff we were on the subscribe and save program getting pound bags every months and that s just for people we were eating pancakes every morning we ve slowed down a bit since but still love this mix it s great for pancakes biscuits sweet breads etc and it s gluten free ',\n",
              "       'i love this mix because i ve been able to use it to recreate some old family recipes the ones grandma would make for us as kids which i have such fond memories of who could ask for more than that it doesn t have any bean flour in it so it doesn t have that aftertaste that is common in other mixes there are some great recipes on pamela s website as well especially the one for cornbread it really taste good to mix butter or margarine with some roasted pecans and a little honey as a topping for it it makes really good pancakes too the bread recipe makes a nice loaf but i would consider it a desert bread so although it does ok even if it isn t toasted it s not really good for sandwiches but it does work very well when you spread jelly or a chocolate hazelnut spread on it i buy this from amazon it s a great price esp compared to the local health food store ',\n",
              "       'i have been using this mix for years for no other reason than it is superb when you make pancakes or waffles try gently folding in seltzer soda mineral water in place of plain water it makes them fluffier i also add a teaspoon of vanilla or almond extract to the mix and top the pancakes with raw blue agave nectar instead of high glycemic syrups for the oil which is necessary if you don t want them to turn out like rubber and stick to the pan try melted organic extra virgin coconut oil melted ghee or a nut oil of your liking like peanut almond or macadamia nut oils for an excellent oil with no flavor try republic of tea s stir fry oil made from green tea seeds it s excellent br br another plus to pamela s baking pancake mix is that there isn t any trans fat ',\n",
              "       'i love this mix not only are the pancakes and muffins great but almost every recipe tried has turned out yummy our latest creation is carrot cake my husband made for me and we think its much better than using regular flour and such br thanks for a ultimate product i love it ',\n",
              "       'excellent for pancakes and baking i have tried almost all the recipes on the bag and they all taste great '],\n",
              "      dtype=object)"
            ]
          },
          "metadata": {
            "tags": []
          },
          "execution_count": 35
        }
      ]
    },
    {
      "cell_type": "code",
      "metadata": {
        "colab": {
          "base_uri": "https://localhost:8080/"
        },
        "id": "9ZMBzi02MtnA",
        "outputId": "fa7b43a3-d950-418b-c013-50eac3119853"
      },
      "source": [
        "df_tr[df_tr.prod_id == df_top_prods.index[1]].reviews.sample(5).values"
      ],
      "execution_count": null,
      "outputs": [
        {
          "output_type": "execute_result",
          "data": {
            "text/plain": [
              "array(['this is a must have if you re a college student cooking for yourself i can use this on the pan i can use this on a banana sandwich which is delicious with speculoos and lightly toasted bread and sometimes i just stick it into whatever is in the pot just for fun coconut oil is good for your health it smells great too ',\n",
              "       'i love this stuff i use it on my skin and it drinks it up i put it in my hair before washing and my hair looks great and hydrated i really like this stuff i moisturize my face with it at night as well it s really an amazing product bravo and i m so happy i bought this ',\n",
              "       'i was rather disappointed with this product first it arrived totally melted and liquified to the company s everlasting credit they gave me a full refund the level of customer service was excellent but i found this product to be greasy and unwieldy i used it as a body lotion but felt slimy i also tried to massage it on my cat who usually enjoys a kitty spa experience and he ran from me this is not a product i would order again although i believe this is an awesome company ',\n",
              "       'i decided to order this product after reading a few books about the benefits of coconut oil i received this product about two weeks ago here are my observations br br it totally curbs my appetite and gives me a sense of satisfaction so i don t have to eat every couple of hours br br it gives me so much energy i usually have to drink two cups of green tea to get me going maybe a cup of coffee if it s a very busy day but since i started using coconut oil my energy level is higher and i get a lot more done without burning out br br it made me regular not to be too detailed but you will have a movement after almost every meal br br no morning breath br br soft silky skin hair br br no toothache i had a cap that came loose so i had my dentist bond it back on but it kept bothering me as if it was infected or something but since i started using coconut oil whatever was going on is totally healed br br we are on our nd bottle already i love it so much i also use it as moisturizer just be careful when applying it to your shoulders especially if you have long hair it will make your hair greasy br br i hope you have the same positive experience ',\n",
              "       'i use this organic coconut oil in my sons hair its fantastic smells great doesn t leave his hair dry no sulfate best of all it can be use for other things to like cooking or to lotion your skin would buy again and again '],\n",
              "      dtype=object)"
            ]
          },
          "metadata": {
            "tags": []
          },
          "execution_count": 36
        }
      ]
    },
    {
      "cell_type": "code",
      "metadata": {
        "colab": {
          "base_uri": "https://localhost:8080/"
        },
        "id": "4YYFdxzTOpNi",
        "outputId": "fa7e076f-a6dd-4277-981d-106c27503c18"
      },
      "source": [
        "df_tr[df_tr.prod_id == df_top_prods.index[2]].reviews.sample(5).values"
      ],
      "execution_count": null,
      "outputs": [
        {
          "output_type": "execute_result",
          "data": {
            "text/plain": [
              "array(['i bought this product for my hair because of other people s reviews my hair was brittle and looked horrible because i color it often and use a flat iron almost daily i started using this product and my hair looks youthful and shiny again i have paid hundreds of dollars on conditioners and nothing worked better than coconut oil love the fact that you get two of these its a great deal ',\n",
              "       'great product quick shipment great price i love love love coconut oil and it s quite pricey i should have purchased more and keep them stocked i use it on my hair skin',\n",
              "       'i got this because i had read on another website that this product was great for using in place of butter and for skin care well i don t like using it in place of butter it is very tasty with no phony aftertaste or anything i have used it when making certain things on the stove where i would use butter mostly i use it for items that are on the sweeter side it s very good on toast too almost like having dessert br br in the winter i get very dry elbows i have one of the jars in my bedroom so i can just apply to my skin whenever i want it s not greasy which surprised me i thought it would be everywhere it soaks right into your skin in the reviews on qvc i believe there are women using this exact product on their face that s just not my thing i think the sweetness of the smell would bother my nose due to sensitivities to smells anyway it fixes my elbows up with a couple of days i only apply it in the morning and at bedtime i also use it on my arms legs whenever they seem to be getting a little dry wonderful product ',\n",
              "       'i had heard about the benefits of coconut oil from a friend who swears by coconut water which is quite possible the nastiest drink ever made i decided to give it a try br br i first used it in my hair i am an african american female with natural hair and i use the coconut oil to seal in the moisture in my hair after i condition my hair in the mornings it gave my hair a beautiful sheen and kept it soft throughout the day so i definitely love its hair benefits br br then i also used it on a patch of really dry skin that i have right on my leg i suffer with eczema and it tends to get worse over the dry winter months i ve been rubbing it in every morning after my shower and i can see a significant improvement so two thumbs up for the skin benefits as well br br as far as cooking goes i m considering using it to sautee some fish and make this coconut lime tilapia dish i saw a recipe for if anyone has any other suggestions for how to use it in my cooking i would love to know can it be used in place of any oil i know different oils have different heat capacities and didn t know if you could fry with this type of oil br br thanks ',\n",
              "       'i knew my coconut oil had arrived because of the dark oily spot spreading over the outside of the box the two containers were bubble wrapped with no other packaging around them so they were rolling around in the box while in transit i called nutiva who said that amazon was the seller and packager of their product the guy also said that amazon has some of the worst packaging of items like this in the industry the nutiva guy said that i got a really good price on their product but with results like i had i guess i didn t get a good deal as only one container was sealed and safe to use i am a huge amazon fan for many things but unless i get assurances for packaging improvements i will hesitate before ordering perishable items in the future '],\n",
              "      dtype=object)"
            ]
          },
          "metadata": {
            "tags": []
          },
          "execution_count": 37
        }
      ]
    },
    {
      "cell_type": "code",
      "metadata": {
        "colab": {
          "base_uri": "https://localhost:8080/"
        },
        "id": "rylJGwYFMtkG",
        "outputId": "42c8299f-824d-4def-ece7-12f724a7e9e8"
      },
      "source": [
        "df_tr[df_tr.prod_id == df_top_prods.index[3]].reviews.sample(5).values"
      ],
      "execution_count": null,
      "outputs": [
        {
          "output_type": "execute_result",
          "data": {
            "text/plain": [
              "array(['i ll admit i am reviewing a product i have not used the reason is that wheat gluten is about the cause of allergies in dogs when wheat gluten is broken down it gets very sticky so it coats the cilia of the digestive tract this can cause irritation and cause the immune system to actually destroy the lining of the intestines this means that your pup might not be able to absorb all the nutrients he is eating br br often allergies show up as hot spots where the dog gets itchy and possibly scratches fur off the problem with food allergies is it s possible that they won t be obvious because all the damage will be internal br br so i have not seen a problem with this product but i have known dogs who have had terrible reactions to wheat it s the same things as gluten intolerance in humans but it s much more common in dogs who are not quite as good at digesting grains wheat flour can be bad enough but including concentrated wheat protein is much worse because that is what causes the allergies ',\n",
              "       'amber loves her greenies and they sure help to keep her teeth clean i hope this continues and i can avoid another expensive dentel bill from her vet ',\n",
              "       'i made the mistake to give a greeny to my puppy without reading reviews about this product it was a bad idea the poor puppy got very sick after eating a greenie he vomited and had diarrhea br br i took him to urgent care and the vet s verdict informed on the x ray was a greenie got stocked in his intestine br br i was very lucky to get the puppy recovered with medicine but surgery was being considered by the vet mind about on the worst case scenario my puppy could have died because his intestinal system was obstructed for days br br after this unfortunate incident i looked up for reviews about this unsafe product and not to be surprised i found several concerning stories like mine i also learned that few dog owners have sued greenies because they believe it was the reason that provoked an obstruction to their pets digestive system sadly resulting on death roughly million greenies were sold last year but the breath freshening treats have been blamed for at least pet deaths and more than two dozen complaints have been filed with the feds dogster com br br note that as the product label says greenies are not digestible and if you read with more attention the label has a warning saying that dogs may get sick or even chock when ingesting a greenie br br at the end of the day it s hard to believe that there are companies like grennies that don t address these issues and just care about marketing and profiting not so much about producing a healthy safe treat for our best buddies br br in any case i d recommend to ask your vet or read more dog owners reviews before giving greenies to your dog ',\n",
              "       'i have bought greenies for my dog for years since she was a puppy she has always had digestive problems but we didn t know why while googling greenies a couple of weeks ago i found that several dogs have died because they were not able to digest greenies please do some research before buying this product again it could save your dog s life since switching to another dog treat my dog has not had any problems although it has only been two weeks ',\n",
              "       'my yorky absolutely loves greenies chews they are good for him so i am very glad that he likes them so well they have a pleasant smell even to me my cats love greenies too the feline variety i recommend them highly '],\n",
              "      dtype=object)"
            ]
          },
          "metadata": {
            "tags": []
          },
          "execution_count": 38
        }
      ]
    },
    {
      "cell_type": "code",
      "metadata": {
        "colab": {
          "base_uri": "https://localhost:8080/"
        },
        "id": "a5xs_f3BMtg8",
        "outputId": "3f6a9fee-b420-4112-8ec0-c25fac811ca5"
      },
      "source": [
        "df_tr[df_tr.prod_id == df_top_prods.index[4]].reviews.sample(5).values"
      ],
      "execution_count": null,
      "outputs": [
        {
          "output_type": "execute_result",
          "data": {
            "text/plain": [
              "array(['i loved these cookies they are chewy and moist and the raisins are not hard or gummy they are very fresh and plump they bring back memories of grandmas kitchen ',\n",
              "       'i received a quaker soft baked oatmeal raisin cookie from influenster to try and review i shared this with my son who does not like oatmeal and he loved it i love that it is made with whole grains and could be a good substitute for an on the go breakfast when i am running behind the flavoe is very good i love the soft texture i really don t care for hard cookies and this one is perfect i would recomeend this product to others and will probably purchase some more for my family ',\n",
              "       'my daughter loved my free sample of this cookie from influenster she goobled it right down which i didn t think she would she s not the biggest fan of rasins i tried a bite and thought it was kinda dry myself but if my daughter loves it i will buy it again ',\n",
              "       'delicious and soft treat perfect to store in a purse or diaper bag my kids loved them and i enjoyed them also ',\n",
              "       'they are great tasty and delicisous we even tried the banana nut ones they were fantastic we loved them my kids loved them a great breakfast on the go '],\n",
              "      dtype=object)"
            ]
          },
          "metadata": {
            "tags": []
          },
          "execution_count": 39
        }
      ]
    },
    {
      "cell_type": "code",
      "metadata": {
        "id": "U3-2zzpAMteD"
      },
      "source": [],
      "execution_count": null,
      "outputs": []
    },
    {
      "cell_type": "code",
      "metadata": {
        "id": "1UDH5mlJa1W0"
      },
      "source": [],
      "execution_count": null,
      "outputs": []
    },
    {
      "cell_type": "code",
      "metadata": {
        "id": "Eu75G9WEa1TN"
      },
      "source": [],
      "execution_count": null,
      "outputs": []
    },
    {
      "cell_type": "code",
      "metadata": {
        "colab": {
          "base_uri": "https://localhost:8080/",
          "height": 406
        },
        "id": "DEa1F1ajZp79",
        "outputId": "1d4b42e8-aaba-45cb-c15a-bc97b32b2854"
      },
      "source": [
        "freq = [1 for i in range(len(df_tr))]\n",
        "df_timestamp = pd.DataFrame().assign(prod_id = df_tr.prod_id, freq = freq)\n",
        "df_timestamp.index = df_tr.time\n",
        "\n",
        "fig, ax = plt.subplots(figsize=(12,6))\n",
        "\n",
        "df_timestamp.freq.resample('M').sum().plot(ax=ax)\n",
        "ax.set_title('AMAZON FOOD TIMEPLOT', fontsize = 16)\n",
        "ax.set_ylabel('NUM OF ONLINE ORDERS', fontsize = 14)\n",
        "ax.set_xlabel('YEAR', fontsize = 14)\n",
        "ax.xaxis.set_ticks_position('bottom')\n",
        "plt.show()"
      ],
      "execution_count": null,
      "outputs": [
        {
          "output_type": "display_data",
          "data": {
            "image/png": "[encoded data removed]",
            "text/plain": [
              "<Figure size 864x432 with 1 Axes>"
            ]
          },
          "metadata": {
            "tags": []
          }
        }
      ]
    },
    {
      "cell_type": "code",
      "metadata": {
        "id": "wrnDPGjlOxEF"
      },
      "source": [],
      "execution_count": null,
      "outputs": []
    },
    {
      "cell_type": "code",
      "metadata": {
        "id": "v_IRdjOXa2E8"
      },
      "source": [],
      "execution_count": null,
      "outputs": []
    },
    {
      "cell_type": "code",
      "metadata": {
        "id": "fmHzkg1Wa2B0"
      },
      "source": [],
      "execution_count": null,
      "outputs": []
    },
    {
      "cell_type": "markdown",
      "metadata": {
        "id": "NM4nIG7A2iI7"
      },
      "source": [
        "### SAVE TRAIN AND TEST SETS:"
      ]
    },
    {
      "cell_type": "code",
      "metadata": {
        "id": "w9j1ErVkrSzf"
      },
      "source": [
        "# df_tr.to_csv(data_path + 'df_nlp_tr.csv', index = False)\n",
        "# df_ts.to_csv(data_path + 'df_nlp_ts.csv', index = False)"
      ],
      "execution_count": null,
      "outputs": []
    },
    {
      "cell_type": "code",
      "metadata": {
        "id": "tsBo6vAnXBDX"
      },
      "source": [],
      "execution_count": null,
      "outputs": []
    },
    {
      "cell_type": "code",
      "metadata": {
        "id": "HRvBwsFrXA_q"
      },
      "source": [],
      "execution_count": null,
      "outputs": []
    },
    {
      "cell_type": "code",
      "metadata": {
        "id": "rNL1DlZrTEQP"
      },
      "source": [
        "corpus = df_tr.reviews.values\n",
        "kwargs = dict(min_df=10, max_features = 3000,\n",
        "              ngram_range = (1,1), stop_words = {'english'})\n",
        "\n",
        "\n",
        "%time BOW_vectorizer = CountVectorizer(**kwargs).fit(corpus)\n",
        "%time bow_matrix = BOW_vectorizer.transform(corpus)\n",
        "\n",
        "bow_matrix.shape"
      ],
      "execution_count": null,
      "outputs": []
    },
    {
      "cell_type": "markdown",
      "metadata": {
        "id": "munOgVCy8iKB"
      },
      "source": [
        "## 2.TFIDF:"
      ]
    },
    {
      "cell_type": "code",
      "metadata": {
        "id": "KFU2ojp9U2wW"
      },
      "source": [
        "df_tr = pd.read_csv(data_path + 'df_nlp_tr.csv')\n",
        "df_ts = pd.read_csv(data_path + 'df_nlp_ts.csv')"
      ],
      "execution_count": null,
      "outputs": []
    },
    {
      "cell_type": "code",
      "metadata": {
        "colab": {
          "base_uri": "https://localhost:8080/"
        },
        "id": "3vbj7UL43PJm",
        "outputId": "ea3d4e06-45b3-47e6-8917-707cea675690"
      },
      "source": [
        "corpus = df_tr.reviews.values\n",
        "kwargs = dict(min_df=10, max_features = 3000,\n",
        "              ngram_range = (1,1), stop_words = {'english'})\n",
        "\n",
        "%time TFIDF_vectorizer = TfidfVectorizer(**kwargs).fit(corpus)\n",
        "%time tfidf_matrix = TFIDF_vectorizer.transform(corpus)\n",
        "\n",
        "tfidf_matrix.shape"
      ],
      "execution_count": null,
      "outputs": [
        {
          "output_type": "stream",
          "text": [
            "CPU times: user 7.49 s, sys: 121 ms, total: 7.61 s\n",
            "Wall time: 7.63 s\n",
            "CPU times: user 7.74 s, sys: 3.49 ms, total: 7.74 s\n",
            "Wall time: 7.76 s\n"
          ],
          "name": "stdout"
        },
        {
          "output_type": "execute_result",
          "data": {
            "text/plain": [
              "(147659, 3000)"
            ]
          },
          "metadata": {
            "tags": []
          },
          "execution_count": 23
        }
      ]
    },
    {
      "cell_type": "code",
      "metadata": {
        "colab": {
          "base_uri": "https://localhost:8080/"
        },
        "id": "eynTnAy39pVU",
        "outputId": "499c9040-72a8-4de8-bf24-28f8a91e1e75"
      },
      "source": [
        "ts_tfidf_matrix = TFIDF_vectorizer.transform(df_ts.reviews.values)\n",
        "\n",
        "ts_tfidf_matrix.shape"
      ],
      "execution_count": null,
      "outputs": [
        {
          "output_type": "execute_result",
          "data": {
            "text/plain": [
              "(36915, 3000)"
            ]
          },
          "metadata": {
            "tags": []
          },
          "execution_count": 24
        }
      ]
    },
    {
      "cell_type": "code",
      "metadata": {
        "id": "nm2sNLXM2Z1s"
      },
      "source": [],
      "execution_count": null,
      "outputs": []
    },
    {
      "cell_type": "code",
      "metadata": {
        "id": "ljmzR4EW2Znq"
      },
      "source": [],
      "execution_count": null,
      "outputs": []
    },
    {
      "cell_type": "code",
      "metadata": {
        "id": "yZVDhYJz2Zj3"
      },
      "source": [],
      "execution_count": null,
      "outputs": []
    },
    {
      "cell_type": "markdown",
      "metadata": {
        "id": "zywxHEXd8n_q"
      },
      "source": [
        "##3. WORD2VEC:"
      ]
    },
    {
      "cell_type": "code",
      "metadata": {
        "id": "IsraQMV33O4J"
      },
      "source": [],
      "execution_count": null,
      "outputs": []
    },
    {
      "cell_type": "code",
      "metadata": {
        "colab": {
          "base_uri": "https://localhost:8080/"
        },
        "id": "FZ8-6mBu3Oyp",
        "outputId": "0b3602db-18bd-45d9-f8e9-89b571439675"
      },
      "source": [
        "from gensim.models import KeyedVectors\n",
        "\n",
        "load_w2v = KeyedVectors.load_word2vec_format\n",
        "name = 'GoogleNews-vectors-negative300.bin'\n",
        "w2v_google = load_w2v(data_path + name, binary=True)\n",
        "\n",
        "w2v_dims = w2v_google['wizard'].shape[0]\n",
        "w2v_dims"
      ],
      "execution_count": null,
      "outputs": [
        {
          "output_type": "execute_result",
          "data": {
            "text/plain": [
              "300"
            ]
          },
          "metadata": {
            "tags": []
          },
          "execution_count": 26
        }
      ]
    },
    {
      "cell_type": "code",
      "metadata": {
        "id": "9B41mYpEGAu2"
      },
      "source": [],
      "execution_count": null,
      "outputs": []
    },
    {
      "cell_type": "code",
      "metadata": {
        "id": "34lDwip5BXEu"
      },
      "source": [],
      "execution_count": null,
      "outputs": []
    },
    {
      "cell_type": "code",
      "metadata": {
        "id": "shYcRhZgTFV1"
      },
      "source": [],
      "execution_count": null,
      "outputs": []
    },
    {
      "cell_type": "markdown",
      "metadata": {
        "id": "N-v02Izooc1-"
      },
      "source": [
        "## 4. TF IDF WEIGHED W2V:"
      ]
    },
    {
      "cell_type": "code",
      "metadata": {
        "id": "C4GU5WYRfm0w"
      },
      "source": [
        "def fn_w2v(word, weight):\n",
        "    try:\n",
        "        word_vec = w2v_model[word]\n",
        "    except:\n",
        "            word_vec = np.zeros(w2v_dims)\n",
        "    return list(word_vec * weight)"
      ],
      "execution_count": null,
      "outputs": []
    },
    {
      "cell_type": "code",
      "metadata": {
        "id": "RCqcNcrAbdPP"
      },
      "source": [
        "def fn_tfidf_w2v(tfidf_matrix, tfidf_features, w2v_model, w2v_dims = 300):\n",
        "\n",
        "    pbar = ProgressBar(max_value = tfidf_matrix.shape[0])\n",
        "    listO_weighed_w2c_doc_vecs = []\n",
        "\n",
        "    c, missed_rows = 0, []\n",
        "    for tfidf_row in pbar(tfidf_matrix):\n",
        "\n",
        "        non_zero_idxs = tfidf_row.toarray().squeeze().nonzero()[0]\n",
        "\n",
        "        if len(non_zero_idxs) == 0:\n",
        "            missed_rows.append(c)\n",
        "            c += 1\n",
        "            continue\n",
        "\n",
        "        doc_weights = tfidf_row.toarray().squeeze()[non_zero_idxs]\n",
        "        doc_words = np.array(tfidf_features)[non_zero_idxs]\n",
        "\n",
        "        iter = zip(doc_words, doc_weights)\n",
        "        weighed_word_vecs = np.array([fn_w2v(word, weight) for word, weight in iter])\n",
        "        weighed_w2c_doc_vecs = sum(weighed_word_vecs)/(sum(doc_weights) + 1e-5)\n",
        "        listO_weighed_w2c_doc_vecs.append(list(weighed_w2c_doc_vecs))\n",
        "\n",
        "        pbar.update()\n",
        "        c += 1\n",
        "\n",
        "    arryO_weighed_w2c_doc_vecs = np.array(listO_weighed_w2c_doc_vecs)\n",
        "    return arryO_weighed_w2c_doc_vecs, missed_rows"
      ],
      "execution_count": null,
      "outputs": []
    },
    {
      "cell_type": "code",
      "metadata": {
        "id": "lZ9UTFoTbONm"
      },
      "source": [],
      "execution_count": null,
      "outputs": []
    },
    {
      "cell_type": "code",
      "metadata": {
        "colab": {
          "base_uri": "https://localhost:8080/"
        },
        "id": "msapyWU63OpY",
        "outputId": "2d7437e7-5765-4f14-a6d4-5aafae018397"
      },
      "source": [
        "tfidf_features = TFIDF_vectorizer.get_feature_names()\n",
        "w2v_model = w2v_google\n",
        "\n",
        "z = fn_tfidf_w2v(tfidf_matrix, tfidf_features, w2v_model)\n",
        "arryO_tfidf_word_vecs, missed_rows = z\n",
        "\n",
        "arryO_tfidf_word_vecs.shape, len(missed_rows)"
      ],
      "execution_count": null,
      "outputs": [
        {
          "output_type": "stream",
          "text": [
            "100% (147659 of 147659) |################| Elapsed Time: 0:07:04 Time:  0:07:04\n"
          ],
          "name": "stderr"
        },
        {
          "output_type": "execute_result",
          "data": {
            "text/plain": [
              "((147657, 300), 2)"
            ]
          },
          "metadata": {
            "tags": []
          },
          "execution_count": 30
        }
      ]
    },
    {
      "cell_type": "code",
      "metadata": {
        "colab": {
          "base_uri": "https://localhost:8080/"
        },
        "id": "8kvDE8pWdw8w",
        "outputId": "7a6a663f-06dd-4727-9f78-78f293e96704"
      },
      "source": [
        "missed_rows"
      ],
      "execution_count": null,
      "outputs": [
        {
          "output_type": "execute_result",
          "data": {
            "text/plain": [
              "[87031, 112580]"
            ]
          },
          "metadata": {
            "tags": []
          },
          "execution_count": 31
        }
      ]
    },
    {
      "cell_type": "code",
      "metadata": {
        "colab": {
          "base_uri": "https://localhost:8080/"
        },
        "id": "93zc1pLjsrDM",
        "outputId": "2f3144db-04dc-433d-c8b6-bc1d5fb564a6"
      },
      "source": [
        "tfidf_features = TFIDF_vectorizer.get_feature_names()\n",
        "w2v_model = w2v_google\n",
        "\n",
        "z = fn_tfidf_w2v(ts_tfidf_matrix, tfidf_features, w2v_model)\n",
        "ts_arryO_tfidf_word_vecs, ts_missed_rows = z\n",
        "\n",
        "ts_arryO_tfidf_word_vecs.shape, len(ts_missed_rows)"
      ],
      "execution_count": null,
      "outputs": [
        {
          "output_type": "stream",
          "text": [
            "100% (36915 of 36915) |##################| Elapsed Time: 0:01:46 Time:  0:01:46\n"
          ],
          "name": "stderr"
        },
        {
          "output_type": "execute_result",
          "data": {
            "text/plain": [
              "((36914, 300), 1)"
            ]
          },
          "metadata": {
            "tags": []
          },
          "execution_count": 32
        }
      ]
    },
    {
      "cell_type": "code",
      "metadata": {
        "colab": {
          "base_uri": "https://localhost:8080/"
        },
        "id": "KaJaFdEFsq4L",
        "outputId": "3b8aaebe-c400-497b-de00-075651df2619"
      },
      "source": [
        "ts_missed_rows"
      ],
      "execution_count": null,
      "outputs": [
        {
          "output_type": "execute_result",
          "data": {
            "text/plain": [
              "[28833]"
            ]
          },
          "metadata": {
            "tags": []
          },
          "execution_count": 33
        }
      ]
    },
    {
      "cell_type": "code",
      "metadata": {
        "id": "b_qwiwMiffMR"
      },
      "source": [],
      "execution_count": null,
      "outputs": []
    },
    {
      "cell_type": "code",
      "metadata": {
        "id": "29le2IQtffJW"
      },
      "source": [],
      "execution_count": null,
      "outputs": []
    },
    {
      "cell_type": "code",
      "metadata": {
        "id": "FG4c92SNbPW9"
      },
      "source": [],
      "execution_count": null,
      "outputs": []
    },
    {
      "cell_type": "markdown",
      "metadata": {
        "id": "P8xmme_s9a16"
      },
      "source": [
        "## SAVE DOCUMENT VECTORS:"
      ]
    },
    {
      "cell_type": "code",
      "metadata": {
        "id": "4LFsbeYatB0k"
      },
      "source": [
        "arr = arryO_tfidf_word_vecs\n",
        "file = 'arryO_tfidf_word_vecs.npy'\n",
        "\n",
        "np.save(data_path + file, arr, allow_pickle=True, fix_imports=True)"
      ],
      "execution_count": null,
      "outputs": []
    },
    {
      "cell_type": "code",
      "metadata": {
        "id": "RB8d8z3F-FGy"
      },
      "source": [
        "arr = ts_arryO_tfidf_word_vecs\n",
        "file = 'ts_arryO_tfidf_word_vecs.npy'\n",
        "\n",
        "np.save(data_path + file, arr, allow_pickle=True, fix_imports=True)"
      ],
      "execution_count": null,
      "outputs": []
    },
    {
      "cell_type": "code",
      "metadata": {
        "id": "fPnr1vxAmkvI"
      },
      "source": [
        "arryO_tfidf_word_vecs = np.load(data_path + 'arryO_tfidf_word_vecs.npy')\n",
        "ts_arryO_tfidf_word_vecs = np.load(data_path + 'ts_arryO_tfidf_word_vecs.npy')"
      ],
      "execution_count": null,
      "outputs": []
    },
    {
      "cell_type": "code",
      "metadata": {
        "id": "YoaZBOj4BxR2"
      },
      "source": [
        "df_tr = pd.read_csv(data_path + 'df_nlp_tr.csv')\n",
        "df_ts = pd.read_csv(data_path + 'df_nlp_ts.csv')"
      ],
      "execution_count": null,
      "outputs": []
    },
    {
      "cell_type": "code",
      "metadata": {
        "id": "NYy-V1Aq83bK"
      },
      "source": [
        "missed_rows = [87031, 112580]\n",
        "ts_missed_rows = [28833]"
      ],
      "execution_count": null,
      "outputs": []
    },
    {
      "cell_type": "code",
      "metadata": {
        "colab": {
          "base_uri": "https://localhost:8080/"
        },
        "id": "FERiS8ZHjYNL",
        "outputId": "d70b7500-ffc8-460c-e2b5-b4e149b596db"
      },
      "source": [
        "X_train = arryO_tfidf_word_vecs\n",
        "X_test = ts_arryO_tfidf_word_vecs\n",
        "\n",
        "y_tr = df_tr.drop(missed_rows).ratings.values\n",
        "y_ts = df_ts.drop(ts_missed_rows).ratings.values\n",
        "\n",
        "X_train.shape, X_test.shape, y_tr.shape, y_ts.shape"
      ],
      "execution_count": null,
      "outputs": [
        {
          "output_type": "execute_result",
          "data": {
            "text/plain": [
              "((147657, 300), (36914, 300), (147657,), (36914,))"
            ]
          },
          "metadata": {
            "tags": []
          },
          "execution_count": 17
        }
      ]
    },
    {
      "cell_type": "code",
      "metadata": {
        "id": "9z0nAMJU_Xw-"
      },
      "source": [],
      "execution_count": null,
      "outputs": []
    },
    {
      "cell_type": "code",
      "metadata": {
        "id": "Mtkz4cnb_XsQ"
      },
      "source": [],
      "execution_count": null,
      "outputs": []
    },
    {
      "cell_type": "code",
      "metadata": {
        "id": "C_Q51ENsbQZY"
      },
      "source": [],
      "execution_count": null,
      "outputs": []
    },
    {
      "cell_type": "markdown",
      "metadata": {
        "id": "P24WH_ES1hoT"
      },
      "source": [
        "### CONVERTING LABELS FROM RATINGS TO POSITIVE AND NEGATIVE CLASS:"
      ]
    },
    {
      "cell_type": "code",
      "metadata": {
        "id": "EG-L6WMzvuBR"
      },
      "source": [
        "y_train = np.array([1 if int(i) >=3 else 0 for i in y_tr])\n",
        "y_test = np.array([1 if int(i)>=3 else 0 for i in y_ts])"
      ],
      "execution_count": null,
      "outputs": []
    },
    {
      "cell_type": "code",
      "metadata": {
        "id": "ykFxLfr_9hD-"
      },
      "source": [
        "df_tr_set = pd.DataFrame(X_train).assign(labels = y_train)\n",
        "df_ts_set = pd.DataFrame(X_test).assign(labels = y_test)"
      ],
      "execution_count": null,
      "outputs": []
    },
    {
      "cell_type": "code",
      "metadata": {
        "id": "x5ycxv11ASxV"
      },
      "source": [],
      "execution_count": null,
      "outputs": []
    },
    {
      "cell_type": "code",
      "metadata": {
        "id": "rENb3djEAStZ"
      },
      "source": [],
      "execution_count": null,
      "outputs": []
    },
    {
      "cell_type": "code",
      "metadata": {
        "id": "tT6QWAlhbReM"
      },
      "source": [],
      "execution_count": null,
      "outputs": []
    },
    {
      "cell_type": "markdown",
      "metadata": {
        "id": "B8-iNP7zATO1"
      },
      "source": [
        "## VISUALIZING DIMENSIONALLY REDUCED DATA:"
      ]
    },
    {
      "cell_type": "code",
      "metadata": {
        "colab": {
          "base_uri": "https://localhost:8080/",
          "height": 691
        },
        "id": "toKhAS3pBLpj",
        "outputId": "5e4908b1-8288-4223-ce44-27b616d8a8ad"
      },
      "source": [
        "df_pca, pca_transformer = ai.fn_PCA(df_tr_set)\n",
        "\n",
        "ai.fn_plot_3d_clf(df_pca.sample(500), alpha = 0.7)"
      ],
      "execution_count": null,
      "outputs": [
        {
          "output_type": "display_data",
          "data": {
            "image/png": "[encoded data removed]",
            "text/plain": [
              "<Figure size 936x720 with 4 Axes>"
            ]
          },
          "metadata": {
            "tags": []
          }
        }
      ]
    },
    {
      "cell_type": "code",
      "metadata": {
        "id": "fE2gPv06_nuL"
      },
      "source": [],
      "execution_count": null,
      "outputs": []
    },
    {
      "cell_type": "code",
      "metadata": {
        "id": "pQp8j96h_nq0"
      },
      "source": [],
      "execution_count": null,
      "outputs": []
    },
    {
      "cell_type": "code",
      "metadata": {
        "id": "UcHEG0vbbSbO"
      },
      "source": [],
      "execution_count": null,
      "outputs": []
    },
    {
      "cell_type": "code",
      "metadata": {
        "id": "IYNIlnzT1g_M"
      },
      "source": [
        "arr = X_train\n",
        "file = 'X_train.npy'\n",
        "\n",
        "np.save(data_path + file, arr, allow_pickle=True, fix_imports=True)\n",
        "\n",
        "arr = X_test\n",
        "file = 'X_test.npy'\n",
        "\n",
        "np.save(data_path + file, arr, allow_pickle=True, fix_imports=True)\n",
        "\n",
        "arr = y_train\n",
        "file = 'y_tr.npy'\n",
        "\n",
        "np.save(data_path + file, arr, allow_pickle=True, fix_imports=True)\n",
        "\n",
        "arr = y_train\n",
        "file = 'y_ts.npy'\n",
        "\n",
        "np.save(data_path + file, arr, allow_pickle=True, fix_imports=True)"
      ],
      "execution_count": null,
      "outputs": []
    },
    {
      "cell_type": "code",
      "metadata": {
        "id": "v6nxTOMR1tHR"
      },
      "source": [
        "X_train = np.load(data_path + 'X_train.npy')\n",
        "X_test = np.load(data_path + 'X_test.npy')\n",
        "y_train = np.load(data_path + 'y_tr.npy')\n",
        "y_test = np.load(data_path + 'y_ts.npy')"
      ],
      "execution_count": null,
      "outputs": []
    },
    {
      "cell_type": "code",
      "metadata": {
        "id": "05aGyeyhvt8P"
      },
      "source": [],
      "execution_count": null,
      "outputs": []
    },
    {
      "cell_type": "code",
      "metadata": {
        "id": "O6JoFPiPvt4g"
      },
      "source": [],
      "execution_count": null,
      "outputs": []
    },
    {
      "cell_type": "code",
      "metadata": {
        "id": "_iBCl11J2IiT"
      },
      "source": [],
      "execution_count": null,
      "outputs": []
    },
    {
      "cell_type": "markdown",
      "metadata": {
        "id": "sqoab3DN2I88"
      },
      "source": [
        "### KFOLD CROSS VALIDATION + HYPERPARAMETER TUNING (GRID SEARCH):"
      ]
    },
    {
      "cell_type": "code",
      "metadata": {
        "colab": {
          "base_uri": "https://localhost:8080/",
          "height": 304
        },
        "id": "KfGtEskw0f_P",
        "outputId": "80dd1598-6167-4e5f-929d-14493fc5ede3"
      },
      "source": [
        "from sklearn.linear_model import LogisticRegression\n",
        "\n",
        "model_class = LogisticRegression\n",
        "\n",
        "parameter_grid = dict(penalty = ['l2', 'l1', 'elasticnet'],\n",
        "                            C = [10**i for i in range(-15, 15)],\n",
        "                       solver = ['saga'],\n",
        "                 class_weight = ['balanced'],\n",
        "                     max_iter = [10_000])\n",
        "\n",
        "z = ai.fn_kfoldcv_clf_binary(X_train, y_train.reshape(-1, 1),\n",
        "                             model_class,  parameter_grid)\n",
        "\n",
        "df_kfoldcv_gridsearch, dictO_model_instances = z\n",
        "df_kfoldcv_gridsearch.describe()"
      ],
      "execution_count": null,
      "outputs": [
        {
          "output_type": "stream",
          "text": [
            "100% (90 of 90) |########################| Elapsed Time: 0:30:28 Time:  0:30:28\n"
          ],
          "name": "stderr"
        },
        {
          "output_type": "execute_result",
          "data": {
            "text/html": [
              "<div>\n",
              "<style scoped>\n",
              "    .dataframe tbody tr th:only-of-type {\n",
              "        vertical-align: middle;\n",
              "    }\n",
              "\n",
              "    .dataframe tbody tr th {\n",
              "        vertical-align: top;\n",
              "    }\n",
              "\n",
              "    .dataframe thead th {\n",
              "        text-align: right;\n",
              "    }\n",
              "</style>\n",
              "<table border=\"1\" class=\"dataframe\">\n",
              "  <thead>\n",
              "    <tr style=\"text-align: right;\">\n",
              "      <th></th>\n",
              "      <th>ts_mean_rec_1</th>\n",
              "      <th>ts_mean_prec_1</th>\n",
              "      <th>ts_mean_rec_0</th>\n",
              "      <th>ts_mean_prec_0</th>\n",
              "      <th>ts_mean_loss</th>\n",
              "      <th>ts_std_loss</th>\n",
              "      <th>ts_mean_acc</th>\n",
              "      <th>ts_std_rec_1</th>\n",
              "      <th>ts_std_rec_0</th>\n",
              "    </tr>\n",
              "  </thead>\n",
              "  <tbody>\n",
              "    <tr>\n",
              "      <th>count</th>\n",
              "      <td>5.700000e+01</td>\n",
              "      <td>57.000000</td>\n",
              "      <td>5.700000e+01</td>\n",
              "      <td>57.000000</td>\n",
              "      <td>57.000000</td>\n",
              "      <td>5.700000e+01</td>\n",
              "      <td>57.000000</td>\n",
              "      <td>57.000000</td>\n",
              "      <td>57.000000</td>\n",
              "    </tr>\n",
              "    <tr>\n",
              "      <th>mean</th>\n",
              "      <td>7.101490e-01</td>\n",
              "      <td>0.951781</td>\n",
              "      <td>7.257275e-01</td>\n",
              "      <td>0.423895</td>\n",
              "      <td>0.523538</td>\n",
              "      <td>1.622533e-03</td>\n",
              "      <td>0.712343</td>\n",
              "      <td>0.084251</td>\n",
              "      <td>0.088087</td>\n",
              "    </tr>\n",
              "    <tr>\n",
              "      <th>std</th>\n",
              "      <td>1.969366e-01</td>\n",
              "      <td>0.026316</td>\n",
              "      <td>2.015559e-01</td>\n",
              "      <td>0.159407</td>\n",
              "      <td>0.119777</td>\n",
              "      <td>1.005969e-03</td>\n",
              "      <td>0.167270</td>\n",
              "      <td>0.180170</td>\n",
              "      <td>0.178399</td>\n",
              "    </tr>\n",
              "    <tr>\n",
              "      <th>min</th>\n",
              "      <td>2.364793e-11</td>\n",
              "      <td>0.859160</td>\n",
              "      <td>1.442585e-10</td>\n",
              "      <td>0.140840</td>\n",
              "      <td>0.435661</td>\n",
              "      <td>3.889452e-09</td>\n",
              "      <td>0.140840</td>\n",
              "      <td>0.000000</td>\n",
              "      <td>0.000000</td>\n",
              "    </tr>\n",
              "    <tr>\n",
              "      <th>25%</th>\n",
              "      <td>6.713174e-01</td>\n",
              "      <td>0.953053</td>\n",
              "      <td>7.205713e-01</td>\n",
              "      <td>0.394023</td>\n",
              "      <td>0.435775</td>\n",
              "      <td>1.416861e-03</td>\n",
              "      <td>0.678065</td>\n",
              "      <td>0.001950</td>\n",
              "      <td>0.006518</td>\n",
              "    </tr>\n",
              "    <tr>\n",
              "      <th>50%</th>\n",
              "      <td>7.954218e-01</td>\n",
              "      <td>0.962617</td>\n",
              "      <td>8.115503e-01</td>\n",
              "      <td>0.394061</td>\n",
              "      <td>0.435775</td>\n",
              "      <td>1.726580e-03</td>\n",
              "      <td>0.797693</td>\n",
              "      <td>0.001951</td>\n",
              "      <td>0.006518</td>\n",
              "    </tr>\n",
              "    <tr>\n",
              "      <th>75%</th>\n",
              "      <td>7.954296e-01</td>\n",
              "      <td>0.962617</td>\n",
              "      <td>8.115503e-01</td>\n",
              "      <td>0.394061</td>\n",
              "      <td>0.691030</td>\n",
              "      <td>1.726737e-03</td>\n",
              "      <td>0.797700</td>\n",
              "      <td>0.001960</td>\n",
              "      <td>0.009130</td>\n",
              "    </tr>\n",
              "    <tr>\n",
              "      <th>max</th>\n",
              "      <td>1.000000e+00</td>\n",
              "      <td>1.000000</td>\n",
              "      <td>1.000000e+00</td>\n",
              "      <td>1.000000</td>\n",
              "      <td>0.696098</td>\n",
              "      <td>4.813510e-03</td>\n",
              "      <td>0.859160</td>\n",
              "      <td>0.471405</td>\n",
              "      <td>0.471405</td>\n",
              "    </tr>\n",
              "  </tbody>\n",
              "</table>\n",
              "</div>"
            ],
            "text/plain": [
              "       ts_mean_rec_1  ts_mean_prec_1  ...  ts_std_rec_1  ts_std_rec_0\n",
              "count   5.700000e+01       57.000000  ...     57.000000     57.000000\n",
              "mean    7.101490e-01        0.951781  ...      0.084251      0.088087\n",
              "std     1.969366e-01        0.026316  ...      0.180170      0.178399\n",
              "min     2.364793e-11        0.859160  ...      0.000000      0.000000\n",
              "25%     6.713174e-01        0.953053  ...      0.001950      0.006518\n",
              "50%     7.954218e-01        0.962617  ...      0.001951      0.006518\n",
              "75%     7.954296e-01        0.962617  ...      0.001960      0.009130\n",
              "max     1.000000e+00        1.000000  ...      0.471405      0.471405\n",
              "\n",
              "[8 rows x 9 columns]"
            ]
          },
          "metadata": {
            "tags": []
          },
          "execution_count": 9
        }
      ]
    },
    {
      "cell_type": "code",
      "metadata": {
        "id": "7EwL_HDu-J0l"
      },
      "source": [],
      "execution_count": null,
      "outputs": []
    },
    {
      "cell_type": "code",
      "metadata": {
        "id": "485yTsJS-JxS"
      },
      "source": [],
      "execution_count": null,
      "outputs": []
    },
    {
      "cell_type": "markdown",
      "metadata": {
        "id": "31UKW75m-Pky"
      },
      "source": [
        "## FILTER OUT BEST PERFORMING MODELS (TOP MODELS):"
      ]
    },
    {
      "cell_type": "code",
      "metadata": {
        "colab": {
          "base_uri": "https://localhost:8080/",
          "height": 137
        },
        "id": "RKlNohY37uaW",
        "outputId": "8cb9cf3b-2947-4ee5-f16d-0cfa71d3353b"
      },
      "source": [
        "dff = df_kfoldcv_gridsearch\n",
        "n = 15\n",
        "\n",
        "df1 = dff.sort_values(by = 'ts_mean_rec_1', ascending = False)[:n]\n",
        "df2 = dff.sort_values(by = 'ts_mean_prec_1', ascending = False)[:n]\n",
        "df3 = dff.sort_values(by = 'ts_std_rec_1', ascending = True)[:n]\n",
        "df4 = dff.sort_values(by = 'ts_mean_loss', ascending = True)[:n]\n",
        "df5 = dff.sort_values(by = 'ts_std_loss', ascending = False)[:n]\n",
        "\n",
        "df_filtered_cv = pd.concat([df1, df2, df3, df4, df5]).drop_duplicates()\n",
        "df_filtered_cv = df_filtered_cv[df_filtered_cv.ts_mean_loss < 0.5]\n",
        "df_filtered_cv = df_filtered_cv.sort_values(by = 'ts_mean_rec_1', ascending = False)[:3]\n",
        "df_filtered_cv"
      ],
      "execution_count": null,
      "outputs": [
        {
          "output_type": "execute_result",
          "data": {
            "text/html": [
              "<div>\n",
              "<style scoped>\n",
              "    .dataframe tbody tr th:only-of-type {\n",
              "        vertical-align: middle;\n",
              "    }\n",
              "\n",
              "    .dataframe tbody tr th {\n",
              "        vertical-align: top;\n",
              "    }\n",
              "\n",
              "    .dataframe thead th {\n",
              "        text-align: right;\n",
              "    }\n",
              "</style>\n",
              "<table border=\"1\" class=\"dataframe\">\n",
              "  <thead>\n",
              "    <tr style=\"text-align: right;\">\n",
              "      <th></th>\n",
              "      <th>ts_mean_rec_1</th>\n",
              "      <th>ts_mean_prec_1</th>\n",
              "      <th>ts_mean_rec_0</th>\n",
              "      <th>ts_mean_prec_0</th>\n",
              "      <th>ts_mean_loss</th>\n",
              "      <th>ts_std_loss</th>\n",
              "      <th>ts_mean_acc</th>\n",
              "      <th>ts_std_rec_1</th>\n",
              "      <th>ts_std_rec_0</th>\n",
              "    </tr>\n",
              "  </thead>\n",
              "  <tbody>\n",
              "    <tr>\n",
              "      <th>model_45</th>\n",
              "      <td>0.795453</td>\n",
              "      <td>0.962627</td>\n",
              "      <td>0.811598</td>\n",
              "      <td>0.394103</td>\n",
              "      <td>0.435760</td>\n",
              "      <td>0.001723</td>\n",
              "      <td>0.797727</td>\n",
              "      <td>0.001912</td>\n",
              "      <td>0.006507</td>\n",
              "    </tr>\n",
              "    <tr>\n",
              "      <th>model_28</th>\n",
              "      <td>0.795430</td>\n",
              "      <td>0.962617</td>\n",
              "      <td>0.811550</td>\n",
              "      <td>0.394061</td>\n",
              "      <td>0.435775</td>\n",
              "      <td>0.001727</td>\n",
              "      <td>0.797700</td>\n",
              "      <td>0.001951</td>\n",
              "      <td>0.006518</td>\n",
              "    </tr>\n",
              "    <tr>\n",
              "      <th>model_17</th>\n",
              "      <td>0.795430</td>\n",
              "      <td>0.962617</td>\n",
              "      <td>0.811550</td>\n",
              "      <td>0.394061</td>\n",
              "      <td>0.435775</td>\n",
              "      <td>0.001727</td>\n",
              "      <td>0.797700</td>\n",
              "      <td>0.001951</td>\n",
              "      <td>0.006518</td>\n",
              "    </tr>\n",
              "  </tbody>\n",
              "</table>\n",
              "</div>"
            ],
            "text/plain": [
              "          ts_mean_rec_1  ts_mean_prec_1  ...  ts_std_rec_1  ts_std_rec_0\n",
              "model_45       0.795453        0.962627  ...      0.001912      0.006507\n",
              "model_28       0.795430        0.962617  ...      0.001951      0.006518\n",
              "model_17       0.795430        0.962617  ...      0.001951      0.006518\n",
              "\n",
              "[3 rows x 9 columns]"
            ]
          },
          "metadata": {
            "tags": []
          },
          "execution_count": 10
        }
      ]
    },
    {
      "cell_type": "code",
      "metadata": {
        "id": "qDTdq5KQ-R6F"
      },
      "source": [],
      "execution_count": null,
      "outputs": []
    },
    {
      "cell_type": "code",
      "metadata": {
        "id": "hRjOgTUA-RoO"
      },
      "source": [],
      "execution_count": null,
      "outputs": []
    },
    {
      "cell_type": "markdown",
      "metadata": {
        "id": "qmSe8a6c-TB9"
      },
      "source": [
        "## INSPECTING THE PARAMETERS OF THE CHOSEN MODELS:"
      ]
    },
    {
      "cell_type": "code",
      "metadata": {
        "colab": {
          "base_uri": "https://localhost:8080/"
        },
        "id": "IRqVS-k-9N3s",
        "outputId": "feb0e741-7502-4a64-a438-8f5a8f5269e7"
      },
      "source": [
        "[dictO_model_instances[i] for i in df_filtered_cv.index]"
      ],
      "execution_count": null,
      "outputs": [
        {
          "output_type": "execute_result",
          "data": {
            "text/plain": [
              "[LogisticRegression(C=1, class_weight='balanced', dual=False, fit_intercept=True,\n",
              "                    intercept_scaling=1, l1_ratio=None, max_iter=10000,\n",
              "                    multi_class='auto', n_jobs=None, penalty='l1',\n",
              "                    random_state=None, solver='saga', tol=0.0001, verbose=0,\n",
              "                    warm_start=False),\n",
              " LogisticRegression(C=10000000000000, class_weight='balanced', dual=False,\n",
              "                    fit_intercept=True, intercept_scaling=1, l1_ratio=None,\n",
              "                    max_iter=10000, multi_class='auto', n_jobs=None,\n",
              "                    penalty='l2', random_state=None, solver='saga', tol=0.0001,\n",
              "                    verbose=0, warm_start=False),\n",
              " LogisticRegression(C=100, class_weight='balanced', dual=False,\n",
              "                    fit_intercept=True, intercept_scaling=1, l1_ratio=None,\n",
              "                    max_iter=10000, multi_class='auto', n_jobs=None,\n",
              "                    penalty='l2', random_state=None, solver='saga', tol=0.0001,\n",
              "                    verbose=0, warm_start=False)]"
            ]
          },
          "metadata": {
            "tags": []
          },
          "execution_count": 22
        }
      ]
    },
    {
      "cell_type": "code",
      "metadata": {
        "id": "twwE6a5m9qr8"
      },
      "source": [],
      "execution_count": null,
      "outputs": []
    },
    {
      "cell_type": "code",
      "metadata": {
        "id": "iFADVjg59qoN"
      },
      "source": [],
      "execution_count": null,
      "outputs": []
    },
    {
      "cell_type": "code",
      "metadata": {
        "id": "3tlK7tlX-YRh"
      },
      "source": [],
      "execution_count": null,
      "outputs": []
    },
    {
      "cell_type": "markdown",
      "metadata": {
        "id": "b8Ki3-mR-Yno"
      },
      "source": [
        "## INSPECT PERFORMANCE OF TOP MODELS (PLOT PRECISON RECALL CURVES):"
      ]
    },
    {
      "cell_type": "code",
      "metadata": {
        "id": "KsHx_k9t7udb"
      },
      "source": [
        "df_tr_set = pd.DataFrame(X_train).assign(labels = y_train)\n",
        "df_ts_set = pd.DataFrame(X_test).assign(labels = y_test)"
      ],
      "execution_count": null,
      "outputs": []
    },
    {
      "cell_type": "code",
      "metadata": {
        "colab": {
          "base_uri": "https://localhost:8080/",
          "height": 729
        },
        "id": "U7Us9mCv7uhf",
        "outputId": "9047c3d2-867b-4151-ce97-020886046bc7"
      },
      "source": [
        "df_tr_standard, df_ts_standard, scaler = ai.fn_standardize_df(df_tr_set, df_ts_set)\n",
        "\n",
        "listO_model_names = list(df_filtered_cv.index)\n",
        "X_train, y_train = df_tr_standard.iloc[:, :-1].values, df_tr_standard.iloc[:, -1].values\n",
        "listO_models = [dictO_model_instances[i].fit(X_train, y_train) for i in listO_model_names]\n",
        "\n",
        "listO_thresholds = np.linspace(0, 1, 20)\n",
        "legend = listO_model_names\n",
        "\n",
        "ai.fn_performance_models_data(listO_models, df_tr_standard, listO_thresholds, legend)"
      ],
      "execution_count": null,
      "outputs": [
        {
          "output_type": "display_data",
          "data": {
            "image/png": "[encoded data removed]",
            "text/plain": [
              "<Figure size 1080x720 with 4 Axes>"
            ]
          },
          "metadata": {
            "tags": []
          }
        }
      ]
    },
    {
      "cell_type": "code",
      "metadata": {
        "id": "ym1Oew8B76Lo"
      },
      "source": [],
      "execution_count": null,
      "outputs": []
    },
    {
      "cell_type": "code",
      "metadata": {
        "id": "v8gknhlb76IV"
      },
      "source": [],
      "execution_count": null,
      "outputs": []
    },
    {
      "cell_type": "code",
      "metadata": {
        "id": "pw237G9W-3N0"
      },
      "source": [],
      "execution_count": null,
      "outputs": []
    },
    {
      "cell_type": "markdown",
      "metadata": {
        "id": "rfavdI12-3p8"
      },
      "source": [
        "## TESTING CHOSEN MODEL FOR GENERALIZATION PURFORMANCE:"
      ]
    },
    {
      "cell_type": "code",
      "metadata": {
        "colab": {
          "base_uri": "https://localhost:8080/",
          "height": 191
        },
        "id": "H601TDEF76F9",
        "outputId": "982777ea-03ae-4a3f-947f-20daf2bb8b67"
      },
      "source": [
        "df_Xy_ = df_tr_standard\n",
        "model_ = dictO_model_instances['model_45'].fit(X_train, y_train)\n",
        "thresh = 0.2\n",
        "\n",
        "ai.fn_test_model_binary_clf(df_Xy_, model_, threshold_class_1 = thresh)"
      ],
      "execution_count": null,
      "outputs": [
        {
          "output_type": "stream",
          "text": [
            "--------------------\n",
            "LOGLOSS : 0.4334\n",
            "ACCURACY: 88.607\n",
            "--------------------\n",
            "\n"
          ],
          "name": "stdout"
        },
        {
          "output_type": "execute_result",
          "data": {
            "text/html": [
              "<div>\n",
              "<style scoped>\n",
              "    .dataframe tbody tr th:only-of-type {\n",
              "        vertical-align: middle;\n",
              "    }\n",
              "\n",
              "    .dataframe tbody tr th {\n",
              "        vertical-align: top;\n",
              "    }\n",
              "\n",
              "    .dataframe thead th {\n",
              "        text-align: right;\n",
              "    }\n",
              "</style>\n",
              "<table border=\"1\" class=\"dataframe\">\n",
              "  <thead>\n",
              "    <tr style=\"text-align: right;\">\n",
              "      <th></th>\n",
              "      <th>prec</th>\n",
              "      <th>rec</th>\n",
              "    </tr>\n",
              "  </thead>\n",
              "  <tbody>\n",
              "    <tr>\n",
              "      <th>class_0</th>\n",
              "      <td>62.267</td>\n",
              "      <td>48.500</td>\n",
              "    </tr>\n",
              "    <tr>\n",
              "      <th>class_1</th>\n",
              "      <td>91.853</td>\n",
              "      <td>95.182</td>\n",
              "    </tr>\n",
              "  </tbody>\n",
              "</table>\n",
              "</div>"
            ],
            "text/plain": [
              "           prec     rec\n",
              "class_0  62.267  48.500\n",
              "class_1  91.853  95.182"
            ]
          },
          "metadata": {
            "tags": []
          },
          "execution_count": 23
        }
      ]
    },
    {
      "cell_type": "code",
      "metadata": {
        "colab": {
          "base_uri": "https://localhost:8080/",
          "height": 191
        },
        "id": "noCBRHM176DS",
        "outputId": "fb3ca649-35c9-49b0-c9d9-c38745457583"
      },
      "source": [
        "df_Xy_ = df_ts_standard\n",
        "\n",
        "ai.fn_test_model_binary_clf(df_Xy_, model_, threshold_class_1 = thresh)"
      ],
      "execution_count": null,
      "outputs": [
        {
          "output_type": "stream",
          "text": [
            "--------------------\n",
            "LOGLOSS : 0.4376\n",
            "ACCURACY: 88.498\n",
            "--------------------\n",
            "\n"
          ],
          "name": "stdout"
        },
        {
          "output_type": "execute_result",
          "data": {
            "text/html": [
              "<div>\n",
              "<style scoped>\n",
              "    .dataframe tbody tr th:only-of-type {\n",
              "        vertical-align: middle;\n",
              "    }\n",
              "\n",
              "    .dataframe tbody tr th {\n",
              "        vertical-align: top;\n",
              "    }\n",
              "\n",
              "    .dataframe thead th {\n",
              "        text-align: right;\n",
              "    }\n",
              "</style>\n",
              "<table border=\"1\" class=\"dataframe\">\n",
              "  <thead>\n",
              "    <tr style=\"text-align: right;\">\n",
              "      <th></th>\n",
              "      <th>prec</th>\n",
              "      <th>rec</th>\n",
              "    </tr>\n",
              "  </thead>\n",
              "  <tbody>\n",
              "    <tr>\n",
              "      <th>class_0</th>\n",
              "      <td>61.815</td>\n",
              "      <td>47.952</td>\n",
              "    </tr>\n",
              "    <tr>\n",
              "      <th>class_1</th>\n",
              "      <td>91.770</td>\n",
              "      <td>95.144</td>\n",
              "    </tr>\n",
              "  </tbody>\n",
              "</table>\n",
              "</div>"
            ],
            "text/plain": [
              "           prec     rec\n",
              "class_0  61.815  47.952\n",
              "class_1  91.770  95.144"
            ]
          },
          "metadata": {
            "tags": []
          },
          "execution_count": 24
        }
      ]
    },
    {
      "cell_type": "code",
      "metadata": {
        "id": "44bozh7n-18n"
      },
      "source": [],
      "execution_count": null,
      "outputs": []
    },
    {
      "cell_type": "code",
      "metadata": {
        "id": "OsP88VsE-15u"
      },
      "source": [],
      "execution_count": null,
      "outputs": []
    },
    {
      "cell_type": "code",
      "metadata": {
        "id": "AwKVJp4W-12v"
      },
      "source": [],
      "execution_count": null,
      "outputs": []
    },
    {
      "cell_type": "code",
      "metadata": {
        "id": "OFMsLUTi-10B"
      },
      "source": [],
      "execution_count": null,
      "outputs": []
    },
    {
      "cell_type": "code",
      "metadata": {
        "id": "ANFYtXjUmVrh"
      },
      "source": [],
      "execution_count": null,
      "outputs": []
    },
    {
      "cell_type": "code",
      "metadata": {
        "id": "UTNzYl_7mVpA"
      },
      "source": [],
      "execution_count": null,
      "outputs": []
    },
    {
      "cell_type": "code",
      "metadata": {
        "id": "hB07t4dsmVme"
      },
      "source": [],
      "execution_count": null,
      "outputs": []
    },
    {
      "cell_type": "code",
      "metadata": {
        "id": "jwEjPMiJmVjC"
      },
      "source": [],
      "execution_count": null,
      "outputs": []
    },
    {
      "cell_type": "markdown",
      "metadata": {
        "id": "hHhI62xh2ipe"
      },
      "source": [
        "***"
      ]
    }
  ]
}