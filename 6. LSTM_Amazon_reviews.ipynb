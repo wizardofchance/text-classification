{
  "nbformat": 4,
  "nbformat_minor": 0,
  "metadata": {
    "colab": {
      "provenance": [],
      "machine_shape": "hm"
    },
    "language_info": {
      "codemirror_mode": {
        "name": "ipython",
        "version": 3
      },
      "file_extension": ".py",
      "mimetype": "text/x-python",
      "name": "python",
      "nbconvert_exporter": "python",
      "pygments_lexer": "ipython3",
      "version": "3.6.7"
    },
    "kernelspec": {
      "display_name": "Python 3",
      "language": "python",
      "name": "python3"
    },
    "accelerator": "GPU",
    "widgets": {
      "application/vnd.jupyter.widget-state+json": {
        "6362116b06c84350910d34b999798c3f": {
          "model_module": "@jupyter-widgets/controls",
          "model_name": "HBoxModel",
          "state": {
            "_view_name": "HBoxView",
            "_dom_classes": [],
            "_model_name": "HBoxModel",
            "_view_module": "@jupyter-widgets/controls",
            "_model_module_version": "1.5.0",
            "_view_count": null,
            "_view_module_version": "1.5.0",
            "box_style": "",
            "layout": "IPY_MODEL_615b5ad557fa4aa2ba1c7ce07497ba0f",
            "_model_module": "@jupyter-widgets/controls",
            "children": [
              "IPY_MODEL_48c7002c331b4b1cac81cb68fe2ffb32",
              "IPY_MODEL_9927873163a649c7aaef79bff040e986"
            ]
          },
          "model_module_version": "1.5.0"
        },
        "615b5ad557fa4aa2ba1c7ce07497ba0f": {
          "model_module": "@jupyter-widgets/base",
          "model_name": "LayoutModel",
          "state": {
            "_view_name": "LayoutView",
            "grid_template_rows": null,
            "right": null,
            "justify_content": null,
            "_view_module": "@jupyter-widgets/base",
            "overflow": null,
            "_model_module_version": "1.2.0",
            "_view_count": null,
            "flex_flow": null,
            "width": null,
            "min_width": null,
            "border": null,
            "align_items": null,
            "bottom": null,
            "_model_module": "@jupyter-widgets/base",
            "top": null,
            "grid_column": null,
            "overflow_y": null,
            "overflow_x": null,
            "grid_auto_flow": null,
            "grid_area": null,
            "grid_template_columns": null,
            "flex": null,
            "_model_name": "LayoutModel",
            "justify_items": null,
            "grid_row": null,
            "max_height": null,
            "align_content": null,
            "visibility": null,
            "align_self": null,
            "height": null,
            "min_height": null,
            "padding": null,
            "grid_auto_rows": null,
            "grid_gap": null,
            "max_width": null,
            "order": null,
            "_view_module_version": "1.2.0",
            "grid_template_areas": null,
            "object_position": null,
            "object_fit": null,
            "grid_auto_columns": null,
            "margin": null,
            "display": null,
            "left": null
          },
          "model_module_version": "1.2.0"
        },
        "48c7002c331b4b1cac81cb68fe2ffb32": {
          "model_module": "@jupyter-widgets/controls",
          "model_name": "FloatProgressModel",
          "state": {
            "_view_name": "ProgressView",
            "style": "IPY_MODEL_381c287f707b42c5932f51590411209f",
            "_dom_classes": [],
            "description": "100%",
            "_model_name": "FloatProgressModel",
            "bar_style": "success",
            "max": 15,
            "_view_module": "@jupyter-widgets/controls",
            "_model_module_version": "1.5.0",
            "value": 15,
            "_view_count": null,
            "_view_module_version": "1.5.0",
            "orientation": "horizontal",
            "min": 0,
            "description_tooltip": null,
            "_model_module": "@jupyter-widgets/controls",
            "layout": "IPY_MODEL_b79b49ede1914302befd75be5e700bbb"
          },
          "model_module_version": "1.5.0"
        },
        "9927873163a649c7aaef79bff040e986": {
          "model_module": "@jupyter-widgets/controls",
          "model_name": "HTMLModel",
          "state": {
            "_view_name": "HTMLView",
            "style": "IPY_MODEL_836451b4d53645bcae112fa563cbfd53",
            "_dom_classes": [],
            "description": "",
            "_model_name": "HTMLModel",
            "placeholder": "​",
            "_view_module": "@jupyter-widgets/controls",
            "_model_module_version": "1.5.0",
            "value": " 15/15 [07:49&lt;00:00, 31.28s/epoch, loss=3.69, TP=1.15e+5, TN=20313.0, FP=483, FN=11512.0, val_loss=0.413, val_TP=2.8e+4, val_TN=3706.0, val_FP=1493.0, val_FN=3720.0]",
            "_view_count": null,
            "_view_module_version": "1.5.0",
            "description_tooltip": null,
            "_model_module": "@jupyter-widgets/controls",
            "layout": "IPY_MODEL_4e3dbf187168441a916fdf8751366dc7"
          },
          "model_module_version": "1.5.0"
        },
        "381c287f707b42c5932f51590411209f": {
          "model_module": "@jupyter-widgets/controls",
          "model_name": "ProgressStyleModel",
          "state": {
            "_view_name": "StyleView",
            "_model_name": "ProgressStyleModel",
            "description_width": "initial",
            "_view_module": "@jupyter-widgets/base",
            "_model_module_version": "1.5.0",
            "_view_count": null,
            "_view_module_version": "1.2.0",
            "bar_color": null,
            "_model_module": "@jupyter-widgets/controls"
          },
          "model_module_version": "1.5.0"
        },
        "b79b49ede1914302befd75be5e700bbb": {
          "model_module": "@jupyter-widgets/base",
          "model_name": "LayoutModel",
          "state": {
            "_view_name": "LayoutView",
            "grid_template_rows": null,
            "right": null,
            "justify_content": null,
            "_view_module": "@jupyter-widgets/base",
            "overflow": null,
            "_model_module_version": "1.2.0",
            "_view_count": null,
            "flex_flow": null,
            "width": null,
            "min_width": null,
            "border": null,
            "align_items": null,
            "bottom": null,
            "_model_module": "@jupyter-widgets/base",
            "top": null,
            "grid_column": null,
            "overflow_y": null,
            "overflow_x": null,
            "grid_auto_flow": null,
            "grid_area": null,
            "grid_template_columns": null,
            "flex": null,
            "_model_name": "LayoutModel",
            "justify_items": null,
            "grid_row": null,
            "max_height": null,
            "align_content": null,
            "visibility": null,
            "align_self": null,
            "height": null,
            "min_height": null,
            "padding": null,
            "grid_auto_rows": null,
            "grid_gap": null,
            "max_width": null,
            "order": null,
            "_view_module_version": "1.2.0",
            "grid_template_areas": null,
            "object_position": null,
            "object_fit": null,
            "grid_auto_columns": null,
            "margin": null,
            "display": null,
            "left": null
          },
          "model_module_version": "1.2.0"
        },
        "836451b4d53645bcae112fa563cbfd53": {
          "model_module": "@jupyter-widgets/controls",
          "model_name": "DescriptionStyleModel",
          "state": {
            "_view_name": "StyleView",
            "_model_name": "DescriptionStyleModel",
            "description_width": "",
            "_view_module": "@jupyter-widgets/base",
            "_model_module_version": "1.5.0",
            "_view_count": null,
            "_view_module_version": "1.2.0",
            "_model_module": "@jupyter-widgets/controls"
          },
          "model_module_version": "1.5.0"
        },
        "4e3dbf187168441a916fdf8751366dc7": {
          "model_module": "@jupyter-widgets/base",
          "model_name": "LayoutModel",
          "state": {
            "_view_name": "LayoutView",
            "grid_template_rows": null,
            "right": null,
            "justify_content": null,
            "_view_module": "@jupyter-widgets/base",
            "overflow": null,
            "_model_module_version": "1.2.0",
            "_view_count": null,
            "flex_flow": null,
            "width": null,
            "min_width": null,
            "border": null,
            "align_items": null,
            "bottom": null,
            "_model_module": "@jupyter-widgets/base",
            "top": null,
            "grid_column": null,
            "overflow_y": null,
            "overflow_x": null,
            "grid_auto_flow": null,
            "grid_area": null,
            "grid_template_columns": null,
            "flex": null,
            "_model_name": "LayoutModel",
            "justify_items": null,
            "grid_row": null,
            "max_height": null,
            "align_content": null,
            "visibility": null,
            "align_self": null,
            "height": null,
            "min_height": null,
            "padding": null,
            "grid_auto_rows": null,
            "grid_gap": null,
            "max_width": null,
            "order": null,
            "_view_module_version": "1.2.0",
            "grid_template_areas": null,
            "object_position": null,
            "object_fit": null,
            "grid_auto_columns": null,
            "margin": null,
            "display": null,
            "left": null
          },
          "model_module_version": "1.2.0"
        },
        "11716cc246e94176ad96d22021fde60f": {
          "model_module": "@jupyter-widgets/controls",
          "model_name": "HBoxModel",
          "state": {
            "_view_name": "HBoxView",
            "_dom_classes": [],
            "_model_name": "HBoxModel",
            "_view_module": "@jupyter-widgets/controls",
            "_model_module_version": "1.5.0",
            "_view_count": null,
            "_view_module_version": "1.5.0",
            "box_style": "",
            "layout": "IPY_MODEL_3c41c245218a4e54bb252139d71c867a",
            "_model_module": "@jupyter-widgets/controls",
            "children": [
              "IPY_MODEL_ea5115d7b9994e77bc8b0de2acdee83c",
              "IPY_MODEL_e9b1f3f6001b41f3a0be1cf6234e2e38"
            ]
          },
          "model_module_version": "1.5.0"
        },
        "3c41c245218a4e54bb252139d71c867a": {
          "model_module": "@jupyter-widgets/base",
          "model_name": "LayoutModel",
          "state": {
            "_view_name": "LayoutView",
            "grid_template_rows": null,
            "right": null,
            "justify_content": null,
            "_view_module": "@jupyter-widgets/base",
            "overflow": null,
            "_model_module_version": "1.2.0",
            "_view_count": null,
            "flex_flow": null,
            "width": null,
            "min_width": null,
            "border": null,
            "align_items": null,
            "bottom": null,
            "_model_module": "@jupyter-widgets/base",
            "top": null,
            "grid_column": null,
            "overflow_y": null,
            "overflow_x": null,
            "grid_auto_flow": null,
            "grid_area": null,
            "grid_template_columns": null,
            "flex": null,
            "_model_name": "LayoutModel",
            "justify_items": null,
            "grid_row": null,
            "max_height": null,
            "align_content": null,
            "visibility": null,
            "align_self": null,
            "height": null,
            "min_height": null,
            "padding": null,
            "grid_auto_rows": null,
            "grid_gap": null,
            "max_width": null,
            "order": null,
            "_view_module_version": "1.2.0",
            "grid_template_areas": null,
            "object_position": null,
            "object_fit": null,
            "grid_auto_columns": null,
            "margin": null,
            "display": null,
            "left": null
          },
          "model_module_version": "1.2.0"
        },
        "ea5115d7b9994e77bc8b0de2acdee83c": {
          "model_module": "@jupyter-widgets/controls",
          "model_name": "FloatProgressModel",
          "state": {
            "_view_name": "ProgressView",
            "style": "IPY_MODEL_770e56d18d574bd6a333719d7f2611f8",
            "_dom_classes": [],
            "description": "100%",
            "_model_name": "FloatProgressModel",
            "bar_style": "success",
            "max": 5,
            "_view_module": "@jupyter-widgets/controls",
            "_model_module_version": "1.5.0",
            "value": 5,
            "_view_count": null,
            "_view_module_version": "1.5.0",
            "orientation": "horizontal",
            "min": 0,
            "description_tooltip": null,
            "_model_module": "@jupyter-widgets/controls",
            "layout": "IPY_MODEL_5fe00518d38c488eb5e8cda1071123aa"
          },
          "model_module_version": "1.5.0"
        },
        "e9b1f3f6001b41f3a0be1cf6234e2e38": {
          "model_module": "@jupyter-widgets/controls",
          "model_name": "HTMLModel",
          "state": {
            "_view_name": "HTMLView",
            "style": "IPY_MODEL_92552b31bab94ff99bf4ca0710204b37",
            "_dom_classes": [],
            "description": "",
            "_model_name": "HTMLModel",
            "placeholder": "​",
            "_view_module": "@jupyter-widgets/controls",
            "_model_module_version": "1.5.0",
            "value": " 5/5 [03:22&lt;00:00, 40.50s/epoch, loss=7.13, TP=1.06e+5, TN=18873.0, FP=1923.0, FN=21235.0, val_loss=0.318, val_TP=27391.0, val_TN=3968.0, val_FP=1231.0, val_FN=4325.0]",
            "_view_count": null,
            "_view_module_version": "1.5.0",
            "description_tooltip": null,
            "_model_module": "@jupyter-widgets/controls",
            "layout": "IPY_MODEL_19c328d15f854200ba7c3d053e654eaf"
          },
          "model_module_version": "1.5.0"
        },
        "770e56d18d574bd6a333719d7f2611f8": {
          "model_module": "@jupyter-widgets/controls",
          "model_name": "ProgressStyleModel",
          "state": {
            "_view_name": "StyleView",
            "_model_name": "ProgressStyleModel",
            "description_width": "initial",
            "_view_module": "@jupyter-widgets/base",
            "_model_module_version": "1.5.0",
            "_view_count": null,
            "_view_module_version": "1.2.0",
            "bar_color": null,
            "_model_module": "@jupyter-widgets/controls"
          },
          "model_module_version": "1.5.0"
        },
        "5fe00518d38c488eb5e8cda1071123aa": {
          "model_module": "@jupyter-widgets/base",
          "model_name": "LayoutModel",
          "state": {
            "_view_name": "LayoutView",
            "grid_template_rows": null,
            "right": null,
            "justify_content": null,
            "_view_module": "@jupyter-widgets/base",
            "overflow": null,
            "_model_module_version": "1.2.0",
            "_view_count": null,
            "flex_flow": null,
            "width": null,
            "min_width": null,
            "border": null,
            "align_items": null,
            "bottom": null,
            "_model_module": "@jupyter-widgets/base",
            "top": null,
            "grid_column": null,
            "overflow_y": null,
            "overflow_x": null,
            "grid_auto_flow": null,
            "grid_area": null,
            "grid_template_columns": null,
            "flex": null,
            "_model_name": "LayoutModel",
            "justify_items": null,
            "grid_row": null,
            "max_height": null,
            "align_content": null,
            "visibility": null,
            "align_self": null,
            "height": null,
            "min_height": null,
            "padding": null,
            "grid_auto_rows": null,
            "grid_gap": null,
            "max_width": null,
            "order": null,
            "_view_module_version": "1.2.0",
            "grid_template_areas": null,
            "object_position": null,
            "object_fit": null,
            "grid_auto_columns": null,
            "margin": null,
            "display": null,
            "left": null
          },
          "model_module_version": "1.2.0"
        },
        "92552b31bab94ff99bf4ca0710204b37": {
          "model_module": "@jupyter-widgets/controls",
          "model_name": "DescriptionStyleModel",
          "state": {
            "_view_name": "StyleView",
            "_model_name": "DescriptionStyleModel",
            "description_width": "",
            "_view_module": "@jupyter-widgets/base",
            "_model_module_version": "1.5.0",
            "_view_count": null,
            "_view_module_version": "1.2.0",
            "_model_module": "@jupyter-widgets/controls"
          },
          "model_module_version": "1.5.0"
        },
        "19c328d15f854200ba7c3d053e654eaf": {
          "model_module": "@jupyter-widgets/base",
          "model_name": "LayoutModel",
          "state": {
            "_view_name": "LayoutView",
            "grid_template_rows": null,
            "right": null,
            "justify_content": null,
            "_view_module": "@jupyter-widgets/base",
            "overflow": null,
            "_model_module_version": "1.2.0",
            "_view_count": null,
            "flex_flow": null,
            "width": null,
            "min_width": null,
            "border": null,
            "align_items": null,
            "bottom": null,
            "_model_module": "@jupyter-widgets/base",
            "top": null,
            "grid_column": null,
            "overflow_y": null,
            "overflow_x": null,
            "grid_auto_flow": null,
            "grid_area": null,
            "grid_template_columns": null,
            "flex": null,
            "_model_name": "LayoutModel",
            "justify_items": null,
            "grid_row": null,
            "max_height": null,
            "align_content": null,
            "visibility": null,
            "align_self": null,
            "height": null,
            "min_height": null,
            "padding": null,
            "grid_auto_rows": null,
            "grid_gap": null,
            "max_width": null,
            "order": null,
            "_view_module_version": "1.2.0",
            "grid_template_areas": null,
            "object_position": null,
            "object_fit": null,
            "grid_auto_columns": null,
            "margin": null,
            "display": null,
            "left": null
          },
          "model_module_version": "1.2.0"
        }
      }
    }
  },
  "cells": [
    {
      "cell_type": "code",
      "metadata": {
        "colab": {
          "base_uri": "https://localhost:8080/"
        },
        "id": "1cz8tZoZIzAB",
        "outputId": "41b60f29-890c-454f-8196-c16995291684"
      },
      "source": [
        "from google.colab import drive\n",
        "drive.mount(\"/content/gdrive\", force_remount=True)"
      ],
      "execution_count": null,
      "outputs": [
        {
          "output_type": "stream",
          "text": [
            "Mounted at /content/gdrive\n"
          ],
          "name": "stdout"
        }
      ]
    },
    {
      "cell_type": "code",
      "metadata": {
        "id": "9ma69onE3YZ7"
      },
      "source": [
        "import numpy as np\n",
        "import pandas as pd\n",
        "\n",
        "import tensorflow as tf\n",
        "from tensorflow import keras\n",
        "\n",
        "from keras import optimizers\n",
        "\n",
        "\n",
        "\n",
        "from progressbar import ProgressBar\n",
        "\n",
        "import matplotlib.pylab as plt\n",
        "import seaborn as sns\n",
        "sns.set_style('whitegrid')"
      ],
      "execution_count": null,
      "outputs": []
    },
    {
      "cell_type": "code",
      "metadata": {
        "id": "JXaKShJAJ-yd"
      },
      "source": [],
      "execution_count": null,
      "outputs": []
    },
    {
      "cell_type": "code",
      "metadata": {
        "id": "QG9PwooFJ-vg"
      },
      "source": [],
      "execution_count": null,
      "outputs": []
    },
    {
      "cell_type": "code",
      "metadata": {
        "id": "_K7VIQpAREcv"
      },
      "source": [],
      "execution_count": null,
      "outputs": []
    },
    {
      "cell_type": "code",
      "metadata": {
        "id": "opNSFy6hpKP1"
      },
      "source": [
        "def fn_divide(a, b): return np.divide(a+1e-6, b+1e-6)\n",
        "\n",
        "\n",
        "def fn_standardize_df(df_tr_, df_ts_):\n",
        "\n",
        "    from sklearn.preprocessing import StandardScaler\n",
        "    df_tr, df_ts = df_tr_, df_ts_\n",
        "    X_train, X_test = df_tr.iloc[:, :-1].values, df_ts.iloc[:, :-1].values\n",
        "\n",
        "    scaler = StandardScaler().fit(X_train)\n",
        "    X_train = scaler.transform(X_train)\n",
        "    X_test  = scaler.transform(X_test)\n",
        "\n",
        "    df_tr = pd.DataFrame(X_train, columns = df_tr.columns[:-1]).assign(labels = df_tr.labels.values)\n",
        "    df_ts = pd.DataFrame(X_test, columns  = df_ts.columns[:-1]).assign(labels = df_ts.labels.values)\n",
        "\n",
        "    return df_tr, df_ts, scaler\n",
        "\n",
        "\n",
        "def fn_acc(con_matrix):\n",
        "\n",
        "    actual_total = con_matrix.sum(axis = 1)\n",
        "    correct_preds = con_matrix.diagonal()\n",
        "    acc = fn_divide(correct_preds.sum(), actual_total.sum())\n",
        "    return np.round(100*acc, 3)\n",
        "\n",
        "\n",
        "\n",
        "def fn_logloss(model_, X_, y_, labels = [0, 1]):\n",
        "\n",
        "    y_pred = model_.predict(X_)\n",
        "    bce = tf.keras.losses.BinaryCrossentropy()\n",
        "    loss = bce(y_.reshape(-1, 1), y_pred.reshape(-1, 1)).numpy()\n",
        "    return loss.item()\n",
        "\n",
        "\n",
        "\n",
        "def fn_con_matrix_binary(model_, X_, y_, threshold_class_1 = 0.5):\n",
        "\n",
        "    from sklearn.metrics import confusion_matrix\n",
        "\n",
        "    proba_cls_1 = model_.predict(X_)\n",
        "\n",
        "    y_pred = np.array([1 if i > threshold_class_1 else 0 for i in proba_cls_1])\n",
        "\n",
        "    con_matrix = confusion_matrix(y_, y_pred)\n",
        "\n",
        "    return con_matrix\n",
        "\n",
        "\n",
        "\n",
        "def fn_prec_vec(con_matrix):\n",
        "\n",
        "    pred_total = con_matrix.sum(axis = 0)\n",
        "    correct_preds = con_matrix.diagonal()\n",
        "    prec_vec = fn_divide(correct_preds, pred_total)\n",
        "\n",
        "    return 100*prec_vec.round(3)\n",
        "\n",
        "\n",
        "\n",
        "def fn_rec_vec(con_matrix):\n",
        "\n",
        "    actual_total = con_matrix.sum(axis = 1)\n",
        "    correct_preds = con_matrix.diagonal()\n",
        "    rec_vec = fn_divide(correct_preds, actual_total)\n",
        "\n",
        "    return 100*rec_vec.round(3)\n",
        "\n",
        "\n",
        "\n",
        "def fn_model_perform_thresholds(model_, X_, y_, listO_thresh_cls_1, NN=False):\n",
        "\n",
        "    from sklearn.metrics import confusion_matrix\n",
        "    if NN == False:\n",
        "        probas_both_cls = model_.predict_proba(X_)\n",
        "        proba_cls_1 = probas_both_cls[:, 1]\n",
        "    else:\n",
        "        proba_cls_1 = model_.predict(X_)\n",
        "\n",
        "    listO_metrics = []\n",
        "\n",
        "    for thresh in listO_thresh_cls_1:\n",
        "        y_pred = np.array([1 if i > thresh else 0 for i in proba_cls_1])\n",
        "        con_matrix = confusion_matrix(y_, y_pred)\n",
        "        prec_vec, rec_vec = fn_prec_vec(con_matrix), fn_rec_vec(con_matrix)\n",
        "        listO_metrics.append([*prec_vec, *rec_vec, thresh])\n",
        "\n",
        "    df_model_perform_thresholds = pd.DataFrame(np.array(listO_metrics))\n",
        "    df_model_perform_thresholds.columns = ['prec_0', 'prec_1', 'rec_0', 'rec_1', 'thresh']\n",
        "\n",
        "    return df_model_perform_thresholds\n",
        "\n",
        "\n",
        "\n",
        "\n",
        "\n",
        "def fn_performance_models_data(listO_models, df_Xy_, legend, NN = False,\n",
        "                               listO_thresh_cls_1 = np.linspace(0, 1, 10),\n",
        "                               figsize=(15, 10)):\n",
        "\n",
        "    X_test, y_test = df_Xy_.iloc[:, :-1].values, df_Xy_.iloc[:, -1].values\n",
        "\n",
        "    plot_1, plot_2 = 'thresh rec_1', 'thresh prec_1'\n",
        "    plot_3, plot_4 = 'thresh rec_0', 'thresh prec_0'\n",
        "\n",
        "    listO_plot_titles = [plot_1, plot_2, plot_3, plot_4]\n",
        "    subplot_grid = [2, 2]\n",
        "\n",
        "    fig, axes = plt.subplots(*subplot_grid, figsize=figsize, sharey = False)\n",
        "    axes = axes.ravel()\n",
        "    for plot_n, title in enumerate(listO_plot_titles):\n",
        "        x_axis, y_axis = title.split()\n",
        "\n",
        "        for idx, model in enumerate(listO_models):\n",
        "\n",
        "            df_model_perform_thresholds = fn_model_perform_thresholds(model, X_test, y_test,\n",
        "                                                                      listO_thresh_cls_1 = listO_thresh_cls_1,\n",
        "                                                                      NN = NN)\n",
        "            df = df_model_perform_thresholds.sort_values(by = x_axis)\n",
        "            axes[plot_n].plot(df[x_axis], df[y_axis], label = f'{legend[idx]}')\n",
        "            title_1 = x_axis + ' - ' + y_axis\n",
        "            axes[plot_n].set_xlabel(x_axis.upper())\n",
        "            axes[plot_n].set_ylabel(y_axis.upper())\n",
        "            axes[plot_n].set_title(title_1.upper())\n",
        "\n",
        "        axes[plot_n].legend(prop={'size':12})\n",
        "\n",
        "    plt.tight_layout()\n",
        "\n",
        "\n",
        "\n",
        "def fn_test_model_binary_clf(df_Xy_, model_, threshold_class_1 = 0.5):\n",
        "\n",
        "    df, model = df_Xy_, model_\n",
        "    X, y = df.iloc[:, :-1].values, df.iloc[:, -1].values.ravel()\n",
        "\n",
        "    con_matrix = fn_con_matrix_binary(model, X, y, threshold_class_1 = threshold_class_1)\n",
        "    loss = fn_logloss(model, X, y)\n",
        "    acc =  fn_acc(con_matrix)\n",
        "    prec_vec = fn_prec_vec(con_matrix)\n",
        "    rec_vec  = fn_rec_vec(con_matrix)\n",
        "\n",
        "    df = pd.DataFrame().assign(prec = prec_vec, rec = rec_vec)\n",
        "    df.index = ['class_' + str(i) for i in range(len(df))]\n",
        "    print('--------------------')\n",
        "    print(f'LOGLOSS : {round(loss, 4)}')\n",
        "    print(f'ACCURACY: {round(acc, 3)}')\n",
        "    print('--------------------')\n",
        "    print()\n",
        "\n",
        "    return df.round(3)"
      ],
      "execution_count": null,
      "outputs": []
    },
    {
      "cell_type": "code",
      "metadata": {
        "id": "COKO1r2zORTV"
      },
      "source": [
        "def fn_NN_binary_clf(model, optimizer, df_tr, df_ts, model_save_path, batch_size=2048,\n",
        "                     epochs=5, class_weight = {0:50, 1:50}):\n",
        "\n",
        "    from tqdm.keras import TqdmCallback\n",
        "\n",
        "    def fn_binary_metrics(df_history):\n",
        "\n",
        "        df = df_history+1e-6\n",
        "        TP, TN = df.TP.values, df.TN.values\n",
        "        FP, FN = df.FP.values, df.FN.values\n",
        "        rec_1,   rec_0 = TP/(TP+FN), TN/(TN+FP)\n",
        "        prec_1, prec_0 = TP/(TP+FP), TN/(TN+FN)\n",
        "\n",
        "        val_TP, val_TN = df.val_TP.values, df.val_TN.values\n",
        "        val_FP, val_FN = df.val_FP.values, df.val_FN.values\n",
        "        val_rec_1,   val_rec_0 = val_TP/(val_TP+val_FN), val_TN/(val_TN+val_FP)\n",
        "        val_prec_1, val_prec_0 = val_TP/(val_TP+val_FP), val_TN/(val_TN+val_FN)\n",
        "\n",
        "        diff_rec_1, diff_prec_1 = abs(rec_1 - val_rec_1), abs(prec_1 - val_prec_1)\n",
        "        diff_rec_0, diff_prec_0 = abs(rec_0 - val_rec_0), abs(prec_0 - val_prec_0)\n",
        "\n",
        "        return dict(tr_loss =  df.loss, ts_loss = df.val_loss,\n",
        "                    tr_rec_1 = rec_1, tr_rec_0 = rec_0,\n",
        "                    tr_prec_1 = prec_1, tr_prec_0 = prec_0,\n",
        "                    diff_rec_1 = diff_rec_1, diff_prec_1 = diff_prec_1,\n",
        "                    diff_rec_0 = diff_rec_0, diff_prec_0 = diff_prec_0)\n",
        "\n",
        "    X_tr = df_tr.iloc[:, :-1].values\n",
        "    X_ts = df_ts.iloc[:, :-1].values\n",
        "    y_tr = df_tr.iloc[:, -1].values\n",
        "    y_ts = df_ts.iloc[:, -1].values\n",
        "\n",
        "    metrics =  [keras.metrics.TruePositives(name='TP'),\n",
        "                keras.metrics.TrueNegatives(name='TN'),\n",
        "                keras.metrics.FalsePositives(name='FP'),\n",
        "                keras.metrics.FalseNegatives(name='FN')]\n",
        "\n",
        "    model.compile(optimizer=optimizer, loss=\"binary_crossentropy\", metrics=metrics)\n",
        "    if model_save_path != None:\n",
        "        call_back_1 = [keras.callbacks.ModelCheckpoint(model_save_path + model.name + '_epoch_{epoch}.h5')]\n",
        "    call_back_2 = [TqdmCallback(verbose=0)]\n",
        "\n",
        "    callbacks = call_back_2 if model_save_path == None else call_back_1 + call_back_2\n",
        "    model_history = model.fit(X_tr, y_tr, validation_data=(X_ts, y_ts),\n",
        "                                batch_size=batch_size,\n",
        "                                    epochs=epochs,\n",
        "                                 callbacks=callbacks,\n",
        "                              class_weight=class_weight,\n",
        "                                   verbose=0)\n",
        "\n",
        "    df_history = pd.DataFrame(model_history.history)\n",
        "    df_perform = pd.DataFrame().assign(**fn_binary_metrics(df_history))\n",
        "    df_perform.index = [model.name + f'_epoch_{i}' for i in range(len(df_perform))]\n",
        "\n",
        "    return df_perform, df_history"
      ],
      "execution_count": null,
      "outputs": []
    },
    {
      "cell_type": "code",
      "metadata": {
        "id": "4l19QLZFA7LQ"
      },
      "source": [],
      "execution_count": null,
      "outputs": []
    },
    {
      "cell_type": "code",
      "metadata": {
        "id": "A1OE8JWOUjI-"
      },
      "source": [],
      "execution_count": null,
      "outputs": []
    },
    {
      "cell_type": "code",
      "metadata": {
        "id": "Q5CJBgidc_2l"
      },
      "source": [
        "def fn_embed_words_as_nums(corpus):\n",
        "    dictO_word_embeds = {}\n",
        "    pbar = ProgressBar()\n",
        "    for sentence in pbar(corpus):\n",
        "        for word in sentence.split():\n",
        "            if word not in dictO_word_embeds:\n",
        "                # Assign a unique index to each unique word:\n",
        "                dictO_word_embeds[word] = (len(dictO_word_embeds) + 1)\n",
        "                # Note that we don't attribute index 0 to anything.\n",
        "\n",
        "    return dictO_word_embeds"
      ],
      "execution_count": null,
      "outputs": []
    },
    {
      "cell_type": "code",
      "metadata": {
        "id": "5F69OkNLc0qs"
      },
      "source": [
        "def fn_embed_docs(corpus, dictO_word_embeds, max_lg = 30):\n",
        "    from keras.preprocessing.sequence import pad_sequences\n",
        "\n",
        "    pbar = ProgressBar()\n",
        "    listO_doc_vecs = []\n",
        "    for doc in pbar(corpus):\n",
        "        listO_words = doc.split()\n",
        "\n",
        "        doc_vec = [dictO_word_embeds.get(word, 0) for word in listO_words]\n",
        "        doc_vec = [num for num in doc_vec if num != 0][: max_lg]\n",
        "        listO_doc_vecs.append(doc_vec)\n",
        "\n",
        "    listO_padded_doc_vecs = pad_sequences(listO_doc_vecs)\n",
        "    arryO_doc_vecs = np.array(listO_padded_doc_vecs)\n",
        "    return arryO_doc_vecs"
      ],
      "execution_count": null,
      "outputs": []
    },
    {
      "cell_type": "code",
      "metadata": {
        "id": "JD0j5Rlbd8dt"
      },
      "source": [],
      "execution_count": null,
      "outputs": []
    },
    {
      "cell_type": "code",
      "metadata": {
        "id": "JTiTcuC2d8be"
      },
      "source": [],
      "execution_count": null,
      "outputs": []
    },
    {
      "cell_type": "code",
      "metadata": {
        "id": "bpLNN20Jd8X7"
      },
      "source": [],
      "execution_count": null,
      "outputs": []
    },
    {
      "cell_type": "code",
      "metadata": {
        "id": "YPWUv5RFd8VF"
      },
      "source": [],
      "execution_count": null,
      "outputs": []
    },
    {
      "cell_type": "markdown",
      "metadata": {
        "id": "c5IA0g6GhtPd"
      },
      "source": [
        "# DATA:\n"
      ]
    },
    {
      "cell_type": "code",
      "metadata": {
        "colab": {
          "base_uri": "https://localhost:8080/",
          "height": 197
        },
        "id": "yYM9DwNWc0n4",
        "outputId": "b9e339e4-b912-447c-9eb0-74a03965f5a8"
      },
      "source": [
        "data_path = 'gdrive/My Drive/3A_PGD/CODE_PGD/LSTM/'\n",
        "\n",
        "df_nlp_tr = pd.read_csv(data_path + 'df_nlp_tr.csv')\n",
        "df_nlp_ts = pd.read_csv(data_path + 'df_nlp_ts.csv')\n",
        "\n",
        "df_nlp_tr.sample(5)"
      ],
      "execution_count": null,
      "outputs": [
        {
          "output_type": "execute_result",
          "data": {
            "text/html": [
              "<div>\n",
              "<style scoped>\n",
              "    .dataframe tbody tr th:only-of-type {\n",
              "        vertical-align: middle;\n",
              "    }\n",
              "\n",
              "    .dataframe tbody tr th {\n",
              "        vertical-align: top;\n",
              "    }\n",
              "\n",
              "    .dataframe thead th {\n",
              "        text-align: right;\n",
              "    }\n",
              "</style>\n",
              "<table border=\"1\" class=\"dataframe\">\n",
              "  <thead>\n",
              "    <tr style=\"text-align: right;\">\n",
              "      <th></th>\n",
              "      <th>prod_id</th>\n",
              "      <th>reviews</th>\n",
              "      <th>ratings</th>\n",
              "    </tr>\n",
              "  </thead>\n",
              "  <tbody>\n",
              "    <tr>\n",
              "      <th>7903</th>\n",
              "      <td>b000evqwhu</td>\n",
              "      <td>i bought them being familiar with the taste in...</td>\n",
              "      <td>1</td>\n",
              "    </tr>\n",
              "    <tr>\n",
              "      <th>120460</th>\n",
              "      <td>b003vxe46y</td>\n",
              "      <td>i had bought pre bottled drinks with chia seed...</td>\n",
              "      <td>1</td>\n",
              "    </tr>\n",
              "    <tr>\n",
              "      <th>62454</th>\n",
              "      <td>b000g2uuos</td>\n",
              "      <td>i am a vegetarian trying to work more protein ...</td>\n",
              "      <td>1</td>\n",
              "    </tr>\n",
              "    <tr>\n",
              "      <th>68058</th>\n",
              "      <td>b0015z1ly8</td>\n",
              "      <td>i was expecting the minichews to be harder for...</td>\n",
              "      <td>0</td>\n",
              "    </tr>\n",
              "    <tr>\n",
              "      <th>121758</th>\n",
              "      <td>b001d0kg4q</td>\n",
              "      <td>pretty good selection and with the teas and th...</td>\n",
              "      <td>1</td>\n",
              "    </tr>\n",
              "  </tbody>\n",
              "</table>\n",
              "</div>"
            ],
            "text/plain": [
              "           prod_id                                            reviews  ratings\n",
              "7903    b000evqwhu  i bought them being familiar with the taste in...        1\n",
              "120460  b003vxe46y  i had bought pre bottled drinks with chia seed...        1\n",
              "62454   b000g2uuos  i am a vegetarian trying to work more protein ...        1\n",
              "68058   b0015z1ly8  i was expecting the minichews to be harder for...        0\n",
              "121758  b001d0kg4q  pretty good selection and with the teas and th...        1"
            ]
          },
          "metadata": {
            "tags": []
          },
          "execution_count": 7
        }
      ]
    },
    {
      "cell_type": "code",
      "metadata": {
        "id": "FQfkRSiOhwJ5"
      },
      "source": [],
      "execution_count": null,
      "outputs": []
    },
    {
      "cell_type": "code",
      "metadata": {
        "id": "XfQMvcFXhwG6"
      },
      "source": [],
      "execution_count": null,
      "outputs": []
    },
    {
      "cell_type": "markdown",
      "metadata": {
        "id": "4fprKQevhwoC"
      },
      "source": [
        "## CONVERTING TEXT INTO INTEGER EMBEDDING:"
      ]
    },
    {
      "cell_type": "code",
      "metadata": {
        "colab": {
          "base_uri": "https://localhost:8080/"
        },
        "id": "XEoaoALzc0lm",
        "outputId": "92d0977e-60a3-4880-b3ae-eaa459f72d7d"
      },
      "source": [
        "corpus = df_nlp_tr.reviews.values\n",
        "dictO_word_embeds = fn_embed_words_as_nums(corpus)"
      ],
      "execution_count": null,
      "outputs": [
        {
          "output_type": "stream",
          "text": [
            "100% (147659 of 147659) |################| Elapsed Time: 0:00:02 Time:  0:00:02\n"
          ],
          "name": "stderr"
        }
      ]
    },
    {
      "cell_type": "code",
      "metadata": {
        "colab": {
          "base_uri": "https://localhost:8080/"
        },
        "id": "0sFuqha-c0jn",
        "outputId": "9cd80410-edf7-4120-e8b0-eeab32d59c1f"
      },
      "source": [
        "vocab_size = len(dictO_word_embeds)\n",
        "vocab_size"
      ],
      "execution_count": null,
      "outputs": [
        {
          "output_type": "execute_result",
          "data": {
            "text/plain": [
              "65854"
            ]
          },
          "metadata": {
            "tags": []
          },
          "execution_count": 9
        }
      ]
    },
    {
      "cell_type": "code",
      "metadata": {
        "colab": {
          "base_uri": "https://localhost:8080/"
        },
        "id": "K01kHJChc0ga",
        "outputId": "fd9d4350-6b66-4755-8e19-b74f79eed859"
      },
      "source": [
        "tr_corpus = df_nlp_tr.reviews.values\n",
        "ts_corpus = df_nlp_ts.reviews.values\n",
        "\n",
        "tr_embeddings = fn_embed_docs(tr_corpus, dictO_word_embeds, max_lg = 50)\n",
        "ts_embeddings = fn_embed_docs(ts_corpus, dictO_word_embeds, max_lg = 50)\n",
        "\n",
        "tr_embeddings.shape, ts_embeddings.shape"
      ],
      "execution_count": null,
      "outputs": [
        {
          "output_type": "stream",
          "text": [
            "100% (147659 of 147659) |################| Elapsed Time: 0:00:05 Time:  0:00:05\n",
            "100% (36915 of 36915) |##################| Elapsed Time: 0:00:01 Time:  0:00:01\n"
          ],
          "name": "stderr"
        },
        {
          "output_type": "execute_result",
          "data": {
            "text/plain": [
              "((147659, 50), (36915, 50))"
            ]
          },
          "metadata": {
            "tags": []
          },
          "execution_count": 10
        }
      ]
    },
    {
      "cell_type": "code",
      "metadata": {
        "colab": {
          "base_uri": "https://localhost:8080/"
        },
        "id": "dHDVTt7Qc0do",
        "outputId": "e0733f5f-693f-45a7-e1ea-9a7b06e1b033"
      },
      "source": [
        "tr_embeddings"
      ],
      "execution_count": null,
      "outputs": [
        {
          "output_type": "execute_result",
          "data": {
            "text/plain": [
              "array([[   1,    2,    3, ...,   10,   40,   41],\n",
              "       [  45,   47,   83, ...,   98,   10,  110],\n",
              "       [ 176,   72,   10, ...,  230,  231,    7],\n",
              "       ...,\n",
              "       [   0,    0,    0, ...,  161,   20, 1060],\n",
              "       [   0,    0,    0, ...,  548,   26,  151],\n",
              "       [  52, 1504,   47, ...,  102,   52,  203]], dtype=int32)"
            ]
          },
          "metadata": {
            "tags": []
          },
          "execution_count": 11
        }
      ]
    },
    {
      "cell_type": "code",
      "metadata": {
        "id": "YOlwsGat2KJX",
        "colab": {
          "base_uri": "https://localhost:8080/"
        },
        "outputId": "f211b9b3-4265-439d-ac10-e34f504defe2"
      },
      "source": [
        "y_tr = df_nlp_tr.ratings.values\n",
        "y_ts = df_nlp_ts.ratings.values\n",
        "\n",
        "y_tr.shape, y_ts.shape"
      ],
      "execution_count": null,
      "outputs": [
        {
          "output_type": "execute_result",
          "data": {
            "text/plain": [
              "((147659,), (36915,))"
            ]
          },
          "metadata": {
            "tags": []
          },
          "execution_count": 12
        }
      ]
    },
    {
      "cell_type": "code",
      "metadata": {
        "colab": {
          "base_uri": "https://localhost:8080/"
        },
        "id": "pGOvYJBodmXI",
        "outputId": "5befc413-cc81-48f1-b4cb-0fc10696a822"
      },
      "source": [
        "df_tr = pd.DataFrame(tr_embeddings).assign(labels = y_tr)\n",
        "df_ts = pd.DataFrame(ts_embeddings).assign(labels = y_ts)\n",
        "\n",
        "df_tr.shape, df_ts.shape"
      ],
      "execution_count": null,
      "outputs": [
        {
          "output_type": "execute_result",
          "data": {
            "text/plain": [
              "((147659, 51), (36915, 51))"
            ]
          },
          "metadata": {
            "tags": []
          },
          "execution_count": 13
        }
      ]
    },
    {
      "cell_type": "code",
      "metadata": {
        "id": "wvy3XmMZdmUq"
      },
      "source": [],
      "execution_count": null,
      "outputs": []
    },
    {
      "cell_type": "code",
      "metadata": {
        "id": "Z5YfBFqudmSI"
      },
      "source": [],
      "execution_count": null,
      "outputs": []
    },
    {
      "cell_type": "markdown",
      "metadata": {
        "id": "swVuMehFA1y2"
      },
      "source": [
        "# MODEL:  (STACKED LSTMs)"
      ]
    },
    {
      "cell_type": "code",
      "metadata": {
        "id": "TSA9yGdTa_4h"
      },
      "source": [
        "from tensorflow.keras.models import Sequential\n",
        "from tensorflow.keras.layers import Dense, Embedding, LSTM, Dropout"
      ],
      "execution_count": null,
      "outputs": []
    },
    {
      "cell_type": "code",
      "metadata": {
        "id": "16NXxvsoHYvE",
        "colab": {
          "base_uri": "https://localhost:8080/"
        },
        "outputId": "63dcfb40-533a-455a-bfc1-2f970922debf"
      },
      "source": [
        "model = Sequential(name = 'rnn_a')\n",
        "\n",
        "model.add(Embedding(vocab_size+1, 100))\n",
        "\n",
        "model.add(LSTM(100, return_sequences=True))\n",
        "model.add(Dropout(0.1))\n",
        "model.add(LSTM(100, return_sequences=True))\n",
        "model.add(LSTM(50, return_sequences=False))\n",
        "\n",
        "model.add(Dense(1, activation='sigmoid'))\n",
        "\n",
        "model.summary()"
      ],
      "execution_count": null,
      "outputs": [
        {
          "output_type": "stream",
          "text": [
            "Model: \"rnn_a\"\n",
            "_________________________________________________________________\n",
            "Layer (type)                 Output Shape              Param #   \n",
            "=================================================================\n",
            "embedding_3 (Embedding)      (None, None, 100)         6585500   \n",
            "_________________________________________________________________\n",
            "lstm_9 (LSTM)                (None, None, 100)         80400     \n",
            "_________________________________________________________________\n",
            "dropout_3 (Dropout)          (None, None, 100)         0         \n",
            "_________________________________________________________________\n",
            "lstm_10 (LSTM)               (None, None, 100)         80400     \n",
            "_________________________________________________________________\n",
            "lstm_11 (LSTM)               (None, 50)                30200     \n",
            "_________________________________________________________________\n",
            "dense_3 (Dense)              (None, 1)                 51        \n",
            "=================================================================\n",
            "Total params: 6,776,551\n",
            "Trainable params: 6,776,551\n",
            "Non-trainable params: 0\n",
            "_________________________________________________________________\n"
          ],
          "name": "stdout"
        }
      ]
    },
    {
      "cell_type": "code",
      "metadata": {
        "id": "i4xHg-gJxu2y"
      },
      "source": [],
      "execution_count": null,
      "outputs": []
    },
    {
      "cell_type": "code",
      "metadata": {
        "id": "AQRPPd3Rxuyv"
      },
      "source": [],
      "execution_count": null,
      "outputs": []
    },
    {
      "cell_type": "markdown",
      "metadata": {
        "id": "JnUUfjsMBrS_"
      },
      "source": [
        "### TRAINING & EVAL:"
      ]
    },
    {
      "cell_type": "code",
      "metadata": {
        "colab": {
          "base_uri": "https://localhost:8080/",
          "height": 94,
          "referenced_widgets": [
            "6362116b06c84350910d34b999798c3f",
            "615b5ad557fa4aa2ba1c7ce07497ba0f",
            "48c7002c331b4b1cac81cb68fe2ffb32",
            "9927873163a649c7aaef79bff040e986",
            "381c287f707b42c5932f51590411209f",
            "b79b49ede1914302befd75be5e700bbb",
            "836451b4d53645bcae112fa563cbfd53",
            "4e3dbf187168441a916fdf8751366dc7"
          ]
        },
        "id": "gkoyh4DDU8rG",
        "outputId": "b2c27e30-3e36-4292-d17d-b0e1f796ccd7"
      },
      "source": [
        "model = model\n",
        "optimizer=tf.keras.optimizers.Adamax()\n",
        "\n",
        "df_tr_, df_ts_ = df_tr, df_ts\n",
        "model_save_path =  data_path + 'RNN_MODELS/model_a/'\n",
        "\n",
        "batch_size, epochs = 150, 15\n",
        "class_bias = {0:87, 1:13}\n",
        "\n",
        "z = fn_NN_binary_clf(model, optimizer, df_tr_, df_ts_, model_save_path,\n",
        "                     batch_size=batch_size, epochs=epochs,\n",
        "                     class_weight = class_bias)\n",
        "\n",
        "df_performance_model_rnn_2, df_history_rnn_2 = z"
      ],
      "execution_count": null,
      "outputs": [
        {
          "output_type": "display_data",
          "data": {
            "application/vnd.jupyter.widget-view+json": {
              "model_id": "6362116b06c84350910d34b999798c3f",
              "version_minor": 0,
              "version_major": 2
            },
            "text/plain": [
              "HBox(children=(FloatProgress(value=1.0, bar_style='info', max=1.0), HTML(value='')))"
            ]
          },
          "metadata": {
            "tags": []
          }
        },
        {
          "output_type": "stream",
          "text": [
            "\n"
          ],
          "name": "stdout"
        }
      ]
    },
    {
      "cell_type": "code",
      "metadata": {
        "id": "TKERTNKIZB0x"
      },
      "source": [],
      "execution_count": null,
      "outputs": []
    },
    {
      "cell_type": "code",
      "metadata": {
        "id": "Qe6Bi9e3hRHd"
      },
      "source": [],
      "execution_count": null,
      "outputs": []
    },
    {
      "cell_type": "markdown",
      "metadata": {
        "id": "Rxh0mt9AhLZ5"
      },
      "source": [
        "## STATISTICAL PERFORMANCE  OVERVIEW"
      ]
    },
    {
      "cell_type": "code",
      "metadata": {
        "colab": {
          "base_uri": "https://localhost:8080/",
          "height": 287
        },
        "id": "OgR1CgstxZUQ",
        "outputId": "50488948-a2cd-4de2-fcb2-c836df40a095"
      },
      "source": [
        "regd_columns = 'tr_prec_1 tr_rec_1 tr_prec_0 tr_rec_0 diff_rec_1 diff_rec_0'.split()\n",
        "df_performance_model_rnn_2.loc[:, regd_columns].describe()"
      ],
      "execution_count": null,
      "outputs": [
        {
          "output_type": "execute_result",
          "data": {
            "text/html": [
              "<div>\n",
              "<style scoped>\n",
              "    .dataframe tbody tr th:only-of-type {\n",
              "        vertical-align: middle;\n",
              "    }\n",
              "\n",
              "    .dataframe tbody tr th {\n",
              "        vertical-align: top;\n",
              "    }\n",
              "\n",
              "    .dataframe thead th {\n",
              "        text-align: right;\n",
              "    }\n",
              "</style>\n",
              "<table border=\"1\" class=\"dataframe\">\n",
              "  <thead>\n",
              "    <tr style=\"text-align: right;\">\n",
              "      <th></th>\n",
              "      <th>tr_prec_1</th>\n",
              "      <th>tr_rec_1</th>\n",
              "      <th>tr_prec_0</th>\n",
              "      <th>tr_rec_0</th>\n",
              "      <th>diff_rec_1</th>\n",
              "      <th>diff_rec_0</th>\n",
              "    </tr>\n",
              "  </thead>\n",
              "  <tbody>\n",
              "    <tr>\n",
              "      <th>count</th>\n",
              "      <td>15.000000</td>\n",
              "      <td>15.000000</td>\n",
              "      <td>15.000000</td>\n",
              "      <td>15.000000</td>\n",
              "      <td>15.000000</td>\n",
              "      <td>15.000000</td>\n",
              "    </tr>\n",
              "    <tr>\n",
              "      <th>mean</th>\n",
              "      <td>0.984756</td>\n",
              "      <td>0.849473</td>\n",
              "      <td>0.511704</td>\n",
              "      <td>0.922136</td>\n",
              "      <td>0.033688</td>\n",
              "      <td>0.125656</td>\n",
              "    </tr>\n",
              "    <tr>\n",
              "      <th>std</th>\n",
              "      <td>0.010158</td>\n",
              "      <td>0.048003</td>\n",
              "      <td>0.086707</td>\n",
              "      <td>0.047395</td>\n",
              "      <td>0.019906</td>\n",
              "      <td>0.075486</td>\n",
              "    </tr>\n",
              "    <tr>\n",
              "      <th>min</th>\n",
              "      <td>0.959778</td>\n",
              "      <td>0.729235</td>\n",
              "      <td>0.330004</td>\n",
              "      <td>0.813570</td>\n",
              "      <td>0.000488</td>\n",
              "      <td>0.002741</td>\n",
              "    </tr>\n",
              "    <tr>\n",
              "      <th>25%</th>\n",
              "      <td>0.979392</td>\n",
              "      <td>0.825256</td>\n",
              "      <td>0.456212</td>\n",
              "      <td>0.894090</td>\n",
              "      <td>0.023015</td>\n",
              "      <td>0.066479</td>\n",
              "    </tr>\n",
              "    <tr>\n",
              "      <th>50%</th>\n",
              "      <td>0.987048</td>\n",
              "      <td>0.857208</td>\n",
              "      <td>0.516727</td>\n",
              "      <td>0.931381</td>\n",
              "      <td>0.028927</td>\n",
              "      <td>0.139738</td>\n",
              "    </tr>\n",
              "    <tr>\n",
              "      <th>75%</th>\n",
              "      <td>0.992798</td>\n",
              "      <td>0.884281</td>\n",
              "      <td>0.576604</td>\n",
              "      <td>0.960882</td>\n",
              "      <td>0.048543</td>\n",
              "      <td>0.179482</td>\n",
              "    </tr>\n",
              "    <tr>\n",
              "      <th>max</th>\n",
              "      <td>0.995830</td>\n",
              "      <td>0.909256</td>\n",
              "      <td>0.638272</td>\n",
              "      <td>0.976774</td>\n",
              "      <td>0.064146</td>\n",
              "      <td>0.263945</td>\n",
              "    </tr>\n",
              "  </tbody>\n",
              "</table>\n",
              "</div>"
            ],
            "text/plain": [
              "       tr_prec_1   tr_rec_1  tr_prec_0   tr_rec_0  diff_rec_1  diff_rec_0\n",
              "count  15.000000  15.000000  15.000000  15.000000   15.000000   15.000000\n",
              "mean    0.984756   0.849473   0.511704   0.922136    0.033688    0.125656\n",
              "std     0.010158   0.048003   0.086707   0.047395    0.019906    0.075486\n",
              "min     0.959778   0.729235   0.330004   0.813570    0.000488    0.002741\n",
              "25%     0.979392   0.825256   0.456212   0.894090    0.023015    0.066479\n",
              "50%     0.987048   0.857208   0.516727   0.931381    0.028927    0.139738\n",
              "75%     0.992798   0.884281   0.576604   0.960882    0.048543    0.179482\n",
              "max     0.995830   0.909256   0.638272   0.976774    0.064146    0.263945"
            ]
          },
          "metadata": {
            "tags": []
          },
          "execution_count": 50
        }
      ]
    },
    {
      "cell_type": "code",
      "metadata": {
        "id": "3Kk88bsxxYj_"
      },
      "source": [],
      "execution_count": null,
      "outputs": []
    },
    {
      "cell_type": "code",
      "metadata": {
        "id": "NobL_mo9xqUx"
      },
      "source": [],
      "execution_count": null,
      "outputs": []
    },
    {
      "cell_type": "code",
      "metadata": {
        "id": "lyfB3bujxqIO"
      },
      "source": [],
      "execution_count": null,
      "outputs": []
    },
    {
      "cell_type": "markdown",
      "metadata": {
        "id": "4SzktDlkxZFp"
      },
      "source": [
        "# FILTERING OUT BEST MODELS:"
      ]
    },
    {
      "cell_type": "code",
      "metadata": {
        "colab": {
          "base_uri": "https://localhost:8080/",
          "height": 107
        },
        "id": "fMl5Y8mE6gTI",
        "outputId": "3b327fb1-ef22-4742-de07-0bbe4f12fbbb"
      },
      "source": [
        "dff = df_performance_model_rnn_2\n",
        "df1 = dff[dff.diff_rec_0 < 0.06]\n",
        "df2 = df1[df1.diff_rec_1 < 0.06]\n",
        "df3 = df2[df2.tr_rec_0 > 0.6]\n",
        "df_filtered_2 = df3[df3.tr_rec_0 > 0.6]\n",
        "df_filtered_2.loc[:, regd_columns]"
      ],
      "execution_count": null,
      "outputs": [
        {
          "output_type": "execute_result",
          "data": {
            "text/html": [
              "<div>\n",
              "<style scoped>\n",
              "    .dataframe tbody tr th:only-of-type {\n",
              "        vertical-align: middle;\n",
              "    }\n",
              "\n",
              "    .dataframe tbody tr th {\n",
              "        vertical-align: top;\n",
              "    }\n",
              "\n",
              "    .dataframe thead th {\n",
              "        text-align: right;\n",
              "    }\n",
              "</style>\n",
              "<table border=\"1\" class=\"dataframe\">\n",
              "  <thead>\n",
              "    <tr style=\"text-align: right;\">\n",
              "      <th></th>\n",
              "      <th>tr_prec_1</th>\n",
              "      <th>tr_rec_1</th>\n",
              "      <th>tr_prec_0</th>\n",
              "      <th>tr_rec_0</th>\n",
              "      <th>diff_rec_1</th>\n",
              "      <th>diff_rec_0</th>\n",
              "    </tr>\n",
              "  </thead>\n",
              "  <tbody>\n",
              "    <tr>\n",
              "      <th>rnn_a_epoch_1</th>\n",
              "      <td>0.971793</td>\n",
              "      <td>0.794881</td>\n",
              "      <td>0.407122</td>\n",
              "      <td>0.859252</td>\n",
              "      <td>0.028927</td>\n",
              "      <td>0.002741</td>\n",
              "    </tr>\n",
              "    <tr>\n",
              "      <th>rnn_a_epoch_3</th>\n",
              "      <td>0.978286</td>\n",
              "      <td>0.821422</td>\n",
              "      <td>0.449293</td>\n",
              "      <td>0.888777</td>\n",
              "      <td>0.022929</td>\n",
              "      <td>0.046884</td>\n",
              "    </tr>\n",
              "  </tbody>\n",
              "</table>\n",
              "</div>"
            ],
            "text/plain": [
              "               tr_prec_1  tr_rec_1  tr_prec_0  tr_rec_0  diff_rec_1  diff_rec_0\n",
              "rnn_a_epoch_1   0.971793  0.794881   0.407122  0.859252    0.028927    0.002741\n",
              "rnn_a_epoch_3   0.978286  0.821422   0.449293  0.888777    0.022929    0.046884"
            ]
          },
          "metadata": {
            "tags": []
          },
          "execution_count": 51
        }
      ]
    },
    {
      "cell_type": "code",
      "metadata": {
        "id": "hiu3Ta6CKoIy"
      },
      "source": [],
      "execution_count": null,
      "outputs": []
    },
    {
      "cell_type": "code",
      "metadata": {
        "id": "gffA0_LHkkr8"
      },
      "source": [],
      "execution_count": null,
      "outputs": []
    },
    {
      "cell_type": "markdown",
      "metadata": {
        "id": "jIIfcb0YxesQ"
      },
      "source": [
        "## MODEL EVALUATION:"
      ]
    },
    {
      "cell_type": "code",
      "metadata": {
        "id": "HFY2UHdVe8pQ"
      },
      "source": [
        "def fn_load(model_name, model_save_path = model_save_path):\n",
        "    model_name = model_save_path + model_name + '.h5'\n",
        "    return keras.models.load_model(model_name)"
      ],
      "execution_count": null,
      "outputs": []
    },
    {
      "cell_type": "code",
      "metadata": {
        "colab": {
          "base_uri": "https://localhost:8080/",
          "height": 600
        },
        "id": "eZXIxXLSsGjP",
        "outputId": "f267a535-a0f4-473b-9e9e-4d9c22d2c051"
      },
      "source": [
        "kwargs = dict(model_save_path = data_path + 'RNN_MODELS/model_a/')\n",
        "listO_filtered_models_2 = [fn_load(i, **kwargs) for i in list(df_filtered_2.index)]\n",
        "df_Xy_ = df_tr\n",
        "legend = list(df_filtered_2.index)\n",
        "\n",
        "fn_performance_models_data(listO_filtered_models_2, df_Xy_, legend, NN=True)"
      ],
      "execution_count": null,
      "outputs": [
        {
          "output_type": "display_data",
          "data": {
            "image/png": "[encoded data removed]",
            "text/plain": [
              "<Figure size 1080x720 with 4 Axes>"
            ]
          },
          "metadata": {
            "tags": []
          }
        }
      ]
    },
    {
      "cell_type": "code",
      "metadata": {
        "id": "ft-Fe2WVjEoU"
      },
      "source": [],
      "execution_count": null,
      "outputs": []
    },
    {
      "cell_type": "code",
      "metadata": {
        "id": "hx_l-SNve_NY"
      },
      "source": [],
      "execution_count": null,
      "outputs": []
    },
    {
      "cell_type": "code",
      "metadata": {
        "id": "Bl20-0F4xjXH"
      },
      "source": [],
      "execution_count": null,
      "outputs": []
    },
    {
      "cell_type": "markdown",
      "metadata": {
        "id": "DrXXDrTjxj89"
      },
      "source": [
        "## MODEL TESTING:"
      ]
    },
    {
      "cell_type": "code",
      "metadata": {
        "colab": {
          "base_uri": "https://localhost:8080/",
          "height": 196
        },
        "id": "p_sXknoGyYdt",
        "outputId": "6163cb5e-03d6-4a1a-ae0d-d8a3f0d812b3"
      },
      "source": [
        "df_Xy_ = df_tr_\n",
        "\n",
        "model_ =  listO_filtered_models_2[-1]\n",
        "thresh = 0.5\n",
        "\n",
        "fn_test_model_binary_clf(df_Xy_, model_, threshold_class_1 = thresh)"
      ],
      "execution_count": null,
      "outputs": [
        {
          "output_type": "stream",
          "text": [
            "--------------------\n",
            "LOGLOSS : 0.3453\n",
            "ACCURACY: 83.979\n",
            "--------------------\n",
            "\n"
          ],
          "name": "stdout"
        },
        {
          "output_type": "execute_result",
          "data": {
            "text/html": [
              "<div>\n",
              "<style scoped>\n",
              "    .dataframe tbody tr th:only-of-type {\n",
              "        vertical-align: middle;\n",
              "    }\n",
              "\n",
              "    .dataframe tbody tr th {\n",
              "        vertical-align: top;\n",
              "    }\n",
              "\n",
              "    .dataframe thead th {\n",
              "        text-align: right;\n",
              "    }\n",
              "</style>\n",
              "<table border=\"1\" class=\"dataframe\">\n",
              "  <thead>\n",
              "    <tr style=\"text-align: right;\">\n",
              "      <th></th>\n",
              "      <th>prec</th>\n",
              "      <th>rec</th>\n",
              "    </tr>\n",
              "  </thead>\n",
              "  <tbody>\n",
              "    <tr>\n",
              "      <th>class_0</th>\n",
              "      <td>46.4</td>\n",
              "      <td>88.9</td>\n",
              "    </tr>\n",
              "    <tr>\n",
              "      <th>class_1</th>\n",
              "      <td>97.9</td>\n",
              "      <td>83.2</td>\n",
              "    </tr>\n",
              "  </tbody>\n",
              "</table>\n",
              "</div>"
            ],
            "text/plain": [
              "         prec   rec\n",
              "class_0  46.4  88.9\n",
              "class_1  97.9  83.2"
            ]
          },
          "metadata": {
            "tags": []
          },
          "execution_count": 56
        }
      ]
    },
    {
      "cell_type": "code",
      "metadata": {
        "colab": {
          "base_uri": "https://localhost:8080/",
          "height": 196
        },
        "id": "1av-_p_fikvd",
        "outputId": "f9d6eb5b-94a2-4b81-c234-a140456230a3"
      },
      "source": [
        "df_Xy_ = df_ts_\n",
        "\n",
        "fn_test_model_binary_clf(df_Xy_, model_, threshold_class_1 = thresh)"
      ],
      "execution_count": null,
      "outputs": [
        {
          "output_type": "stream",
          "text": [
            "--------------------\n",
            "LOGLOSS : 0.374\n",
            "ACCURACY: 81.983\n",
            "--------------------\n",
            "\n"
          ],
          "name": "stdout"
        },
        {
          "output_type": "execute_result",
          "data": {
            "text/html": [
              "<div>\n",
              "<style scoped>\n",
              "    .dataframe tbody tr th:only-of-type {\n",
              "        vertical-align: middle;\n",
              "    }\n",
              "\n",
              "    .dataframe tbody tr th {\n",
              "        vertical-align: top;\n",
              "    }\n",
              "\n",
              "    .dataframe thead th {\n",
              "        text-align: right;\n",
              "    }\n",
              "</style>\n",
              "<table border=\"1\" class=\"dataframe\">\n",
              "  <thead>\n",
              "    <tr style=\"text-align: right;\">\n",
              "      <th></th>\n",
              "      <th>prec</th>\n",
              "      <th>rec</th>\n",
              "    </tr>\n",
              "  </thead>\n",
              "  <tbody>\n",
              "    <tr>\n",
              "      <th>class_0</th>\n",
              "      <td>42.7</td>\n",
              "      <td>81.4</td>\n",
              "    </tr>\n",
              "    <tr>\n",
              "      <th>class_1</th>\n",
              "      <td>96.4</td>\n",
              "      <td>82.1</td>\n",
              "    </tr>\n",
              "  </tbody>\n",
              "</table>\n",
              "</div>"
            ],
            "text/plain": [
              "         prec   rec\n",
              "class_0  42.7  81.4\n",
              "class_1  96.4  82.1"
            ]
          },
          "metadata": {
            "tags": []
          },
          "execution_count": 57
        }
      ]
    },
    {
      "cell_type": "code",
      "metadata": {
        "id": "nSFT9ItPiypE"
      },
      "source": [],
      "execution_count": null,
      "outputs": []
    },
    {
      "cell_type": "code",
      "metadata": {
        "id": "yv9j9Qhcgenv"
      },
      "source": [],
      "execution_count": null,
      "outputs": []
    },
    {
      "cell_type": "code",
      "metadata": {
        "id": "b2DyMP50iym9"
      },
      "source": [],
      "execution_count": null,
      "outputs": []
    },
    {
      "cell_type": "code",
      "metadata": {
        "id": "NJ0UBKiFr-QR"
      },
      "source": [],
      "execution_count": null,
      "outputs": []
    },
    {
      "cell_type": "markdown",
      "metadata": {
        "id": "wYf-D45YsIi3"
      },
      "source": [
        "-----------"
      ]
    },
    {
      "cell_type": "markdown",
      "metadata": {
        "id": "CEpP98-Vr_Eh"
      },
      "source": [
        "# BIDIRECTIONAL LSTM:"
      ]
    },
    {
      "cell_type": "code",
      "metadata": {
        "id": "pdcElWZDXXkj"
      },
      "source": [
        "from tensorflow.keras.layers import  LSTM"
      ],
      "execution_count": null,
      "outputs": []
    },
    {
      "cell_type": "code",
      "metadata": {
        "id": "J3R8cUAkeyit",
        "colab": {
          "base_uri": "https://localhost:8080/"
        },
        "outputId": "c9a58ea6-fff9-4086-926d-d572f12843b2"
      },
      "source": [
        "model_b = Sequential(name = 'rnn_b')\n",
        "\n",
        "model_b.add(Embedding(vocab_size+1, 100))\n",
        "\n",
        "model_b.add(Bidirectional(LSTM(100, return_sequences=True)))\n",
        "model_b.add(keras.layers.Dropout(0.1))\n",
        "\n",
        "model_b.add(LSTM(100, return_sequences=True))\n",
        "model_b.add(LSTM(50, return_sequences=False))\n",
        "\n",
        "model_b.add(Dense(1, activation='sigmoid'))\n",
        "\n",
        "model_b.summary()"
      ],
      "execution_count": null,
      "outputs": [
        {
          "output_type": "stream",
          "text": [
            "Model: \"rnn_b\"\n",
            "_________________________________________________________________\n",
            "Layer (type)                 Output Shape              Param #   \n",
            "=================================================================\n",
            "embedding (Embedding)        (None, None, 100)         6585500   \n",
            "_________________________________________________________________\n",
            "bidirectional (Bidirectional (None, None, 200)         160800    \n",
            "_________________________________________________________________\n",
            "dropout (Dropout)            (None, None, 200)         0         \n",
            "_________________________________________________________________\n",
            "lstm_1 (LSTM)                (None, None, 100)         120400    \n",
            "_________________________________________________________________\n",
            "lstm_2 (LSTM)                (None, 50)                30200     \n",
            "_________________________________________________________________\n",
            "dense (Dense)                (None, 1)                 51        \n",
            "=================================================================\n",
            "Total params: 6,896,951\n",
            "Trainable params: 6,896,951\n",
            "Non-trainable params: 0\n",
            "_________________________________________________________________\n"
          ],
          "name": "stdout"
        }
      ]
    },
    {
      "cell_type": "code",
      "metadata": {
        "colab": {
          "base_uri": "https://localhost:8080/",
          "height": 94,
          "referenced_widgets": [
            "11716cc246e94176ad96d22021fde60f",
            "3c41c245218a4e54bb252139d71c867a",
            "ea5115d7b9994e77bc8b0de2acdee83c",
            "e9b1f3f6001b41f3a0be1cf6234e2e38",
            "770e56d18d574bd6a333719d7f2611f8",
            "5fe00518d38c488eb5e8cda1071123aa",
            "92552b31bab94ff99bf4ca0710204b37",
            "19c328d15f854200ba7c3d053e654eaf"
          ]
        },
        "id": "0l_A0iJCqEq5",
        "outputId": "288a1a33-0a1a-447b-e1dc-3a5bcc43f0e5"
      },
      "source": [
        "model = model_b\n",
        "optimizer=tf.keras.optimizers.Adamax()\n",
        "\n",
        "df_tr_, df_ts_ = df_tr, df_ts\n",
        "model_save_path =  data_path + 'RNN_MODELS/model_b/'\n",
        "\n",
        "batch_size, epochs = 150, 5\n",
        "class_bias = {0:87, 1:13}\n",
        "\n",
        "z = fn_NN_binary_clf(model, optimizer, df_tr_, df_ts_, model_save_path,\n",
        "                     batch_size=batch_size, epochs=epochs,\n",
        "                     class_weight = class_bias)\n",
        "\n",
        "df_performance_model_rnn_b, df_history_rnn_b = z"
      ],
      "execution_count": null,
      "outputs": [
        {
          "output_type": "display_data",
          "data": {
            "application/vnd.jupyter.widget-view+json": {
              "model_id": "11716cc246e94176ad96d22021fde60f",
              "version_minor": 0,
              "version_major": 2
            },
            "text/plain": [
              "HBox(children=(FloatProgress(value=1.0, bar_style='info', max=1.0), HTML(value='')))"
            ]
          },
          "metadata": {
            "tags": []
          }
        },
        {
          "output_type": "stream",
          "text": [
            "\n"
          ],
          "name": "stdout"
        }
      ]
    },
    {
      "cell_type": "code",
      "metadata": {
        "id": "TnXFYLjer2_r"
      },
      "source": [],
      "execution_count": null,
      "outputs": []
    },
    {
      "cell_type": "code",
      "metadata": {
        "id": "sM3E5-wur2yY"
      },
      "source": [
        "regd_columns = 'tr_prec_1 tr_rec_1 tr_prec_0 tr_rec_0 diff_rec_1 diff_rec_0'.split()"
      ],
      "execution_count": null,
      "outputs": []
    },
    {
      "cell_type": "code",
      "metadata": {
        "colab": {
          "base_uri": "https://localhost:8080/",
          "height": 137
        },
        "id": "2KZ4GDYJqd7m",
        "outputId": "e0d256a5-a556-4661-ef6e-cba0062483a9"
      },
      "source": [
        "dff = df_performance_model_rnn_b\n",
        "df1 = dff[dff.diff_rec_0 < 0.06]\n",
        "df2 = df1[df1.diff_rec_1 < 0.06]\n",
        "df3 = df2[df2.tr_rec_0 > 0.6]\n",
        "df_filtered_b = df3[df3.tr_rec_0 > 0.6]\n",
        "df_filtered_b.loc[:, regd_columns]"
      ],
      "execution_count": null,
      "outputs": [
        {
          "output_type": "execute_result",
          "data": {
            "text/html": [
              "<div>\n",
              "<style scoped>\n",
              "    .dataframe tbody tr th:only-of-type {\n",
              "        vertical-align: middle;\n",
              "    }\n",
              "\n",
              "    .dataframe tbody tr th {\n",
              "        vertical-align: top;\n",
              "    }\n",
              "\n",
              "    .dataframe thead th {\n",
              "        text-align: right;\n",
              "    }\n",
              "</style>\n",
              "<table border=\"1\" class=\"dataframe\">\n",
              "  <thead>\n",
              "    <tr style=\"text-align: right;\">\n",
              "      <th></th>\n",
              "      <th>tr_prec_1</th>\n",
              "      <th>tr_rec_1</th>\n",
              "      <th>tr_prec_0</th>\n",
              "      <th>tr_rec_0</th>\n",
              "      <th>diff_rec_1</th>\n",
              "      <th>diff_rec_0</th>\n",
              "    </tr>\n",
              "  </thead>\n",
              "  <tbody>\n",
              "    <tr>\n",
              "      <th>rnn_b_epoch_1</th>\n",
              "      <td>0.972631</td>\n",
              "      <td>0.798917</td>\n",
              "      <td>0.412942</td>\n",
              "      <td>0.862858</td>\n",
              "      <td>0.012976</td>\n",
              "      <td>0.038277</td>\n",
              "    </tr>\n",
              "    <tr>\n",
              "      <th>rnn_b_epoch_2</th>\n",
              "      <td>0.976975</td>\n",
              "      <td>0.809385</td>\n",
              "      <td>0.431787</td>\n",
              "      <td>0.883631</td>\n",
              "      <td>0.023662</td>\n",
              "      <td>0.032699</td>\n",
              "    </tr>\n",
              "    <tr>\n",
              "      <th>rnn_b_epoch_3</th>\n",
              "      <td>0.979522</td>\n",
              "      <td>0.821973</td>\n",
              "      <td>0.451834</td>\n",
              "      <td>0.895172</td>\n",
              "      <td>0.039308</td>\n",
              "      <td>0.040777</td>\n",
              "    </tr>\n",
              "  </tbody>\n",
              "</table>\n",
              "</div>"
            ],
            "text/plain": [
              "               tr_prec_1  tr_rec_1  tr_prec_0  tr_rec_0  diff_rec_1  diff_rec_0\n",
              "rnn_b_epoch_1   0.972631  0.798917   0.412942  0.862858    0.012976    0.038277\n",
              "rnn_b_epoch_2   0.976975  0.809385   0.431787  0.883631    0.023662    0.032699\n",
              "rnn_b_epoch_3   0.979522  0.821973   0.451834  0.895172    0.039308    0.040777"
            ]
          },
          "metadata": {
            "tags": []
          },
          "execution_count": 20
        }
      ]
    },
    {
      "cell_type": "code",
      "metadata": {
        "id": "gKVEoAX-qd1X"
      },
      "source": [],
      "execution_count": null,
      "outputs": []
    },
    {
      "cell_type": "code",
      "metadata": {
        "id": "xTuvEUF7qdyT"
      },
      "source": [
        "def fn_load(model_name, model_save_path = model_save_path):\n",
        "    model_name = model_save_path + model_name + '.h5'\n",
        "    return keras.models.load_model(model_name)"
      ],
      "execution_count": null,
      "outputs": []
    },
    {
      "cell_type": "code",
      "metadata": {
        "colab": {
          "base_uri": "https://localhost:8080/",
          "height": 600
        },
        "id": "suWlQpB1qdvf",
        "outputId": "b38b2c9a-7e4c-4c48-9ac8-dacdc2dfd344"
      },
      "source": [
        "kwargs = dict(model_save_path = data_path + 'RNN_MODELS/model_b/')\n",
        "listO_filtered_models_b = [fn_load(i, **kwargs) for i in list(df_filtered_b.index)]\n",
        "df_Xy_ = df_tr\n",
        "legend = list(df_filtered_b.index)\n",
        "\n",
        "fn_performance_models_data(listO_filtered_models_b, df_Xy_, legend, NN=True)"
      ],
      "execution_count": null,
      "outputs": [
        {
          "output_type": "display_data",
          "data": {
            "image/png": "[encoded data removed]",
            "text/plain": [
              "<Figure size 1080x720 with 4 Axes>"
            ]
          },
          "metadata": {
            "tags": []
          }
        }
      ]
    },
    {
      "cell_type": "code",
      "metadata": {
        "id": "YTFCdu6Or6vG"
      },
      "source": [],
      "execution_count": null,
      "outputs": []
    },
    {
      "cell_type": "code",
      "metadata": {
        "id": "xLFVAcccsqut"
      },
      "source": [],
      "execution_count": null,
      "outputs": []
    },
    {
      "cell_type": "code",
      "metadata": {
        "colab": {
          "base_uri": "https://localhost:8080/",
          "height": 196
        },
        "id": "nNpMV0kfsqj_",
        "outputId": "62c5503b-12ff-4c0c-b99f-1060287c0954"
      },
      "source": [
        "df_Xy_ = df_tr\n",
        "\n",
        "model_ =  listO_filtered_models_b[-2]\n",
        "thresh = 0.5\n",
        "\n",
        "fn_test_model_binary_clf(df_Xy_, model_, threshold_class_1 = thresh)"
      ],
      "execution_count": null,
      "outputs": [
        {
          "output_type": "stream",
          "text": [
            "--------------------\n",
            "LOGLOSS : 0.3614\n",
            "ACCURACY: 83.062\n",
            "--------------------\n",
            "\n"
          ],
          "name": "stdout"
        },
        {
          "output_type": "execute_result",
          "data": {
            "text/html": [
              "<div>\n",
              "<style scoped>\n",
              "    .dataframe tbody tr th:only-of-type {\n",
              "        vertical-align: middle;\n",
              "    }\n",
              "\n",
              "    .dataframe tbody tr th {\n",
              "        vertical-align: top;\n",
              "    }\n",
              "\n",
              "    .dataframe thead th {\n",
              "        text-align: right;\n",
              "    }\n",
              "</style>\n",
              "<table border=\"1\" class=\"dataframe\">\n",
              "  <thead>\n",
              "    <tr style=\"text-align: right;\">\n",
              "      <th></th>\n",
              "      <th>prec</th>\n",
              "      <th>rec</th>\n",
              "    </tr>\n",
              "  </thead>\n",
              "  <tbody>\n",
              "    <tr>\n",
              "      <th>class_0</th>\n",
              "      <td>44.8</td>\n",
              "      <td>88.1</td>\n",
              "    </tr>\n",
              "    <tr>\n",
              "      <th>class_1</th>\n",
              "      <td>97.7</td>\n",
              "      <td>82.2</td>\n",
              "    </tr>\n",
              "  </tbody>\n",
              "</table>\n",
              "</div>"
            ],
            "text/plain": [
              "         prec   rec\n",
              "class_0  44.8  88.1\n",
              "class_1  97.7  82.2"
            ]
          },
          "metadata": {
            "tags": []
          },
          "execution_count": 25
        }
      ]
    },
    {
      "cell_type": "code",
      "metadata": {
        "colab": {
          "base_uri": "https://localhost:8080/",
          "height": 196
        },
        "id": "WG2s6tRQstJ-",
        "outputId": "762b92f7-4dff-4a8b-e58e-ef262d872827"
      },
      "source": [
        "df_Xy_ = df_ts\n",
        "\n",
        "fn_test_model_binary_clf(df_Xy_, model_, threshold_class_1 = thresh)"
      ],
      "execution_count": null,
      "outputs": [
        {
          "output_type": "stream",
          "text": [
            "--------------------\n",
            "LOGLOSS : 0.388\n",
            "ACCURACY: 81.368\n",
            "--------------------\n",
            "\n"
          ],
          "name": "stdout"
        },
        {
          "output_type": "execute_result",
          "data": {
            "text/html": [
              "<div>\n",
              "<style scoped>\n",
              "    .dataframe tbody tr th:only-of-type {\n",
              "        vertical-align: middle;\n",
              "    }\n",
              "\n",
              "    .dataframe tbody tr th {\n",
              "        vertical-align: top;\n",
              "    }\n",
              "\n",
              "    .dataframe thead th {\n",
              "        text-align: right;\n",
              "    }\n",
              "</style>\n",
              "<table border=\"1\" class=\"dataframe\">\n",
              "  <thead>\n",
              "    <tr style=\"text-align: right;\">\n",
              "      <th></th>\n",
              "      <th>prec</th>\n",
              "      <th>rec</th>\n",
              "    </tr>\n",
              "  </thead>\n",
              "  <tbody>\n",
              "    <tr>\n",
              "      <th>class_0</th>\n",
              "      <td>41.8</td>\n",
              "      <td>82.5</td>\n",
              "    </tr>\n",
              "    <tr>\n",
              "      <th>class_1</th>\n",
              "      <td>96.6</td>\n",
              "      <td>81.2</td>\n",
              "    </tr>\n",
              "  </tbody>\n",
              "</table>\n",
              "</div>"
            ],
            "text/plain": [
              "         prec   rec\n",
              "class_0  41.8  82.5\n",
              "class_1  96.6  81.2"
            ]
          },
          "metadata": {
            "tags": []
          },
          "execution_count": 26
        }
      ]
    },
    {
      "cell_type": "code",
      "metadata": {
        "id": "5umEffXqtoq9"
      },
      "source": [],
      "execution_count": null,
      "outputs": []
    }
  ]
}